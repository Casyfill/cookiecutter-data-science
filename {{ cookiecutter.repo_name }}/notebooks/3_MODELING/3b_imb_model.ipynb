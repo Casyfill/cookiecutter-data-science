{
 "cells": [
  {
   "cell_type": "code",
   "execution_count": 1,
   "id": "4b1f4399-afaa-4594-a06e-687944d8c876",
   "metadata": {},
   "outputs": [],
   "source": [
    "! export AWS_PROFILE='sedatalakeprodreadwrite'"
   ]
  },
  {
   "cell_type": "code",
   "execution_count": 2,
   "id": "9cdaffd3-8415-445d-99e1-dbbf8a9c4dab",
   "metadata": {},
   "outputs": [],
   "source": [
    "%load_ext autoreload\n",
    "%autoreload 2\n",
    "\n",
    "import pandas as pd\n",
    "import numpy as np\n",
    "from pathlib import Path\n",
    "\n",
    "from sklearn.base import clone\n",
    "from sklearn.model_selection import cross_validate\n",
    "from sklearn.model_selection import StratifiedKFold\n",
    "from sklearn.metrics import average_precision_score, roc_auc_score\n",
    "from sklearn.metrics import precision_recall_curve\n",
    "from sklearn.metrics import PrecisionRecallDisplay\n",
    "from sklearn.metrics import roc_curve\n",
    "from sklearn.metrics import RocCurveDisplay\n",
    "from sklearn.calibration import calibration_curve, CalibrationDisplay\n",
    "from sklearn.model_selection import train_test_split\n",
    "\n",
    "# import altair as alt\n",
    "import mlflow\n",
    "\n",
    "from sklearn.metrics import  make_scorer\n",
    "from lightgbm import LGBMRanker, LGBMClassifier #, __version__\n",
    "from lightgbm import plot_importance\n",
    "\n",
    "\n",
    "from sklearn.metrics import make_scorer, roc_auc_score, precision_score, recall_score\n",
    "average_precision_scorer = make_scorer(average_precision_score, average='macro')  #, average = 'weighted')\n",
    "roc_auc_scorer = make_scorer(roc_auc_score, average='macro') #average = 'weighted')\n",
    "\n",
    "# from mlflow_utils import train_log_model\n",
    "\n",
    "idx = pd.IndexSlice\n",
    "import pylab as plt"
   ]
  },
  {
   "cell_type": "code",
   "execution_count": 3,
   "id": "4042bcbb-1779-4468-aab8-96aa3811b378",
   "metadata": {},
   "outputs": [],
   "source": [
    "# import sys\n",
    "# sys.path.append('../')\n",
    "\n",
    "# # from propmatch.mlflowcli import log_mlflow\n",
    "from model import get_model"
   ]
  },
  {
   "cell_type": "code",
   "execution_count": 4,
   "id": "406fcc28-b0ad-4fac-8dfd-d74a3b06e608",
   "metadata": {},
   "outputs": [],
   "source": [
    "def precision_at_f(ytrue, y_score, feta=0.95):\n",
    "    mask = y_score >= feta\n",
    "    return ytrue[mask].mean()\n",
    "\n",
    "def recall_at_f(ytrue, y_score, feta=0.95):\n",
    "    mask = y_score >= feta\n",
    "    detected = ytrue[mask].sum()\n",
    "    total = ytrue.sum()\n",
    "    return detected/total"
   ]
  },
  {
   "cell_type": "code",
   "execution_count": 5,
   "id": "4a4fc1ae-7c5b-4f7a-8d79-a4759d3fa9bd",
   "metadata": {},
   "outputs": [],
   "source": [
    "from mlflow_utils import train_log_model"
   ]
  },
  {
   "cell_type": "code",
   "execution_count": 6,
   "id": "026187d8-231c-4e84-ac1d-9772defeadf8",
   "metadata": {},
   "outputs": [],
   "source": [
    "METRICS = [\n",
    "    make_scorer(average_precision_score, average='macro'),  #, average = 'weighted')\n",
    "    make_scorer(roc_auc_score, average='macro'),\n",
    "    make_scorer(precision_at_f, needs_proba=True, greater_is_better=True),\n",
    "    make_scorer(recall_at_f, needs_proba=True, greater_is_better=True)\n",
    "]\n"
   ]
  },
  {
   "cell_type": "markdown",
   "id": "f58267fb-1d0e-4759-9887-b2192af6f49f",
   "metadata": {
    "tags": []
   },
   "source": [
    "## Load Data"
   ]
  },
  {
   "cell_type": "code",
   "execution_count": 7,
   "id": "846865cf-4ae7-4bdc-b5ce-d285f39f792a",
   "metadata": {},
   "outputs": [],
   "source": [
    "files = Path('./data/candidates_georef_v4').glob('*.parquet')"
   ]
  },
  {
   "cell_type": "code",
   "execution_count": 8,
   "id": "00c87679-f898-4f5e-a279-a20c97f105d5",
   "metadata": {
    "tags": []
   },
   "outputs": [],
   "source": [
    "data = pd.concat((pd.read_parquet(str(f)) for f in files))"
   ]
  },
  {
   "cell_type": "code",
   "execution_count": 9,
   "id": "7fe346d5-d045-4e4e-8f96-82e957d991c9",
   "metadata": {},
   "outputs": [
    {
     "data": {
      "text/plain": [
       "Index(['sale_id', 'trxn_id', 'trxn_price', 'listing_price', 'correct_sale_id',\n",
       "       'lottype_cat', 'unittype_cat', 'spatial', 'days', 'price_diff',\n",
       "       'price_pct_diff', 'partial_street_score', 'partial_unit_score', 'total',\n",
       "       'same_zipcode', 'listing_unit', 'closing_unit', 'listing_street',\n",
       "       'closing_street', 'trxn_zip', 'trxn_city', 'trxn_state', 'listing_zip',\n",
       "       'listing_city', 'area_id', 'x', 'y', 'distance', 'azimuth',\n",
       "       'building_in_10', 'same_complex', 'same_building_id', 'same_block',\n",
       "       'same_bin', 'same_building_bbl', 'same_bbl', 'same_unittype',\n",
       "       'same_unit', 'candidates', 'trxn_candidates', 'status'],\n",
       "      dtype='object')"
      ]
     },
     "execution_count": 9,
     "metadata": {},
     "output_type": "execute_result"
    }
   ],
   "source": [
    "data.columns"
   ]
  },
  {
   "cell_type": "code",
   "execution_count": 10,
   "id": "214c01d9-0068-4f62-924f-4d4bef7b9c4f",
   "metadata": {},
   "outputs": [
    {
     "name": "stdout",
     "output_type": "stream",
     "text": [
      "Total pairs: 1,075,485, matched: 3,646 (0.34%)\n"
     ]
    }
   ],
   "source": [
    "print(f'Total pairs: {len(data):,d}, matched: {data[\"correct_sale_id\"].nunique():,d} ({data[\"correct_sale_id\"].nunique()/len(data):.2%})')"
   ]
  },
  {
   "cell_type": "code",
   "execution_count": 11,
   "id": "027e3031-5d46-48e4-86e7-4f7e97a11ca4",
   "metadata": {},
   "outputs": [],
   "source": [
    "data['match'] = (data['sale_id'] == data['correct_sale_id']).astype(int)"
   ]
  },
  {
   "cell_type": "code",
   "execution_count": 12,
   "id": "3b6659e8-00c9-4835-adbe-269f6e3f8310",
   "metadata": {
    "collapsed": true,
    "jupyter": {
     "outputs_hidden": true
    },
    "tags": []
   },
   "outputs": [
    {
     "data": {
      "text/plain": [
       "trxn_city               0.000000\n",
       "trxn_candidates         0.000000\n",
       "same_unit               0.000000\n",
       "same_unittype           0.000000\n",
       "same_bbl                0.000000\n",
       "same_building_bbl       0.000000\n",
       "same_bin                0.000000\n",
       "same_block              0.000000\n",
       "same_building_id        0.000000\n",
       "same_complex            0.000000\n",
       "trxn_state              0.000000\n",
       "trxn_zip                0.000000\n",
       "closing_street          0.000000\n",
       "closing_unit            0.000000\n",
       "match                   0.000000\n",
       "trxn_price              0.000000\n",
       "lottype_cat             0.000000\n",
       "listing_unit            0.000010\n",
       "candidates              0.000010\n",
       "listing_price           0.000010\n",
       "spatial                 0.000010\n",
       "price_diff              0.000010\n",
       "building_in_10          0.000010\n",
       "same_zipcode            0.000010\n",
       "distance                0.000010\n",
       "y                       0.000010\n",
       "azimuth                 0.000010\n",
       "area_id                 0.000010\n",
       "listing_city            0.000010\n",
       "listing_zip             0.000010\n",
       "price_pct_diff          0.000010\n",
       "partial_street_score    0.000010\n",
       "partial_unit_score      0.000010\n",
       "listing_street          0.000010\n",
       "x                       0.000010\n",
       "sale_id                 0.000010\n",
       "days                    0.000014\n",
       "total                   0.000014\n",
       "trxn_id                 0.000159\n",
       "unittype_cat            0.002714\n",
       "correct_sale_id         0.351382\n",
       "status                  0.999848\n",
       "dtype: float64"
      ]
     },
     "execution_count": 12,
     "metadata": {},
     "output_type": "execute_result"
    }
   ],
   "source": [
    "data.isnull().mean().sort_values()"
   ]
  },
  {
   "cell_type": "markdown",
   "id": "985188d8-e0ba-4e63-8427-23ab5a3fad73",
   "metadata": {},
   "source": [
    "## Features"
   ]
  },
  {
   "cell_type": "code",
   "execution_count": 13,
   "id": "882b7e41-3555-4ddd-8c2c-5bf37ab71bff",
   "metadata": {},
   "outputs": [],
   "source": [
    "features = ['spatial', 'days', 'price_pct_diff', \n",
    "            'partial_unit_score',\n",
    "            \"partial_street_score\",\n",
    "            'same_unit',\n",
    "            'same_building_id', \n",
    "            'same_bin',\n",
    "            'same_complex',\n",
    "            \"candidates\",\n",
    "            \"same_zipcode\",\n",
    "            \"building_in_10\",\n",
    "#             \"closing_candidates\", \n",
    "            'same_unittype', \n",
    "#             'same_rd_normalized_unit',\n",
    "#             'unittype_cat',\n",
    "            'x', 'y', 'distance', 'azimuth'\n",
    "            ]\n",
    "\n",
    "ycol = 'match'"
   ]
  },
  {
   "cell_type": "code",
   "execution_count": 14,
   "id": "b7f6d50c-b53e-428a-96e7-0d6a8921d650",
   "metadata": {},
   "outputs": [],
   "source": [
    "X = data[features]\n",
    "y = data[ycol]"
   ]
  },
  {
   "cell_type": "code",
   "execution_count": 15,
   "id": "e2acd7be-3d7b-493c-9608-5d5bdfa3e4a7",
   "metadata": {},
   "outputs": [
    {
     "name": "stderr",
     "output_type": "stream",
     "text": [
      "/var/folders/v2/l685f8rj7jn4flt11pny4lsr0000gq/T/ipykernel_93703/1724854506.py:2: SettingWithCopyWarning: \n",
      "A value is trying to be set on a copy of a slice from a DataFrame.\n",
      "Try using .loc[row_indexer,col_indexer] = value instead\n",
      "\n",
      "See the caveats in the documentation: https://pandas.pydata.org/pandas-docs/stable/user_guide/indexing.html#returning-a-view-versus-a-copy\n",
      "  X[bool_cols] = X[bool_cols].astype(bool).astype(int)\n"
     ]
    }
   ],
   "source": [
    "bool_cols = ['same_unit', 'same_building_id', 'same_bin', 'same_complex', 'same_zipcode', 'building_in_10', 'same_unittype']\n",
    "X[bool_cols] = X[bool_cols].astype(bool).astype(int)"
   ]
  },
  {
   "cell_type": "code",
   "execution_count": 16,
   "id": "825c54f2-7258-430d-9d74-da2efd70552d",
   "metadata": {},
   "outputs": [
    {
     "data": {
      "text/html": [
       "<div>\n",
       "<style scoped>\n",
       "    .dataframe tbody tr th:only-of-type {\n",
       "        vertical-align: middle;\n",
       "    }\n",
       "\n",
       "    .dataframe tbody tr th {\n",
       "        vertical-align: top;\n",
       "    }\n",
       "\n",
       "    .dataframe thead th {\n",
       "        text-align: right;\n",
       "    }\n",
       "</style>\n",
       "<table border=\"1\" class=\"dataframe\">\n",
       "  <thead>\n",
       "    <tr style=\"text-align: right;\">\n",
       "      <th></th>\n",
       "    </tr>\n",
       "  </thead>\n",
       "  <tbody>\n",
       "    <tr>\n",
       "      <th>0</th>\n",
       "    </tr>\n",
       "    <tr>\n",
       "      <th>1</th>\n",
       "    </tr>\n",
       "  </tbody>\n",
       "</table>\n",
       "</div>"
      ],
      "text/plain": [
       "Empty DataFrame\n",
       "Columns: []\n",
       "Index: [0, 1]"
      ]
     },
     "execution_count": 16,
     "metadata": {},
     "output_type": "execute_result"
    }
   ],
   "source": [
    "X.select_dtypes('object').head(2)"
   ]
  },
  {
   "cell_type": "markdown",
   "id": "08c004b3-b47b-47bf-8838-a0bb795d573b",
   "metadata": {},
   "source": [
    "## Validation Set"
   ]
  },
  {
   "cell_type": "code",
   "execution_count": 17,
   "id": "454f01ed-63a8-471d-8a82-e40331b6ffb5",
   "metadata": {},
   "outputs": [],
   "source": [
    "Xtrain, Xval, ytrain, yval = train_test_split(X, y, test_size=0.1, random_state=2024, stratify=y)"
   ]
  },
  {
   "cell_type": "code",
   "execution_count": 18,
   "id": "9a930ea0-9d83-4dd2-8bca-3b84692c9a99",
   "metadata": {},
   "outputs": [
    {
     "data": {
      "text/plain": [
       "'Training set size 967,936, matched: 0.34%'"
      ]
     },
     "execution_count": 18,
     "metadata": {},
     "output_type": "execute_result"
    }
   ],
   "source": [
    "f\"Training set size {len(ytrain):,d}, matched: {ytrain.mean():.2%}\""
   ]
  },
  {
   "cell_type": "code",
   "execution_count": 19,
   "id": "c4fc86a2-cdb2-4784-be19-cf6e9785390f",
   "metadata": {},
   "outputs": [
    {
     "data": {
      "text/plain": [
       "'Validation set size 107,549, matched: 0.34%'"
      ]
     },
     "execution_count": 19,
     "metadata": {},
     "output_type": "execute_result"
    }
   ],
   "source": [
    "f\"Validation set size {len(yval):,d}, matched: {yval.mean():.2%}\""
   ]
  },
  {
   "cell_type": "markdown",
   "id": "e9478b0b-bdd1-47bd-905d-df35724fda33",
   "metadata": {},
   "source": [
    "## Dealing with Imbalance"
   ]
  },
  {
   "cell_type": "code",
   "execution_count": 20,
   "id": "8ecc59a1-cd7a-4073-8b01-45f1d1066bec",
   "metadata": {},
   "outputs": [],
   "source": [
    "from imblearn.over_sampling import RandomOverSampler\n",
    "from imblearn.over_sampling import SMOTE, ADASYN"
   ]
  },
  {
   "cell_type": "code",
   "execution_count": 75,
   "id": "2071c5bb-1350-4e66-a68e-4bc256c7c7be",
   "metadata": {},
   "outputs": [],
   "source": [
    "ros = RandomOverSampler(random_state=2024, sampling_strategy=0.05)\n",
    "X_resampled_05, y_resampled_05 = ros.fit_resample(Xtrain, ytrain)"
   ]
  },
  {
   "cell_type": "code",
   "execution_count": 69,
   "id": "ee4ec25d-dd0d-4a70-87ae-3b7fc6cd805d",
   "metadata": {},
   "outputs": [],
   "source": [
    "ros = RandomOverSampler(random_state=2024, sampling_strategy=0.1)\n",
    "X_resampled_10, y_resampled_10 = ros.fit_resample(Xtrain, ytrain)"
   ]
  },
  {
   "cell_type": "code",
   "execution_count": 70,
   "id": "02a961fd-c3b8-4f9a-aa23-7490a8d4b401",
   "metadata": {},
   "outputs": [],
   "source": [
    "ros = RandomOverSampler(random_state=2024, sampling_strategy=0.15)\n",
    "X_resampled_15, y_resampled_15 = ros.fit_resample(Xtrain, ytrain)"
   ]
  },
  {
   "cell_type": "code",
   "execution_count": 21,
   "id": "9ed20d79-aea9-4019-b80b-9c3cc87ae391",
   "metadata": {},
   "outputs": [],
   "source": [
    "ros = RandomOverSampler(random_state=2024, sampling_strategy=0.2)\n",
    "X_resampled_20, y_resampled_20 = ros.fit_resample(Xtrain, ytrain)"
   ]
  },
  {
   "cell_type": "code",
   "execution_count": 22,
   "id": "3a9635e7-dcd5-417a-8e68-14f3eaeef996",
   "metadata": {},
   "outputs": [],
   "source": [
    "ros = RandomOverSampler(random_state=2024, sampling_strategy=0.3)\n",
    "X_resampled_30, y_resampled_30 = ros.fit_resample(Xtrain, ytrain)"
   ]
  },
  {
   "cell_type": "code",
   "execution_count": 23,
   "id": "fc49351e-ba9e-4f66-996a-dac9a75c19d7",
   "metadata": {},
   "outputs": [],
   "source": [
    "ros = RandomOverSampler(random_state=2024, sampling_strategy=0.4)\n",
    "X_resampled_40, y_resampled_40 = ros.fit_resample(Xtrain, ytrain)"
   ]
  },
  {
   "cell_type": "code",
   "execution_count": 59,
   "id": "d0a5fdcf-3620-42dc-87dd-67cb7a986d21",
   "metadata": {},
   "outputs": [],
   "source": [
    "ros = RandomOverSampler(random_state=2024, sampling_strategy=0.5)\n",
    "X_resampled_50, y_resampled_50 = ros.fit_resample(Xtrain, ytrain)"
   ]
  },
  {
   "cell_type": "code",
   "execution_count": 24,
   "id": "4b310c63-5587-46d3-b829-6bdcb50cd9e7",
   "metadata": {},
   "outputs": [],
   "source": [
    "mask = Xtrain.notnull().all(1)\n",
    "\n",
    "X_resampled_smote, y_resampled_smote = SMOTE().fit_resample(Xtrain[mask], ytrain[mask])"
   ]
  },
  {
   "cell_type": "code",
   "execution_count": 25,
   "id": "07ba3f92-c92e-49f5-8202-b0c9bb810f2f",
   "metadata": {},
   "outputs": [],
   "source": [
    "X_resampled_adasyn, y_resampled_adasyn = ADASYN().fit_resample(Xtrain[mask], ytrain[mask])"
   ]
  },
  {
   "cell_type": "markdown",
   "id": "bfe583fb-a88a-4098-9efd-6abd6fcc74f0",
   "metadata": {},
   "source": [
    "## Model"
   ]
  },
  {
   "cell_type": "code",
   "execution_count": 47,
   "id": "d848e50a-5992-4a99-b67f-c26f4ec2d2dc",
   "metadata": {},
   "outputs": [],
   "source": [
    "metaflow_config = dict(\n",
    "    tracking_uri='https://mlflow.production.streeteasy.cloud',\n",
    "    experiment_name='expert_transaction_matching',\n",
    "    model_name='expert_transaction_matching'\n",
    ")"
   ]
  },
  {
   "cell_type": "code",
   "execution_count": 57,
   "id": "9f41eca5-3367-45e5-be9e-0485e469d70a",
   "metadata": {},
   "outputs": [],
   "source": [
    "def mlflow_log_model(model, Xtrain, ytrain, metaflow_config, tags, model_metadata, validation):\n",
    "    mlflow.set_tracking_uri(metaflow_config['tracking_uri'])  # type: ignore\n",
    "    mlflow.set_experiment(metaflow_config['experiment_name'])\n",
    "    \n",
    "    mlflow.autolog()\n",
    "    with mlflow.start_run(run_name=metaflow_config.get('run_name')) as run:\n",
    "        model.fit(Xtrain, ytrain)\n",
    "        mlflow.set_tags(tags)\n",
    "        \n",
    "        mlflow.log_params(model.get_params())\n",
    "        \n",
    "#         mlflow.sklearn.log_model(\n",
    "#             model,\n",
    "#             # signature=signature,\n",
    "#             registered_model_name=metaflow_config['model_name'],\n",
    "#             artifact_path=\"model\",\n",
    "#             metadata=model_metadata,\n",
    "#         )\n",
    "        if validation:\n",
    "            Xval, yval, scorers = validation\n",
    "            val_metrics = {\n",
    "             f'val_{scorer._score_func.__name__}': scorer(model, Xval, yval) for scorer in scorers\n",
    "            }\n",
    "            mlflow.log_metrics(val_metrics)\n",
    "    return model"
   ]
  },
  {
   "cell_type": "code",
   "execution_count": 29,
   "id": "688f468d-b18a-42b8-b956-9d084fa7c735",
   "metadata": {},
   "outputs": [],
   "source": [
    "params = {'model__colsample_bytree': 0.5013544317317782,\n",
    " 'model__min_child_samples': 51,\n",
    " 'model__min_child_weight': 1e-05,\n",
    " 'model__num_leaves': 21,\n",
    " 'model__reg_alpha': 0.1,\n",
    " 'model__reg_lambda': 5,\n",
    " 'model__subsample': 0.4301443471481221\n",
    "}\n"
   ]
  },
  {
   "cell_type": "code",
   "execution_count": 30,
   "id": "dd75c3f9-4d63-4662-907b-ea84b87181bd",
   "metadata": {},
   "outputs": [],
   "source": [
    "model = get_model(LGBMClassifier).set_params(**params)\n",
    "# model.steps = model.steps[1:]\n",
    "# model.steps[0][1].transformers[0][1].sparse_output = False"
   ]
  },
  {
   "cell_type": "code",
   "execution_count": null,
   "id": "84706bed-8fb4-4c56-8aa2-f1f2607169fb",
   "metadata": {},
   "outputs": [],
   "source": []
  },
  {
   "cell_type": "code",
   "execution_count": 31,
   "id": "0c57cab2-8144-4c54-b745-092e0f6d7a34",
   "metadata": {},
   "outputs": [],
   "source": [
    "scoring={'average_precision': average_precision_scorer,\n",
    "         'roc_auc': roc_auc_scorer}"
   ]
  },
  {
   "cell_type": "code",
   "execution_count": 32,
   "id": "61dd058d-ac19-4e04-a5ca-a6957d351bb4",
   "metadata": {},
   "outputs": [],
   "source": [
    "skf = StratifiedKFold(n_splits=5, shuffle=True, random_state=2024)"
   ]
  },
  {
   "cell_type": "code",
   "execution_count": 33,
   "id": "e25d854c-17f8-4a20-a47f-5f3061256357",
   "metadata": {},
   "outputs": [
    {
     "data": {
      "text/html": [
       "<div>\n",
       "<style scoped>\n",
       "    .dataframe tbody tr th:only-of-type {\n",
       "        vertical-align: middle;\n",
       "    }\n",
       "\n",
       "    .dataframe tbody tr th {\n",
       "        vertical-align: top;\n",
       "    }\n",
       "\n",
       "    .dataframe thead th {\n",
       "        text-align: right;\n",
       "    }\n",
       "</style>\n",
       "<table border=\"1\" class=\"dataframe\">\n",
       "  <thead>\n",
       "    <tr style=\"text-align: right;\">\n",
       "      <th></th>\n",
       "      <th>mean</th>\n",
       "      <th>std</th>\n",
       "    </tr>\n",
       "  </thead>\n",
       "  <tbody>\n",
       "    <tr>\n",
       "      <th>test_average_precision</th>\n",
       "      <td>0.560208</td>\n",
       "      <td>0.017228</td>\n",
       "    </tr>\n",
       "    <tr>\n",
       "      <th>test_roc_auc</th>\n",
       "      <td>0.905680</td>\n",
       "      <td>0.006978</td>\n",
       "    </tr>\n",
       "  </tbody>\n",
       "</table>\n",
       "</div>"
      ],
      "text/plain": [
       "                            mean       std\n",
       "test_average_precision  0.560208  0.017228\n",
       "test_roc_auc            0.905680  0.006978"
      ]
     },
     "execution_count": 33,
     "metadata": {},
     "output_type": "execute_result"
    }
   ],
   "source": [
    "model = get_model(LGBMClassifier).set_params(**params)\n",
    "\n",
    "metrics = cross_validate(model, Xtrain, ytrain, \n",
    "                         cv=skf, return_train_score=False,\n",
    "                         scoring=scoring)\n",
    "\n",
    "pd.DataFrame(metrics)[['test_average_precision','test_roc_auc']].agg(['mean', 'std']).T"
   ]
  },
  {
   "cell_type": "code",
   "execution_count": 34,
   "id": "c976ce91-f419-498f-b994-59fe2d3d25cf",
   "metadata": {},
   "outputs": [
    {
     "data": {
      "text/html": [
       "<div>\n",
       "<style scoped>\n",
       "    .dataframe tbody tr th:only-of-type {\n",
       "        vertical-align: middle;\n",
       "    }\n",
       "\n",
       "    .dataframe tbody tr th {\n",
       "        vertical-align: top;\n",
       "    }\n",
       "\n",
       "    .dataframe thead th {\n",
       "        text-align: right;\n",
       "    }\n",
       "</style>\n",
       "<table border=\"1\" class=\"dataframe\">\n",
       "  <thead>\n",
       "    <tr style=\"text-align: right;\">\n",
       "      <th></th>\n",
       "      <th>mean</th>\n",
       "      <th>std</th>\n",
       "    </tr>\n",
       "  </thead>\n",
       "  <tbody>\n",
       "    <tr>\n",
       "      <th>test_average_precision</th>\n",
       "      <td>0.989420</td>\n",
       "      <td>0.000566</td>\n",
       "    </tr>\n",
       "    <tr>\n",
       "      <th>test_roc_auc</th>\n",
       "      <td>0.998931</td>\n",
       "      <td>0.000058</td>\n",
       "    </tr>\n",
       "  </tbody>\n",
       "</table>\n",
       "</div>"
      ],
      "text/plain": [
       "                            mean       std\n",
       "test_average_precision  0.989420  0.000566\n",
       "test_roc_auc            0.998931  0.000058"
      ]
     },
     "execution_count": 34,
     "metadata": {},
     "output_type": "execute_result"
    }
   ],
   "source": [
    "model = get_model(LGBMClassifier).set_params(**params)\n",
    "\n",
    "metrics = cross_validate(model, X_resampled_20, y_resampled_20,\n",
    "                         cv=skf, return_train_score=False,\n",
    "                         scoring=scoring)\n",
    "\n",
    "pd.DataFrame(metrics)[['test_average_precision','test_roc_auc']].agg(['mean', 'std']).T"
   ]
  },
  {
   "cell_type": "markdown",
   "id": "0c18da68-f228-422b-a9c8-e7a1e7244a83",
   "metadata": {},
   "source": [
    "## Validation Performance"
   ]
  },
  {
   "cell_type": "code",
   "execution_count": 39,
   "id": "94ac7a5f-06f8-478f-ab80-6b1428aac14e",
   "metadata": {},
   "outputs": [
    {
     "data": {
      "text/plain": [
       "'2.11.3'"
      ]
     },
     "execution_count": 39,
     "metadata": {},
     "output_type": "execute_result"
    }
   ],
   "source": [
    "mlflow.__version__"
   ]
  },
  {
   "cell_type": "code",
   "execution_count": 76,
   "id": "3406e87f-0d1f-4de7-a7d8-9241c099bdb5",
   "metadata": {},
   "outputs": [
    {
     "name": "stderr",
     "output_type": "stream",
     "text": [
      "2024/03/25 15:30:20 INFO mlflow.tracking.fluent: Autologging successfully enabled for lightgbm.\n",
      "2024/03/25 15:30:20 INFO mlflow.tracking.fluent: Autologging successfully enabled for sklearn.\n",
      "2024/03/25 15:30:26 WARNING mlflow.utils.autologging_utils: MLflow autologging encountered a warning: \"/Users/philippk/Library/Caches/pypoetry/virtualenvs/transaction-matching-i9O2AM3V-py3.10/lib/python3.10/site-packages/mlflow/types/utils.py:393: UserWarning: Hint: Inferred schema contains integer column(s). Integer columns in Python cannot represent missing values. If your input data contains missing values at inference time, it will be encoded as floats and will cause a schema enforcement error. The best way to avoid this problem is to infer the model schema based on a realistic data sample (training dataset) that includes missing values. Alternatively, you can declare integer columns as doubles (float64) whenever these columns may have missing values. See `Handling Integers With Missing Values <https://www.mlflow.org/docs/latest/models.html#handling-integers-with-missing-values>`_ for more details.\"\n",
      "2024/03/25 15:30:37 WARNING mlflow.utils.autologging_utils: Encountered unexpected error during sklearn autologging: Failed to upload /var/folders/v2/l685f8rj7jn4flt11pny4lsr0000gq/T/tmps135ob18/training_roc_curve.png to streeteasy-datalake/research/mlflow/793/f8ab64956fec4360b9e13a452f45f85f/artifacts/training_roc_curve.png: An error occurred (AccessDenied) when calling the PutObject operation: Access Denied\n"
     ]
    }
   ],
   "source": [
    "models = dict()\n",
    "\n",
    "for name, (x_, y_) in {\n",
    "#     'initial' : (Xtrain, ytrain),\n",
    "    'resampled_05': (X_resampled_05, y_resampled_05),\n",
    "#     'resampled_10': (X_resampled_10, y_resampled_10),\n",
    "#     'resampled_15': (X_resampled_15, y_resampled_15),\n",
    "#     'resampled_20': (X_resampled_20, y_resampled_20),\n",
    "#     'resampled_30': (X_resampled_30, y_resampled_30),\n",
    "#     'resampled_40': (X_resampled_40, y_resampled_40),\n",
    "#     'resampled_50': (X_resampled_50, y_resampled_50),\n",
    "#     'resampled_smote': (X_resampled_smote, y_resampled_smote),\n",
    "#     'resampled_adasyn': (X_resampled_adasyn, y_resampled_adasyn),\n",
    "    \n",
    "}.items():\n",
    "    model = get_model(LGBMClassifier).set_params(**params)\n",
    "    metaflow_config['run_name'] = f'binary_lbgm_data_{name}'\n",
    "    models[name] = mlflow_log_model(\n",
    "        model,\n",
    "        x_,\n",
    "        y_,\n",
    "        metaflow_config, \n",
    "        tags=dict(target='matching'), \n",
    "        model_metadata={'sampling':name},\n",
    "        validation=(Xval, yval, METRICS)\n",
    "    )"
   ]
  },
  {
   "cell_type": "markdown",
   "id": "5d58532f-e147-46c0-a9fb-6711b6b2d6e4",
   "metadata": {},
   "source": [
    "## Analize Results"
   ]
  },
  {
   "cell_type": "code",
   "execution_count": 77,
   "id": "0934fc31-8269-41aa-b583-fd6b01c560ff",
   "metadata": {},
   "outputs": [],
   "source": [
    "runs = mlflow.search_runs('793')"
   ]
  },
  {
   "cell_type": "code",
   "execution_count": 78,
   "id": "557cc11a-56ae-4e92-accd-004a39289f1d",
   "metadata": {},
   "outputs": [
    {
     "data": {
      "text/html": [
       "<div>\n",
       "<style scoped>\n",
       "    .dataframe tbody tr th:only-of-type {\n",
       "        vertical-align: middle;\n",
       "    }\n",
       "\n",
       "    .dataframe tbody tr th {\n",
       "        vertical-align: top;\n",
       "    }\n",
       "\n",
       "    .dataframe thead th {\n",
       "        text-align: right;\n",
       "    }\n",
       "</style>\n",
       "<table border=\"1\" class=\"dataframe\">\n",
       "  <thead>\n",
       "    <tr style=\"text-align: right;\">\n",
       "      <th></th>\n",
       "      <th>metrics.val_recall_at_f</th>\n",
       "      <th>metrics.val_precision_at_f</th>\n",
       "      <th>metrics.val_average_precision_score</th>\n",
       "      <th>metrics.val_roc_auc_score</th>\n",
       "    </tr>\n",
       "    <tr>\n",
       "      <th>tags.mlflow.runName</th>\n",
       "      <th></th>\n",
       "      <th></th>\n",
       "      <th></th>\n",
       "      <th></th>\n",
       "    </tr>\n",
       "  </thead>\n",
       "  <tbody>\n",
       "    <tr>\n",
       "      <th>binary_lbgm_data_resampled_05</th>\n",
       "      <td>0.742466</td>\n",
       "      <td>0.724599</td>\n",
       "      <td>0.635028</td>\n",
       "      <td>0.989501</td>\n",
       "    </tr>\n",
       "    <tr>\n",
       "      <th>binary_lbgm_data_resampled_15</th>\n",
       "      <td>0.961644</td>\n",
       "      <td>0.664773</td>\n",
       "      <td>0.616485</td>\n",
       "      <td>0.992143</td>\n",
       "    </tr>\n",
       "    <tr>\n",
       "      <th>binary_lbgm_data_resampled_10</th>\n",
       "      <td>0.942466</td>\n",
       "      <td>0.679842</td>\n",
       "      <td>0.629601</td>\n",
       "      <td>0.992199</td>\n",
       "    </tr>\n",
       "    <tr>\n",
       "      <th>binary_lbgm_data_resampled_50</th>\n",
       "      <td>0.972603</td>\n",
       "      <td>0.654982</td>\n",
       "      <td>0.586937</td>\n",
       "      <td>0.992008</td>\n",
       "    </tr>\n",
       "    <tr>\n",
       "      <th>binary_lbgm_data_resampled_adasyn</th>\n",
       "      <td>0.824658</td>\n",
       "      <td>0.665929</td>\n",
       "      <td>0.607769</td>\n",
       "      <td>0.983947</td>\n",
       "    </tr>\n",
       "    <tr>\n",
       "      <th>binary_lbgm_data_resampled_smote</th>\n",
       "      <td>0.827397</td>\n",
       "      <td>0.671111</td>\n",
       "      <td>0.613368</td>\n",
       "      <td>0.985331</td>\n",
       "    </tr>\n",
       "    <tr>\n",
       "      <th>binary_lbgm_data_resampled_40</th>\n",
       "      <td>0.969863</td>\n",
       "      <td>0.660448</td>\n",
       "      <td>0.594801</td>\n",
       "      <td>0.992045</td>\n",
       "    </tr>\n",
       "    <tr>\n",
       "      <th>binary_lbgm_data_resampled_30</th>\n",
       "      <td>0.967123</td>\n",
       "      <td>0.661049</td>\n",
       "      <td>0.602879</td>\n",
       "      <td>0.992082</td>\n",
       "    </tr>\n",
       "    <tr>\n",
       "      <th>binary_lbgm_data_resampled_20</th>\n",
       "      <td>0.961644</td>\n",
       "      <td>0.662264</td>\n",
       "      <td>0.614352</td>\n",
       "      <td>0.992134</td>\n",
       "    </tr>\n",
       "    <tr>\n",
       "      <th>binary_lbgm_data_initial</th>\n",
       "      <td>0.139726</td>\n",
       "      <td>0.809524</td>\n",
       "      <td>0.578089</td>\n",
       "      <td>0.921255</td>\n",
       "    </tr>\n",
       "  </tbody>\n",
       "</table>\n",
       "</div>"
      ],
      "text/plain": [
       "                                   metrics.val_recall_at_f  \\\n",
       "tags.mlflow.runName                                          \n",
       "binary_lbgm_data_resampled_05                     0.742466   \n",
       "binary_lbgm_data_resampled_15                     0.961644   \n",
       "binary_lbgm_data_resampled_10                     0.942466   \n",
       "binary_lbgm_data_resampled_50                     0.972603   \n",
       "binary_lbgm_data_resampled_adasyn                 0.824658   \n",
       "binary_lbgm_data_resampled_smote                  0.827397   \n",
       "binary_lbgm_data_resampled_40                     0.969863   \n",
       "binary_lbgm_data_resampled_30                     0.967123   \n",
       "binary_lbgm_data_resampled_20                     0.961644   \n",
       "binary_lbgm_data_initial                          0.139726   \n",
       "\n",
       "                                   metrics.val_precision_at_f  \\\n",
       "tags.mlflow.runName                                             \n",
       "binary_lbgm_data_resampled_05                        0.724599   \n",
       "binary_lbgm_data_resampled_15                        0.664773   \n",
       "binary_lbgm_data_resampled_10                        0.679842   \n",
       "binary_lbgm_data_resampled_50                        0.654982   \n",
       "binary_lbgm_data_resampled_adasyn                    0.665929   \n",
       "binary_lbgm_data_resampled_smote                     0.671111   \n",
       "binary_lbgm_data_resampled_40                        0.660448   \n",
       "binary_lbgm_data_resampled_30                        0.661049   \n",
       "binary_lbgm_data_resampled_20                        0.662264   \n",
       "binary_lbgm_data_initial                             0.809524   \n",
       "\n",
       "                                   metrics.val_average_precision_score  \\\n",
       "tags.mlflow.runName                                                      \n",
       "binary_lbgm_data_resampled_05                                 0.635028   \n",
       "binary_lbgm_data_resampled_15                                 0.616485   \n",
       "binary_lbgm_data_resampled_10                                 0.629601   \n",
       "binary_lbgm_data_resampled_50                                 0.586937   \n",
       "binary_lbgm_data_resampled_adasyn                             0.607769   \n",
       "binary_lbgm_data_resampled_smote                              0.613368   \n",
       "binary_lbgm_data_resampled_40                                 0.594801   \n",
       "binary_lbgm_data_resampled_30                                 0.602879   \n",
       "binary_lbgm_data_resampled_20                                 0.614352   \n",
       "binary_lbgm_data_initial                                      0.578089   \n",
       "\n",
       "                                   metrics.val_roc_auc_score  \n",
       "tags.mlflow.runName                                           \n",
       "binary_lbgm_data_resampled_05                       0.989501  \n",
       "binary_lbgm_data_resampled_15                       0.992143  \n",
       "binary_lbgm_data_resampled_10                       0.992199  \n",
       "binary_lbgm_data_resampled_50                       0.992008  \n",
       "binary_lbgm_data_resampled_adasyn                   0.983947  \n",
       "binary_lbgm_data_resampled_smote                    0.985331  \n",
       "binary_lbgm_data_resampled_40                       0.992045  \n",
       "binary_lbgm_data_resampled_30                       0.992082  \n",
       "binary_lbgm_data_resampled_20                       0.992134  \n",
       "binary_lbgm_data_initial                            0.921255  "
      ]
     },
     "execution_count": 78,
     "metadata": {},
     "output_type": "execute_result"
    }
   ],
   "source": [
    "metric_cols = [el for el in runs.columns if el.startswith('metrics')]\n",
    "cols = ['tags.mlflow.runName', ] + metric_cols\n",
    "\n",
    "runs[cols].set_index('tags.mlflow.runName')"
   ]
  },
  {
   "cell_type": "code",
   "execution_count": 79,
   "id": "b9a4bd9b-de42-4302-ba50-1dd5a139a63e",
   "metadata": {},
   "outputs": [
    {
     "name": "stdout",
     "output_type": "stream",
     "text": [
      "Best model according to metric:\n"
     ]
    },
    {
     "data": {
      "text/plain": [
       "metrics.val_recall_at_f                binary_lbgm_data_resampled_50\n",
       "metrics.val_precision_at_f                  binary_lbgm_data_initial\n",
       "metrics.val_average_precision_score    binary_lbgm_data_resampled_05\n",
       "metrics.val_roc_auc_score              binary_lbgm_data_resampled_10\n",
       "dtype: object"
      ]
     },
     "execution_count": 79,
     "metadata": {},
     "output_type": "execute_result"
    }
   ],
   "source": [
    "print('Best model according to metric:')\n",
    "runs[cols].set_index('tags.mlflow.runName').idxmax()"
   ]
  },
  {
   "cell_type": "markdown",
   "id": "390c8edb-c4fc-4dc0-b328-beffac48b3d7",
   "metadata": {},
   "source": [
    "## Plots for best model: **binary_lbgm_data_resampled_10**"
   ]
  },
  {
   "cell_type": "code",
   "execution_count": 81,
   "id": "d797df19-63ff-4e95-af2d-c0410d59ee86",
   "metadata": {},
   "outputs": [
    {
     "name": "stderr",
     "output_type": "stream",
     "text": [
      "2024/03/25 15:32:06 INFO mlflow.utils.autologging_utils: Created MLflow autologging run with ID 'e72e9a8f2d394be5b60199b7fc6f6863', which will track hyperparameters, performance metrics, model artifacts, and lineage information for the current sklearn workflow\n",
      "2024/03/25 15:32:12 WARNING mlflow.utils.autologging_utils: MLflow autologging encountered a warning: \"/Users/philippk/Library/Caches/pypoetry/virtualenvs/transaction-matching-i9O2AM3V-py3.10/lib/python3.10/site-packages/mlflow/types/utils.py:393: UserWarning: Hint: Inferred schema contains integer column(s). Integer columns in Python cannot represent missing values. If your input data contains missing values at inference time, it will be encoded as floats and will cause a schema enforcement error. The best way to avoid this problem is to infer the model schema based on a realistic data sample (training dataset) that includes missing values. Alternatively, you can declare integer columns as doubles (float64) whenever these columns may have missing values. See `Handling Integers With Missing Values <https://www.mlflow.org/docs/latest/models.html#handling-integers-with-missing-values>`_ for more details.\"\n",
      "2024/03/25 15:32:23 WARNING mlflow.utils.autologging_utils: Encountered unexpected error during sklearn autologging: Failed to upload /var/folders/v2/l685f8rj7jn4flt11pny4lsr0000gq/T/tmpp25xiqhk/training_roc_curve.png to streeteasy-datalake/research/mlflow/793/e72e9a8f2d394be5b60199b7fc6f6863/artifacts/training_roc_curve.png: An error occurred (AccessDenied) when calling the PutObject operation: Access Denied\n"
     ]
    }
   ],
   "source": [
    "model = get_model(LGBMClassifier).set_params(**params).fit(X_resampled_10, y_resampled_10)"
   ]
  },
  {
   "cell_type": "code",
   "execution_count": 82,
   "id": "9e07cb3b-8538-49ff-ac21-5b66aee41a27",
   "metadata": {},
   "outputs": [],
   "source": [
    "y_proba = model.predict_proba(Xval)[:, 1]"
   ]
  },
  {
   "cell_type": "code",
   "execution_count": 86,
   "id": "f9ffe82c-7403-4a20-8e50-0d5cf7b518b9",
   "metadata": {},
   "outputs": [],
   "source": [
    "# model"
   ]
  },
  {
   "cell_type": "code",
   "execution_count": 89,
   "id": "8b1ed257-2b3f-43c0-aa3d-28bf1ede085c",
   "metadata": {},
   "outputs": [
    {
     "data": {
      "image/png": "[encoded data removed]",
      "text/plain": [
       "<Figure size 640x480 with 1 Axes>"
      ]
     },
     "metadata": {},
     "output_type": "display_data"
    }
   ],
   "source": [
    "plot_importance(model.steps[0][1]);\n",
    "plt.show()"
   ]
  },
  {
   "cell_type": "code",
   "execution_count": 90,
   "id": "56a1442b-56f8-4cda-81ca-dfdb0063433f",
   "metadata": {},
   "outputs": [
    {
     "data": {
      "image/png": "[encoded data removed]",
      "text/plain": [
       "<Figure size 1200x800 with 2 Axes>"
      ]
     },
     "metadata": {},
     "output_type": "display_data"
    }
   ],
   "source": [
    "fpr, tpr, _ = roc_curve(yval, y_proba, pos_label=1)\n",
    "prec, recall, _ = precision_recall_curve(yval, y_proba, pos_label=1)\n",
    "\n",
    "pr_display = PrecisionRecallDisplay(precision=prec, recall=recall)\n",
    "roc_display = RocCurveDisplay(fpr=fpr, tpr=tpr)\n",
    "\n",
    "fig, (ax1, ax2) = plt.subplots(1, 2, figsize=(12, 8))\n",
    "\n",
    "roc_display.plot(ax=ax1)\n",
    "pr_display.plot(ax=ax2)\n",
    "plt.show()"
   ]
  },
  {
   "cell_type": "markdown",
   "id": "51df8eee-2c9b-4be2-9329-0729025a05b7",
   "metadata": {},
   "source": [
    "### Threshold Curve"
   ]
  },
  {
   "cell_type": "code",
   "execution_count": 91,
   "id": "c9aeff14-a476-4c1b-9f63-cd5c670af4c5",
   "metadata": {},
   "outputs": [],
   "source": [
    "prec, recall, step = precision_recall_curve(yval, y_proba, pos_label=1)"
   ]
  },
  {
   "cell_type": "code",
   "execution_count": 95,
   "id": "19954c98-96b5-433d-b2c2-e82d632d47f1",
   "metadata": {},
   "outputs": [
    {
     "data": {
      "image/png": "[encoded data removed]",
      "text/plain": [
       "<Figure size 640x480 with 1 Axes>"
      ]
     },
     "metadata": {},
     "output_type": "display_data"
    }
   ],
   "source": [
    "pd.DataFrame({'precisson':prec[:-1], 'recall':recall[:-1]}, index=step).plot();\n",
    "plt.show()"
   ]
  },
  {
   "cell_type": "markdown",
   "id": "59700b31-2aaa-4a8c-9741-9c46e43032fa",
   "metadata": {},
   "source": [
    "### Calibration"
   ]
  },
  {
   "cell_type": "code",
   "execution_count": 98,
   "id": "dcc8f72b-6af0-45e0-9311-4714a192c508",
   "metadata": {},
   "outputs": [
    {
     "data": {
      "image/png": "[encoded data removed]",
      "text/plain": [
       "<Figure size 640x480 with 1 Axes>"
      ]
     },
     "metadata": {},
     "output_type": "display_data"
    }
   ],
   "source": [
    "prob_true, prob_pred = calibration_curve(yval, y_proba, n_bins=20)\n",
    "disp = CalibrationDisplay(prob_true, prob_pred, y_proba)\n",
    "disp.plot()\n",
    "plt.show()"
   ]
  },
  {
   "cell_type": "code",
   "execution_count": null,
   "id": "8aa75c26-b337-470d-822f-e13bc7cfa3bb",
   "metadata": {},
   "outputs": [],
   "source": []
  }
 ],
 "metadata": {
  "kernelspec": {
   "display_name": "trxn_matching",
   "language": "python",
   "name": "trxn_matching"
  },
  "language_info": {
   "codemirror_mode": {
    "name": "ipython",
    "version": 3
   },
   "file_extension": ".py",
   "mimetype": "text/x-python",
   "name": "python",
   "nbconvert_exporter": "python",
   "pygments_lexer": "ipython3",
   "version": "3.10.13"
  }
 },
 "nbformat": 4,
 "nbformat_minor": 5
}
