{
 "cells": [
  {
   "cell_type": "code",
   "execution_count": 11,
   "id": "7b1be789-6dd7-4e70-828b-b018abea8bae",
   "metadata": {},
   "outputs": [
    {
     "name": "stdout",
     "output_type": "stream",
     "text": [
      "The autoreload extension is already loaded. To reload it, use:\n",
      "  %reload_ext autoreload\n"
     ]
    }
   ],
   "source": [
    "%load_ext autoreload\n",
    "%autoreload 2\n",
    "\n",
    "from hyperopt import fmin, hp, tpe, STATUS_OK, Trials, space_eval\n",
    "from sklearn.base import clone\n",
    "from lightgbm import LGBMClassifier\n",
    "from sklearn.model_selection import StratifiedKFold\n",
    "import numpy as np\n",
    "import pandas as pd\n",
    "import warnings\n",
    "from pathlib import Path\n",
    "\n",
    "from sklearn.model_selection import cross_validate\n",
    "from sklearn.calibration import calibration_curve, CalibrationDisplay\n",
    "import seaborn as sns\n",
    "\n",
    "# from mfllowcli import _log_mlflow\n",
    "from SE.ml.umodel import UnifiedModelAPI\n",
    "\n",
    "from sklearn.metrics import average_precision_score, recall_score\n",
    "from sklearn.metrics import precision_recall_curve\n",
    "from sklearn.metrics import roc_auc_score\n",
    "from sklearn.model_selection import train_test_split\n",
    "import pickle\n",
    "# from metrics import recall_at, recall_at_pct\n",
    "\n",
    "import mlflow\n",
    "from model import get_model\n",
    "# from propmatch.mlflowcli import log_mlflow\n",
    "import json\n",
    "# from utils import get_perf_metrics, ModelPerf\n",
    "from functools import partial\n",
    "from sklearn.metrics import make_scorer\n",
    "import pylab as plt\n",
    "\n",
    "from mlflow_utils import mlflow_log_model"
   ]
  },
  {
   "cell_type": "code",
   "execution_count": 2,
   "id": "7abde5f1-bb27-4b75-b389-763c5ddcbfa0",
   "metadata": {},
   "outputs": [],
   "source": [
    "from model import get_model\n",
    "from utils import reduce_memory\n",
    "from metrics import (\n",
    "    precision_at_f, precision_at_85,\n",
    "    recall_at_85, recall_at_f, METRICS\n",
    ")"
   ]
  },
  {
   "cell_type": "code",
   "execution_count": 3,
   "id": "335ac84e-6dac-406d-abc2-e0f2b4a4f48e",
   "metadata": {},
   "outputs": [],
   "source": [
    "from mlflow_utils import mlflow_log_model"
   ]
  },
  {
   "cell_type": "markdown",
   "id": "6dcad725-05d3-4006-86c0-d8a8eaa9b008",
   "metadata": {},
   "source": [
    "## Set Default AWS Profile"
   ]
  },
  {
   "cell_type": "code",
   "execution_count": 4,
   "id": "7a589899-f669-476d-ba93-2c2dddd6b246",
   "metadata": {},
   "outputs": [
    {
     "data": {
      "text/plain": [
       "['se-stage',\n",
       " 'se-prod',\n",
       " 'zgdatalake',\n",
       " 'zgdatalake-staging',\n",
       " 'sedatalakeprodreadonly',\n",
       " 'sedatalakeprodreadwrite',\n",
       " 'sedatalakeadmin',\n",
       " 'sedatalakestagingreadonly',\n",
       " 'sedatalakestagingreadwrite',\n",
       " 'sedatalakeadmin-stage',\n",
       " 'default']"
      ]
     },
     "execution_count": 4,
     "metadata": {},
     "output_type": "execute_result"
    }
   ],
   "source": [
    "import boto3\n",
    "\n",
    "boto3.session.Session().available_profiles"
   ]
  },
  {
   "cell_type": "code",
   "execution_count": 5,
   "id": "37e7aa09-161c-4b68-bdce-70fbdb984829",
   "metadata": {},
   "outputs": [],
   "source": [
    "# boto3.setup_default_session(profile_name='sedatalakestagingreadwrite')\n",
    "boto3.setup_default_session(profile_name='sedatalakeprodreadwrite')"
   ]
  },
  {
   "cell_type": "markdown",
   "id": "9756707f-2331-4cfe-b9fb-c521b9975c6b",
   "metadata": {
    "tags": []
   },
   "source": [
    "## Load Data"
   ]
  },
  {
   "cell_type": "code",
   "execution_count": 6,
   "id": "ed2426e6-5b31-4dab-b7c0-ed43d1509cf4",
   "metadata": {},
   "outputs": [],
   "source": [
    "trxn_ids_train = pd.read_parquet('./data/train/trxn_id_train.parquet')"
   ]
  },
  {
   "cell_type": "code",
   "execution_count": 7,
   "id": "665e7a52-8648-49a7-a7a3-83f69d6eacfe",
   "metadata": {},
   "outputs": [],
   "source": [
    "# data\n",
    "X = pd.read_parquet('./data/train/X.parquet')\n",
    "y = pd.read_parquet('./data/train/y.parquet').iloc[:, 0]"
   ]
  },
  {
   "cell_type": "code",
   "execution_count": 8,
   "id": "ec721aad-366d-4ec8-8817-a52a36ac5e91",
   "metadata": {},
   "outputs": [],
   "source": [
    "X_train = pd.read_parquet('./data/train/X_resampled_10.parquet')\n",
    "y_train = pd.read_parquet('./data/train/y_resampled_10.parquet').iloc[:, 0]"
   ]
  },
  {
   "cell_type": "code",
   "execution_count": 9,
   "id": "d90b4b9d-178c-40d2-aeb1-3b79f61fd7b8",
   "metadata": {},
   "outputs": [],
   "source": [
    "X_val = pd.read_parquet('./data/train/Xval.parquet')\n",
    "y_val = pd.read_parquet('./data/train/yval.parquet').iloc[:, 0]"
   ]
  },
  {
   "cell_type": "code",
   "execution_count": 10,
   "id": "e7026e5a-1095-46d3-8ee5-9be3bb84216e",
   "metadata": {},
   "outputs": [],
   "source": [
    "w_train = np.where(y_train, 50, 1)"
   ]
  },
  {
   "cell_type": "markdown",
   "id": "e4cdd278-db4f-4432-8d6b-9684abd30493",
   "metadata": {},
   "source": [
    "## Model"
   ]
  },
  {
   "cell_type": "code",
   "execution_count": 18,
   "id": "790b0a64-4f5d-4916-8605-9572cecc7395",
   "metadata": {},
   "outputs": [],
   "source": [
    "params = {\n",
    "#     'model__colsample_bytree': 0.5013544317317782,\n",
    " 'model__min_child_samples': 51,\n",
    " 'model__min_child_weight': 1e-05,\n",
    " 'model__num_leaves': 21,\n",
    " 'model__reg_alpha': 0.1,\n",
    " 'model__reg_lambda': 5,\n",
    " 'model__subsample': 0.4301443471481221\n",
    "}\n"
   ]
  },
  {
   "cell_type": "code",
   "execution_count": 19,
   "id": "3ba37036-e1ee-416a-8268-28a86380b019",
   "metadata": {},
   "outputs": [],
   "source": [
    "MODEL = get_model(LGBMClassifier).set_params(**params)"
   ]
  },
  {
   "cell_type": "code",
   "execution_count": 20,
   "id": "88e25378-df17-4e94-8b1d-b5b4ddf94b30",
   "metadata": {},
   "outputs": [
    {
     "data": {
      "text/html": [
       "<style>#sk-container-id-1 {color: black;background-color: white;}#sk-container-id-1 pre{padding: 0;}#sk-container-id-1 div.sk-toggleable {background-color: white;}#sk-container-id-1 label.sk-toggleable__label {cursor: pointer;display: block;width: 100%;margin-bottom: 0;padding: 0.3em;box-sizing: border-box;text-align: center;}#sk-container-id-1 label.sk-toggleable__label-arrow:before {content: \"▸\";float: left;margin-right: 0.25em;color: #696969;}#sk-container-id-1 label.sk-toggleable__label-arrow:hover:before {color: black;}#sk-container-id-1 div.sk-estimator:hover label.sk-toggleable__label-arrow:before {color: black;}#sk-container-id-1 div.sk-toggleable__content {max-height: 0;max-width: 0;overflow: hidden;text-align: left;background-color: #f0f8ff;}#sk-container-id-1 div.sk-toggleable__content pre {margin: 0.2em;color: black;border-radius: 0.25em;background-color: #f0f8ff;}#sk-container-id-1 input.sk-toggleable__control:checked~div.sk-toggleable__content {max-height: 200px;max-width: 100%;overflow: auto;}#sk-container-id-1 input.sk-toggleable__control:checked~label.sk-toggleable__label-arrow:before {content: \"▾\";}#sk-container-id-1 div.sk-estimator input.sk-toggleable__control:checked~label.sk-toggleable__label {background-color: #d4ebff;}#sk-container-id-1 div.sk-label input.sk-toggleable__control:checked~label.sk-toggleable__label {background-color: #d4ebff;}#sk-container-id-1 input.sk-hidden--visually {border: 0;clip: rect(1px 1px 1px 1px);clip: rect(1px, 1px, 1px, 1px);height: 1px;margin: -1px;overflow: hidden;padding: 0;position: absolute;width: 1px;}#sk-container-id-1 div.sk-estimator {font-family: monospace;background-color: #f0f8ff;border: 1px dotted black;border-radius: 0.25em;box-sizing: border-box;margin-bottom: 0.5em;}#sk-container-id-1 div.sk-estimator:hover {background-color: #d4ebff;}#sk-container-id-1 div.sk-parallel-item::after {content: \"\";width: 100%;border-bottom: 1px solid gray;flex-grow: 1;}#sk-container-id-1 div.sk-label:hover label.sk-toggleable__label {background-color: #d4ebff;}#sk-container-id-1 div.sk-serial::before {content: \"\";position: absolute;border-left: 1px solid gray;box-sizing: border-box;top: 0;bottom: 0;left: 50%;z-index: 0;}#sk-container-id-1 div.sk-serial {display: flex;flex-direction: column;align-items: center;background-color: white;padding-right: 0.2em;padding-left: 0.2em;position: relative;}#sk-container-id-1 div.sk-item {position: relative;z-index: 1;}#sk-container-id-1 div.sk-parallel {display: flex;align-items: stretch;justify-content: center;background-color: white;position: relative;}#sk-container-id-1 div.sk-item::before, #sk-container-id-1 div.sk-parallel-item::before {content: \"\";position: absolute;border-left: 1px solid gray;box-sizing: border-box;top: 0;bottom: 0;left: 50%;z-index: -1;}#sk-container-id-1 div.sk-parallel-item {display: flex;flex-direction: column;z-index: 1;position: relative;background-color: white;}#sk-container-id-1 div.sk-parallel-item:first-child::after {align-self: flex-end;width: 50%;}#sk-container-id-1 div.sk-parallel-item:last-child::after {align-self: flex-start;width: 50%;}#sk-container-id-1 div.sk-parallel-item:only-child::after {width: 0;}#sk-container-id-1 div.sk-dashed-wrapped {border: 1px dashed gray;margin: 0 0.4em 0.5em 0.4em;box-sizing: border-box;padding-bottom: 0.4em;background-color: white;}#sk-container-id-1 div.sk-label label {font-family: monospace;font-weight: bold;display: inline-block;line-height: 1.2em;}#sk-container-id-1 div.sk-label-container {text-align: center;}#sk-container-id-1 div.sk-container {/* jupyter's `normalize.less` sets `[hidden] { display: none; }` but bootstrap.min.css set `[hidden] { display: none !important; }` so we also need the `!important` here to be able to override the default hidden behavior on the sphinx rendered scikit-learn.org. See: https://github.com/scikit-learn/scikit-learn/issues/21755 */display: inline-block !important;position: relative;}#sk-container-id-1 div.sk-text-repr-fallback {display: none;}</style><div id=\"sk-container-id-1\" class=\"sk-top-container\"><div class=\"sk-text-repr-fallback\"><pre>Pipeline(steps=[(&#x27;model&#x27;,\n",
       "                 LGBMClassifier(min_child_samples=51, min_child_weight=1e-05,\n",
       "                                num_leaves=21, reg_alpha=0.1, reg_lambda=5,\n",
       "                                subsample=0.4301443471481221))])</pre><b>In a Jupyter environment, please rerun this cell to show the HTML representation or trust the notebook. <br />On GitHub, the HTML representation is unable to render, please try loading this page with nbviewer.org.</b></div><div class=\"sk-container\" hidden><div class=\"sk-item sk-dashed-wrapped\"><div class=\"sk-label-container\"><div class=\"sk-label sk-toggleable\"><input class=\"sk-toggleable__control sk-hidden--visually\" id=\"sk-estimator-id-1\" type=\"checkbox\" ><label for=\"sk-estimator-id-1\" class=\"sk-toggleable__label sk-toggleable__label-arrow\">Pipeline</label><div class=\"sk-toggleable__content\"><pre>Pipeline(steps=[(&#x27;model&#x27;,\n",
       "                 LGBMClassifier(min_child_samples=51, min_child_weight=1e-05,\n",
       "                                num_leaves=21, reg_alpha=0.1, reg_lambda=5,\n",
       "                                subsample=0.4301443471481221))])</pre></div></div></div><div class=\"sk-serial\"><div class=\"sk-item\"><div class=\"sk-estimator sk-toggleable\"><input class=\"sk-toggleable__control sk-hidden--visually\" id=\"sk-estimator-id-2\" type=\"checkbox\" ><label for=\"sk-estimator-id-2\" class=\"sk-toggleable__label sk-toggleable__label-arrow\">LGBMClassifier</label><div class=\"sk-toggleable__content\"><pre>LGBMClassifier(min_child_samples=51, min_child_weight=1e-05, num_leaves=21,\n",
       "               reg_alpha=0.1, reg_lambda=5, subsample=0.4301443471481221)</pre></div></div></div></div></div></div></div>"
      ],
      "text/plain": [
       "Pipeline(steps=[('model',\n",
       "                 LGBMClassifier(min_child_samples=51, min_child_weight=1e-05,\n",
       "                                num_leaves=21, reg_alpha=0.1, reg_lambda=5,\n",
       "                                subsample=0.4301443471481221))])"
      ]
     },
     "execution_count": 20,
     "metadata": {},
     "output_type": "execute_result"
    }
   ],
   "source": [
    "MODEL"
   ]
  },
  {
   "cell_type": "markdown",
   "id": "6aa78bf1-e6e4-4b86-98fb-a37bb8ee5fdd",
   "metadata": {},
   "source": [
    "## HP Optimisation"
   ]
  },
  {
   "cell_type": "code",
   "execution_count": 12,
   "id": "793c5892-54de-4f2a-9b5b-0547d362cc32",
   "metadata": {},
   "outputs": [],
   "source": [
    "scoring={'average_precision': make_scorer(average_precision_score, average='weighted'),\n",
    "         'roc_auc': make_scorer(roc_auc_score, average='weighted'),\n",
    "         'precisin_at_95':make_scorer(precision_at_f, needs_proba=True, greater_is_better=True)\n",
    "        }"
   ]
  },
  {
   "cell_type": "code",
   "execution_count": 23,
   "id": "d01f37e6-cbe9-49bc-848c-500f0fb9cc08",
   "metadata": {},
   "outputs": [],
   "source": [
    "skf = StratifiedKFold(n_splits=5, shuffle=True, random_state=2024)"
   ]
  },
  {
   "cell_type": "code",
   "execution_count": 41,
   "id": "87215e34-ffc3-4f64-b3a7-333ee4600676",
   "metadata": {},
   "outputs": [],
   "source": [
    "\n",
    "space ={\n",
    "    'model__boosting_type': hp.choice('model__boosting_type', ['gbdt', 'dart', 'goss']),\n",
    "    'model__class_weight': hp.choice('model__class_weight', [None, 'balanced']),\n",
    "    'model__learning_rate': hp.loguniform('learning_rate', np.log(0.01), np.log(0.2)),\n",
    "     'model__subsample_for_bin': hp.quniform('subsample_for_bin', 20000, 300000, 20000),\n",
    "        'model__feature_fraction': hp.uniform('feature_fraction', 0.5, 1),\n",
    "        'model__bagging_fraction': hp.uniform('bagging_fraction', 0.5, 1), #alias \"subsample\"\n",
    "        'model__min_data_in_leaf': hp.qloguniform('min_data_in_leaf', 0, 6, 1),\n",
    "        'model__lambda_l1': hp.choice('lambda_l1', [0, hp.loguniform('lambda_l1_positive', -16, 2)]),\n",
    "        'model__lambda_l2': hp.choice('lambda_l2', [0, hp.loguniform('lambda_l2_positive', -16, 2)]),\n",
    "        'model__verbose': -1,\n",
    "        #the LGBM parameters docs list various aliases, and the LGBM implementation seems to complain about\n",
    "        #the following not being used due to other params, so trying to silence the complaints by setting to None\n",
    "        'model__subsample': None, #overridden by bagging_fraction\n",
    "        'model__reg_alpha': None, #overridden by lambda_l1\n",
    "        'model__reg_lambda': None, #overridden by lambda_l2\n",
    "        'model__min_sum_hessian_in_leaf': None, #overrides min_child_weight\n",
    "        'model__min_child_samples': None, #overridden by min_data_in_leaf\n",
    "        'model__colsample_bytree': None, #overridden by feature_fraction\n",
    "#        'min_child_samples': hp.quniform('min_child_samples', 20, 500, 5),\n",
    "        'model__min_child_weight': hp.loguniform('min_child_weight', -16, 5), #also aliases to min_sum_hessian\n",
    "#     'model__bagging_fraction': hp.uniform('model__bagging_fraction', 0.5, 1), \n",
    "#     'model__subsample_for_bin': hp.quniform('model__subsample_for_bin', 20000, 300000, 20000),\n",
    "#     'model__max_depth': hp.uniformint('model__max_depth', 1, 30),\n",
    "#     'model__max_bin': hp.uniformint('model__max_bin', 10, 1000),\n",
    "#     'model__subsample': hp.uniform('model__subsample', 0.1, 1),\n",
    "#     'model__min_child_samples': hp.quniform('model__min_child_samples', 20, 500, 5),\n",
    "#     'model__min_child_weight': hp.uniform('model__min_child_weight', 0.001, 500),\n",
    "#     'model__colsample_bytree': hp.uniform('model__colsample_bytree', 0.3, 0.9),\n",
    "#     'model__min_gain_to_split': hp.uniformint('model__min_gain_to_split', 0,15),\n",
    "#     'model__min_data_in_leaf': hp.uniformint('model__min_data_in_leaf', 5,300),\n",
    "#     'preprocessor__ut__sigma': hp.uniform('preprocessor__ut__sigma', 0.05,0.6)\n",
    "    \n",
    "} "
   ]
  },
  {
   "cell_type": "code",
   "execution_count": 25,
   "id": "472c1bdb-5a7e-46ee-8607-3a2db6aeba32",
   "metadata": {},
   "outputs": [],
   "source": [
    "trials = Trials()"
   ]
  },
  {
   "cell_type": "code",
   "execution_count": 44,
   "id": "034e7b24-f3ae-4b6d-aae7-6aee02af0f07",
   "metadata": {},
   "outputs": [],
   "source": [
    "def objective(params):\n",
    "    # Convert some hyperparameters to integers\n",
    "    for col in 'model__min_data_in_leaf', 'model__max_depth': #'model__min_child_samples':\n",
    "        if col in params:\n",
    "            params[col] = int(params[col])\n",
    "    for col in ('model__subsample_for_bin', ):\n",
    "        if col in params:\n",
    "            params[col] = int(float(params[col]))\n",
    "    \n",
    "    # model__estimator__random_state=2022 < for calibration\n",
    "    model = clone(MODEL).set_params(**params, ) \n",
    "    metrics = cross_validate(model, X_train, y_train, cv=skf, return_train_score=False,\n",
    "               scoring=scoring['roc_auc'])\n",
    "    \n",
    "    avg_metrics = pd.DataFrame(metrics).mean()\n",
    "    metric = 'test_score'\n",
    "    return {'loss': -1* avg_metrics[metric],\n",
    "            'status':STATUS_OK, 'metrics':avg_metrics.to_dict()}"
   ]
  },
  {
   "cell_type": "code",
   "execution_count": 45,
   "id": "313d1259-3c1c-4ef9-92bf-381c10a8793a",
   "metadata": {
    "tags": []
   },
   "outputs": [
    {
     "name": "stdout",
     "output_type": "stream",
     "text": [
      "100%|█████████████████████████████████████████████████████████████████████████████████████████████████| 35/35 [13:50<00:00, 23.74s/trial, best loss: -0.9991727602952027]\n"
     ]
    }
   ],
   "source": [
    "best = fmin(objective, space, algo=tpe.suggest, max_evals=35, trials=trials, \n",
    "            verbose=1, rstate=np.random.default_rng(42))"
   ]
  },
  {
   "cell_type": "code",
   "execution_count": 47,
   "id": "6fd39171-1ace-4c28-a7a7-f471828e31e3",
   "metadata": {},
   "outputs": [
    {
     "data": {
      "text/plain": [
       "{'model__bagging_fraction': 0.6365332955584441,\n",
       " 'model__boosting_type': 'goss',\n",
       " 'model__class_weight': None,\n",
       " 'model__colsample_bytree': None,\n",
       " 'model__feature_fraction': 0.8672133567704401,\n",
       " 'model__lambda_l1': 0,\n",
       " 'model__lambda_l2': 0,\n",
       " 'model__learning_rate': 0.19766773915494987,\n",
       " 'model__min_child_samples': None,\n",
       " 'model__min_child_weight': 2.14037457105386e-06,\n",
       " 'model__min_data_in_leaf': 1.0,\n",
       " 'model__min_sum_hessian_in_leaf': None,\n",
       " 'model__reg_alpha': None,\n",
       " 'model__reg_lambda': None,\n",
       " 'model__subsample': None,\n",
       " 'model__subsample_for_bin': 180000.0,\n",
       " 'model__verbose': -1}"
      ]
     },
     "execution_count": 47,
     "metadata": {},
     "output_type": "execute_result"
    }
   ],
   "source": [
    "best_params = space_eval(space, best)\n",
    "best_params"
   ]
  },
  {
   "cell_type": "code",
   "execution_count": 52,
   "id": "d4c50309-4138-49d6-8b22-1aef25fc5e83",
   "metadata": {},
   "outputs": [],
   "source": [
    "for col in 'model__min_data_in_leaf', 'model__max_depth': #'model__min_child_samples':\n",
    "    if col in best_params:\n",
    "        best_params[col] = int(best_params[col])\n",
    "for col in ('model__subsample_for_bin', ):\n",
    "    if col in best_params:\n",
    "        best_params[col] = int(float(best_params[col]))"
   ]
  },
  {
   "cell_type": "markdown",
   "id": "5534ba7b-46d3-44a1-86cc-e2339a94d906",
   "metadata": {},
   "source": [
    "## Performance on Validation"
   ]
  },
  {
   "cell_type": "code",
   "execution_count": null,
   "id": "78e2c951-c381-4e1d-ab49-57acc0a96828",
   "metadata": {},
   "outputs": [],
   "source": []
  },
  {
   "cell_type": "code",
   "execution_count": 53,
   "id": "32e7005a-89f4-4c84-8652-9caf2dca24a2",
   "metadata": {},
   "outputs": [
    {
     "data": {
      "text/html": [
       "<style>#sk-container-id-2 {color: black;background-color: white;}#sk-container-id-2 pre{padding: 0;}#sk-container-id-2 div.sk-toggleable {background-color: white;}#sk-container-id-2 label.sk-toggleable__label {cursor: pointer;display: block;width: 100%;margin-bottom: 0;padding: 0.3em;box-sizing: border-box;text-align: center;}#sk-container-id-2 label.sk-toggleable__label-arrow:before {content: \"▸\";float: left;margin-right: 0.25em;color: #696969;}#sk-container-id-2 label.sk-toggleable__label-arrow:hover:before {color: black;}#sk-container-id-2 div.sk-estimator:hover label.sk-toggleable__label-arrow:before {color: black;}#sk-container-id-2 div.sk-toggleable__content {max-height: 0;max-width: 0;overflow: hidden;text-align: left;background-color: #f0f8ff;}#sk-container-id-2 div.sk-toggleable__content pre {margin: 0.2em;color: black;border-radius: 0.25em;background-color: #f0f8ff;}#sk-container-id-2 input.sk-toggleable__control:checked~div.sk-toggleable__content {max-height: 200px;max-width: 100%;overflow: auto;}#sk-container-id-2 input.sk-toggleable__control:checked~label.sk-toggleable__label-arrow:before {content: \"▾\";}#sk-container-id-2 div.sk-estimator input.sk-toggleable__control:checked~label.sk-toggleable__label {background-color: #d4ebff;}#sk-container-id-2 div.sk-label input.sk-toggleable__control:checked~label.sk-toggleable__label {background-color: #d4ebff;}#sk-container-id-2 input.sk-hidden--visually {border: 0;clip: rect(1px 1px 1px 1px);clip: rect(1px, 1px, 1px, 1px);height: 1px;margin: -1px;overflow: hidden;padding: 0;position: absolute;width: 1px;}#sk-container-id-2 div.sk-estimator {font-family: monospace;background-color: #f0f8ff;border: 1px dotted black;border-radius: 0.25em;box-sizing: border-box;margin-bottom: 0.5em;}#sk-container-id-2 div.sk-estimator:hover {background-color: #d4ebff;}#sk-container-id-2 div.sk-parallel-item::after {content: \"\";width: 100%;border-bottom: 1px solid gray;flex-grow: 1;}#sk-container-id-2 div.sk-label:hover label.sk-toggleable__label {background-color: #d4ebff;}#sk-container-id-2 div.sk-serial::before {content: \"\";position: absolute;border-left: 1px solid gray;box-sizing: border-box;top: 0;bottom: 0;left: 50%;z-index: 0;}#sk-container-id-2 div.sk-serial {display: flex;flex-direction: column;align-items: center;background-color: white;padding-right: 0.2em;padding-left: 0.2em;position: relative;}#sk-container-id-2 div.sk-item {position: relative;z-index: 1;}#sk-container-id-2 div.sk-parallel {display: flex;align-items: stretch;justify-content: center;background-color: white;position: relative;}#sk-container-id-2 div.sk-item::before, #sk-container-id-2 div.sk-parallel-item::before {content: \"\";position: absolute;border-left: 1px solid gray;box-sizing: border-box;top: 0;bottom: 0;left: 50%;z-index: -1;}#sk-container-id-2 div.sk-parallel-item {display: flex;flex-direction: column;z-index: 1;position: relative;background-color: white;}#sk-container-id-2 div.sk-parallel-item:first-child::after {align-self: flex-end;width: 50%;}#sk-container-id-2 div.sk-parallel-item:last-child::after {align-self: flex-start;width: 50%;}#sk-container-id-2 div.sk-parallel-item:only-child::after {width: 0;}#sk-container-id-2 div.sk-dashed-wrapped {border: 1px dashed gray;margin: 0 0.4em 0.5em 0.4em;box-sizing: border-box;padding-bottom: 0.4em;background-color: white;}#sk-container-id-2 div.sk-label label {font-family: monospace;font-weight: bold;display: inline-block;line-height: 1.2em;}#sk-container-id-2 div.sk-label-container {text-align: center;}#sk-container-id-2 div.sk-container {/* jupyter's `normalize.less` sets `[hidden] { display: none; }` but bootstrap.min.css set `[hidden] { display: none !important; }` so we also need the `!important` here to be able to override the default hidden behavior on the sphinx rendered scikit-learn.org. See: https://github.com/scikit-learn/scikit-learn/issues/21755 */display: inline-block !important;position: relative;}#sk-container-id-2 div.sk-text-repr-fallback {display: none;}</style><div id=\"sk-container-id-2\" class=\"sk-top-container\"><div class=\"sk-text-repr-fallback\"><pre>Pipeline(steps=[(&#x27;model&#x27;,\n",
       "                 LGBMClassifier(bagging_fraction=0.6365332955584441,\n",
       "                                boosting_type=&#x27;goss&#x27;, colsample_bytree=None,\n",
       "                                feature_fraction=0.8672133567704401,\n",
       "                                lambda_l1=0, lambda_l2=0,\n",
       "                                learning_rate=0.19766773915494987,\n",
       "                                min_child_samples=None,\n",
       "                                min_child_weight=2.14037457105386e-06,\n",
       "                                min_data_in_leaf=1,\n",
       "                                min_sum_hessian_in_leaf=None, num_leaves=21,\n",
       "                                random_state=2024, reg_alpha=None,\n",
       "                                reg_lambda=None, subsample=None,\n",
       "                                subsample_for_bin=180000, verbose=-1))])</pre><b>In a Jupyter environment, please rerun this cell to show the HTML representation or trust the notebook. <br />On GitHub, the HTML representation is unable to render, please try loading this page with nbviewer.org.</b></div><div class=\"sk-container\" hidden><div class=\"sk-item sk-dashed-wrapped\"><div class=\"sk-label-container\"><div class=\"sk-label sk-toggleable\"><input class=\"sk-toggleable__control sk-hidden--visually\" id=\"sk-estimator-id-3\" type=\"checkbox\" ><label for=\"sk-estimator-id-3\" class=\"sk-toggleable__label sk-toggleable__label-arrow\">Pipeline</label><div class=\"sk-toggleable__content\"><pre>Pipeline(steps=[(&#x27;model&#x27;,\n",
       "                 LGBMClassifier(bagging_fraction=0.6365332955584441,\n",
       "                                boosting_type=&#x27;goss&#x27;, colsample_bytree=None,\n",
       "                                feature_fraction=0.8672133567704401,\n",
       "                                lambda_l1=0, lambda_l2=0,\n",
       "                                learning_rate=0.19766773915494987,\n",
       "                                min_child_samples=None,\n",
       "                                min_child_weight=2.14037457105386e-06,\n",
       "                                min_data_in_leaf=1,\n",
       "                                min_sum_hessian_in_leaf=None, num_leaves=21,\n",
       "                                random_state=2024, reg_alpha=None,\n",
       "                                reg_lambda=None, subsample=None,\n",
       "                                subsample_for_bin=180000, verbose=-1))])</pre></div></div></div><div class=\"sk-serial\"><div class=\"sk-item\"><div class=\"sk-estimator sk-toggleable\"><input class=\"sk-toggleable__control sk-hidden--visually\" id=\"sk-estimator-id-4\" type=\"checkbox\" ><label for=\"sk-estimator-id-4\" class=\"sk-toggleable__label sk-toggleable__label-arrow\">LGBMClassifier</label><div class=\"sk-toggleable__content\"><pre>LGBMClassifier(bagging_fraction=0.6365332955584441, boosting_type=&#x27;goss&#x27;,\n",
       "               colsample_bytree=None, feature_fraction=0.8672133567704401,\n",
       "               lambda_l1=0, lambda_l2=0, learning_rate=0.19766773915494987,\n",
       "               min_child_samples=None, min_child_weight=2.14037457105386e-06,\n",
       "               min_data_in_leaf=1, min_sum_hessian_in_leaf=None, num_leaves=21,\n",
       "               random_state=2024, reg_alpha=None, reg_lambda=None,\n",
       "               subsample=None, subsample_for_bin=180000, verbose=-1)</pre></div></div></div></div></div></div></div>"
      ],
      "text/plain": [
       "Pipeline(steps=[('model',\n",
       "                 LGBMClassifier(bagging_fraction=0.6365332955584441,\n",
       "                                boosting_type='goss', colsample_bytree=None,\n",
       "                                feature_fraction=0.8672133567704401,\n",
       "                                lambda_l1=0, lambda_l2=0,\n",
       "                                learning_rate=0.19766773915494987,\n",
       "                                min_child_samples=None,\n",
       "                                min_child_weight=2.14037457105386e-06,\n",
       "                                min_data_in_leaf=1,\n",
       "                                min_sum_hessian_in_leaf=None, num_leaves=21,\n",
       "                                random_state=2024, reg_alpha=None,\n",
       "                                reg_lambda=None, subsample=None,\n",
       "                                subsample_for_bin=180000, verbose=-1))])"
      ]
     },
     "execution_count": 53,
     "metadata": {},
     "output_type": "execute_result"
    }
   ],
   "source": [
    "best_model = MODEL.set_params(**best_params, model__random_state=2024)\n",
    "best_model.fit(X_train, y_train)"
   ]
  },
  {
   "cell_type": "code",
   "execution_count": 54,
   "id": "e1d04cdb-226f-4e9d-b775-d2418b81b46a",
   "metadata": {},
   "outputs": [],
   "source": [
    "metaflow_config = dict(\n",
    "    tracking_uri='https://mlflow.production.streeteasy.cloud',\n",
    "    experiment_name='expert_transaction_matching',\n",
    "    model_name='expert_transaction_matching',\n",
    "    tags=dict(target='matching')\n",
    ")"
   ]
  },
  {
   "cell_type": "code",
   "execution_count": null,
   "id": "c0e2b79b-9a91-48eb-99c1-b10ddadd7f16",
   "metadata": {},
   "outputs": [],
   "source": []
  },
  {
   "cell_type": "code",
   "execution_count": 59,
   "id": "1b71470d-e50e-4d55-b3e2-d2bbfd492037",
   "metadata": {},
   "outputs": [
    {
     "name": "stderr",
     "output_type": "stream",
     "text": [
      "2024/03/28 18:26:32 INFO mlflow.tracking.fluent: Autologging successfully enabled for lightgbm.\n",
      "2024/03/28 18:26:32 WARNING mlflow.utils.autologging_utils: You are using an unsupported version of statsmodels. If you encounter errors during autologging, try upgrading / downgrading statsmodels to a supported version, or try upgrading MLflow.\n",
      "2024/03/28 18:26:33 INFO mlflow.tracking.fluent: Autologging successfully enabled for statsmodels.\n",
      "2024/03/28 18:26:34 INFO mlflow.tracking.fluent: Autologging successfully enabled for sklearn.\n",
      "2024/03/28 18:26:34 WARNING mlflow.utils: Truncated the value of the key `steps`. Truncated value: `[('model', LGBMClassifier(bagging_fraction=0.6365332955584441, boosting_type='goss',\n",
      "               colsample_bytree=None, feature_fraction=0.8672133567704401,\n",
      "               lambda_l1=0, lambda_l2=0, learning_rate=0.19766773915494987,\n",
      "               min_child_samples=None, min_child_weight=2.14037457105386e-06,\n",
      "               min_data_in_leaf=1, min_sum_hessian_in_leaf=None, num_leaves=21,\n",
      "               random_state=2024, reg_alpha=None, reg_lambda=None,\n",
      "               subsample=None, subsa...`\n",
      "2024/03/28 18:26:34 WARNING mlflow.utils: Truncated the value of the key `model`. Truncated value: `LGBMClassifier(bagging_fraction=0.6365332955584441, boosting_type='goss',\n",
      "               colsample_bytree=None, feature_fraction=0.8672133567704401,\n",
      "               lambda_l1=0, lambda_l2=0, learning_rate=0.19766773915494987,\n",
      "               min_child_samples=None, min_child_weight=2.14037457105386e-06,\n",
      "               min_data_in_leaf=1, min_sum_hessian_in_leaf=None, num_leaves=21,\n",
      "               random_state=2024, reg_alpha=None, reg_lambda=None,\n",
      "               subsample=None, subsample_for_bi...`\n",
      "2024/03/28 18:26:47 WARNING mlflow.utils.autologging_utils: MLflow autologging encountered a warning: \"/Users/philippk/Library/Caches/pypoetry/virtualenvs/propmatch-FGcSQV3J-py3.8/lib/python3.8/site-packages/mlflow/models/signature.py:137: UserWarning: Hint: Inferred schema contains integer column(s). Integer columns in Python cannot represent missing values. If your input data contains missing values at inference time, it will be encoded as floats and will cause a schema enforcement error. The best way to avoid this problem is to infer the model schema based on a realistic data sample (training dataset) that includes missing values. Alternatively, you can declare integer columns as doubles (float64) whenever these columns may have missing values. See `Handling Integers With Missing Values <https://www.mlflow.org/docs/latest/models.html#handling-integers-with-missing-values>`_ for more details.\"\n",
      "2024/03/28 18:26:52 WARNING mlflow.utils.autologging_utils: MLflow autologging encountered a warning: \"/Users/philippk/Library/Caches/pypoetry/virtualenvs/propmatch-FGcSQV3J-py3.8/lib/python3.8/site-packages/_distutils_hack/__init__.py:33: UserWarning: Setuptools is replacing distutils.\"\n",
      "/Users/philippk/Library/Caches/pypoetry/virtualenvs/propmatch-FGcSQV3J-py3.8/lib/python3.8/site-packages/mlflow/models/signature.py:138: UserWarning: Hint: Inferred schema contains integer column(s). Integer columns in Python cannot represent missing values. If your input data contains missing values at inference time, it will be encoded as floats and will cause a schema enforcement error. The best way to avoid this problem is to infer the model schema based on a realistic data sample (training dataset) that includes missing values. Alternatively, you can declare integer columns as doubles (float64) whenever these columns may have missing values. See `Handling Integers With Missing Values <https://www.mlflow.org/docs/latest/models.html#handling-integers-with-missing-values>`_ for more details.\n",
      "  outputs = _infer_schema(model_output) if model_output is not None else None\n"
     ]
    },
    {
     "data": {
      "text/html": [
       "<style>#sk-container-id-4 {color: black;background-color: white;}#sk-container-id-4 pre{padding: 0;}#sk-container-id-4 div.sk-toggleable {background-color: white;}#sk-container-id-4 label.sk-toggleable__label {cursor: pointer;display: block;width: 100%;margin-bottom: 0;padding: 0.3em;box-sizing: border-box;text-align: center;}#sk-container-id-4 label.sk-toggleable__label-arrow:before {content: \"▸\";float: left;margin-right: 0.25em;color: #696969;}#sk-container-id-4 label.sk-toggleable__label-arrow:hover:before {color: black;}#sk-container-id-4 div.sk-estimator:hover label.sk-toggleable__label-arrow:before {color: black;}#sk-container-id-4 div.sk-toggleable__content {max-height: 0;max-width: 0;overflow: hidden;text-align: left;background-color: #f0f8ff;}#sk-container-id-4 div.sk-toggleable__content pre {margin: 0.2em;color: black;border-radius: 0.25em;background-color: #f0f8ff;}#sk-container-id-4 input.sk-toggleable__control:checked~div.sk-toggleable__content {max-height: 200px;max-width: 100%;overflow: auto;}#sk-container-id-4 input.sk-toggleable__control:checked~label.sk-toggleable__label-arrow:before {content: \"▾\";}#sk-container-id-4 div.sk-estimator input.sk-toggleable__control:checked~label.sk-toggleable__label {background-color: #d4ebff;}#sk-container-id-4 div.sk-label input.sk-toggleable__control:checked~label.sk-toggleable__label {background-color: #d4ebff;}#sk-container-id-4 input.sk-hidden--visually {border: 0;clip: rect(1px 1px 1px 1px);clip: rect(1px, 1px, 1px, 1px);height: 1px;margin: -1px;overflow: hidden;padding: 0;position: absolute;width: 1px;}#sk-container-id-4 div.sk-estimator {font-family: monospace;background-color: #f0f8ff;border: 1px dotted black;border-radius: 0.25em;box-sizing: border-box;margin-bottom: 0.5em;}#sk-container-id-4 div.sk-estimator:hover {background-color: #d4ebff;}#sk-container-id-4 div.sk-parallel-item::after {content: \"\";width: 100%;border-bottom: 1px solid gray;flex-grow: 1;}#sk-container-id-4 div.sk-label:hover label.sk-toggleable__label {background-color: #d4ebff;}#sk-container-id-4 div.sk-serial::before {content: \"\";position: absolute;border-left: 1px solid gray;box-sizing: border-box;top: 0;bottom: 0;left: 50%;z-index: 0;}#sk-container-id-4 div.sk-serial {display: flex;flex-direction: column;align-items: center;background-color: white;padding-right: 0.2em;padding-left: 0.2em;position: relative;}#sk-container-id-4 div.sk-item {position: relative;z-index: 1;}#sk-container-id-4 div.sk-parallel {display: flex;align-items: stretch;justify-content: center;background-color: white;position: relative;}#sk-container-id-4 div.sk-item::before, #sk-container-id-4 div.sk-parallel-item::before {content: \"\";position: absolute;border-left: 1px solid gray;box-sizing: border-box;top: 0;bottom: 0;left: 50%;z-index: -1;}#sk-container-id-4 div.sk-parallel-item {display: flex;flex-direction: column;z-index: 1;position: relative;background-color: white;}#sk-container-id-4 div.sk-parallel-item:first-child::after {align-self: flex-end;width: 50%;}#sk-container-id-4 div.sk-parallel-item:last-child::after {align-self: flex-start;width: 50%;}#sk-container-id-4 div.sk-parallel-item:only-child::after {width: 0;}#sk-container-id-4 div.sk-dashed-wrapped {border: 1px dashed gray;margin: 0 0.4em 0.5em 0.4em;box-sizing: border-box;padding-bottom: 0.4em;background-color: white;}#sk-container-id-4 div.sk-label label {font-family: monospace;font-weight: bold;display: inline-block;line-height: 1.2em;}#sk-container-id-4 div.sk-label-container {text-align: center;}#sk-container-id-4 div.sk-container {/* jupyter's `normalize.less` sets `[hidden] { display: none; }` but bootstrap.min.css set `[hidden] { display: none !important; }` so we also need the `!important` here to be able to override the default hidden behavior on the sphinx rendered scikit-learn.org. See: https://github.com/scikit-learn/scikit-learn/issues/21755 */display: inline-block !important;position: relative;}#sk-container-id-4 div.sk-text-repr-fallback {display: none;}</style><div id=\"sk-container-id-4\" class=\"sk-top-container\"><div class=\"sk-text-repr-fallback\"><pre>Pipeline(steps=[(&#x27;model&#x27;,\n",
       "                 LGBMClassifier(bagging_fraction=0.6365332955584441,\n",
       "                                boosting_type=&#x27;goss&#x27;, colsample_bytree=None,\n",
       "                                feature_fraction=0.8672133567704401,\n",
       "                                lambda_l1=0, lambda_l2=0,\n",
       "                                learning_rate=0.19766773915494987,\n",
       "                                min_child_samples=None,\n",
       "                                min_child_weight=2.14037457105386e-06,\n",
       "                                min_data_in_leaf=1,\n",
       "                                min_sum_hessian_in_leaf=None, num_leaves=21,\n",
       "                                random_state=2024, reg_alpha=None,\n",
       "                                reg_lambda=None, subsample=None,\n",
       "                                subsample_for_bin=180000, verbose=-1))])</pre><b>In a Jupyter environment, please rerun this cell to show the HTML representation or trust the notebook. <br />On GitHub, the HTML representation is unable to render, please try loading this page with nbviewer.org.</b></div><div class=\"sk-container\" hidden><div class=\"sk-item sk-dashed-wrapped\"><div class=\"sk-label-container\"><div class=\"sk-label sk-toggleable\"><input class=\"sk-toggleable__control sk-hidden--visually\" id=\"sk-estimator-id-7\" type=\"checkbox\" ><label for=\"sk-estimator-id-7\" class=\"sk-toggleable__label sk-toggleable__label-arrow\">Pipeline</label><div class=\"sk-toggleable__content\"><pre>Pipeline(steps=[(&#x27;model&#x27;,\n",
       "                 LGBMClassifier(bagging_fraction=0.6365332955584441,\n",
       "                                boosting_type=&#x27;goss&#x27;, colsample_bytree=None,\n",
       "                                feature_fraction=0.8672133567704401,\n",
       "                                lambda_l1=0, lambda_l2=0,\n",
       "                                learning_rate=0.19766773915494987,\n",
       "                                min_child_samples=None,\n",
       "                                min_child_weight=2.14037457105386e-06,\n",
       "                                min_data_in_leaf=1,\n",
       "                                min_sum_hessian_in_leaf=None, num_leaves=21,\n",
       "                                random_state=2024, reg_alpha=None,\n",
       "                                reg_lambda=None, subsample=None,\n",
       "                                subsample_for_bin=180000, verbose=-1))])</pre></div></div></div><div class=\"sk-serial\"><div class=\"sk-item\"><div class=\"sk-estimator sk-toggleable\"><input class=\"sk-toggleable__control sk-hidden--visually\" id=\"sk-estimator-id-8\" type=\"checkbox\" ><label for=\"sk-estimator-id-8\" class=\"sk-toggleable__label sk-toggleable__label-arrow\">LGBMClassifier</label><div class=\"sk-toggleable__content\"><pre>LGBMClassifier(bagging_fraction=0.6365332955584441, boosting_type=&#x27;goss&#x27;,\n",
       "               colsample_bytree=None, feature_fraction=0.8672133567704401,\n",
       "               lambda_l1=0, lambda_l2=0, learning_rate=0.19766773915494987,\n",
       "               min_child_samples=None, min_child_weight=2.14037457105386e-06,\n",
       "               min_data_in_leaf=1, min_sum_hessian_in_leaf=None, num_leaves=21,\n",
       "               random_state=2024, reg_alpha=None, reg_lambda=None,\n",
       "               subsample=None, subsample_for_bin=180000, verbose=-1)</pre></div></div></div></div></div></div></div>"
      ],
      "text/plain": [
       "Pipeline(steps=[('model',\n",
       "                 LGBMClassifier(bagging_fraction=0.6365332955584441,\n",
       "                                boosting_type='goss', colsample_bytree=None,\n",
       "                                feature_fraction=0.8672133567704401,\n",
       "                                lambda_l1=0, lambda_l2=0,\n",
       "                                learning_rate=0.19766773915494987,\n",
       "                                min_child_samples=None,\n",
       "                                min_child_weight=2.14037457105386e-06,\n",
       "                                min_data_in_leaf=1,\n",
       "                                min_sum_hessian_in_leaf=None, num_leaves=21,\n",
       "                                random_state=2024, reg_alpha=None,\n",
       "                                reg_lambda=None, subsample=None,\n",
       "                                subsample_for_bin=180000, verbose=-1))])"
      ]
     },
     "execution_count": 59,
     "metadata": {},
     "output_type": "execute_result"
    }
   ],
   "source": [
    "metaflow_config['run_name'] = f'binary_lbgm_data_resampled_10_hp6'\n",
    "mlflow_log_model(\n",
    "    best_model,\n",
    "    X_train,\n",
    "    y_train,\n",
    "    metaflow_config, \n",
    "    model_metadata={'sampling':'resampled_10', 'hyperopt':6},\n",
    "    validation=(X_val, y_val, METRICS)\n",
    ")"
   ]
  },
  {
   "cell_type": "markdown",
   "id": "3e8b5597-c8bd-4658-997a-87d79970a47d",
   "metadata": {},
   "source": [
    "## Add Calibration"
   ]
  },
  {
   "cell_type": "code",
   "execution_count": 74,
   "id": "fe559ac1-3234-46c2-aee7-332a9c65b4ff",
   "metadata": {},
   "outputs": [],
   "source": [
    "y_proba = best_model.predict_proba(X)[:, 1]"
   ]
  },
  {
   "cell_type": "code",
   "execution_count": 75,
   "id": "0d118b7a-58f0-4b57-9778-32818e109ebc",
   "metadata": {},
   "outputs": [
    {
     "data": {
      "image/png": "[encoded data removed]",
      "text/plain": [
       "<Figure size 640x480 with 1 Axes>"
      ]
     },
     "metadata": {},
     "output_type": "display_data"
    }
   ],
   "source": [
    "prob_true, prob_pred = calibration_curve(y, y_proba, n_bins=10)\n",
    "disp = CalibrationDisplay(prob_true, prob_pred, y_proba)\n",
    "disp.plot()\n",
    "plt.show()"
   ]
  },
  {
   "cell_type": "code",
   "execution_count": 76,
   "id": "e26c000a-e57f-4f35-b1d9-3998f153bf34",
   "metadata": {},
   "outputs": [],
   "source": [
    "# ?CalibratedClassifierCV"
   ]
  },
  {
   "cell_type": "code",
   "execution_count": 146,
   "id": "91119c9c-60d2-4ea7-9c60-5dab23308f03",
   "metadata": {},
   "outputs": [],
   "source": [
    "from sklearn.calibration import CalibratedClassifierCV\n",
    "cparams = { 'method': 'sigmoid', #'isotonic', #'sigmoid',\n",
    "            'ensemble':True,\n",
    "            'cv': 10}"
   ]
  },
  {
   "cell_type": "code",
   "execution_count": 147,
   "id": "3b331a56-fb18-490a-8f58-4421e0c380c9",
   "metadata": {},
   "outputs": [],
   "source": [
    "calibrated = CalibratedClassifierCV(best_model, **cparams)\n",
    "\n",
    "# estimator = MODEL.steps[-1][-1]\n",
    "# calibrated.steps[-1] = ('model', CalibratedClassifierCV(estimator, **cparams))"
   ]
  },
  {
   "cell_type": "code",
   "execution_count": 148,
   "id": "d08e9d24-0c2c-4043-94a5-fdca52967f6c",
   "metadata": {},
   "outputs": [
    {
     "name": "stderr",
     "output_type": "stream",
     "text": [
      "2024/03/28 19:18:56 INFO mlflow.utils.autologging_utils: Created MLflow autologging run with ID 'c726159d33c1496899d816c36fc3bd90', which will track hyperparameters, performance metrics, model artifacts, and lineage information for the current sklearn workflow\n",
      "2024/03/28 19:18:56 WARNING mlflow.utils: Truncated the value of the key `estimator__steps`. Truncated value: `[('model', LGBMClassifier(bagging_fraction=0.6365332955584441, boosting_type='goss',\n",
      "               colsample_bytree=None, feature_fraction=0.8672133567704401,\n",
      "               lambda_l1=0, lambda_l2=0, learning_rate=0.19766773915494987,\n",
      "               min_child_samples=None, min_child_weight=2.14037457105386e-06,\n",
      "               min_data_in_leaf=1, min_sum_hessian_in_leaf=None, num_leaves=21,\n",
      "               random_state=2024, reg_alpha=None, reg_lambda=None,\n",
      "               subsample=None, subsa...`\n",
      "2024/03/28 19:18:56 WARNING mlflow.utils: Truncated the value of the key `estimator__model`. Truncated value: `LGBMClassifier(bagging_fraction=0.6365332955584441, boosting_type='goss',\n",
      "               colsample_bytree=None, feature_fraction=0.8672133567704401,\n",
      "               lambda_l1=0, lambda_l2=0, learning_rate=0.19766773915494987,\n",
      "               min_child_samples=None, min_child_weight=2.14037457105386e-06,\n",
      "               min_data_in_leaf=1, min_sum_hessian_in_leaf=None, num_leaves=21,\n",
      "               random_state=2024, reg_alpha=None, reg_lambda=None,\n",
      "               subsample=None, subsample_for_bi...`\n",
      "2024/03/28 19:18:56 WARNING mlflow.utils: Truncated the value of the key `estimator`. Truncated value: `Pipeline(steps=[('model',\n",
      "                 LGBMClassifier(bagging_fraction=0.6365332955584441,\n",
      "                                boosting_type='goss', colsample_bytree=None,\n",
      "                                feature_fraction=0.8672133567704401,\n",
      "                                lambda_l1=0, lambda_l2=0,\n",
      "                                learning_rate=0.19766773915494987,\n",
      "                                min_child_samples=None,\n",
      "                                min_child_weight=2.14037457105386e-06,\n",
      "    ...`\n",
      "2024/03/28 19:20:38 WARNING mlflow.utils.autologging_utils: MLflow autologging encountered a warning: \"/Users/philippk/Library/Caches/pypoetry/virtualenvs/propmatch-FGcSQV3J-py3.8/lib/python3.8/site-packages/mlflow/models/signature.py:137: UserWarning: Hint: Inferred schema contains integer column(s). Integer columns in Python cannot represent missing values. If your input data contains missing values at inference time, it will be encoded as floats and will cause a schema enforcement error. The best way to avoid this problem is to infer the model schema based on a realistic data sample (training dataset) that includes missing values. Alternatively, you can declare integer columns as doubles (float64) whenever these columns may have missing values. See `Handling Integers With Missing Values <https://www.mlflow.org/docs/latest/models.html#handling-integers-with-missing-values>`_ for more details.\"\n"
     ]
    }
   ],
   "source": [
    "calibrated.fit(X_train, y_train)\n",
    "\n",
    "y_pred_c = calibrated.predict_proba(X)[:, 1]\n",
    "y_c = calibrated.predict(X)"
   ]
  },
  {
   "cell_type": "code",
   "execution_count": 149,
   "id": "9621e51b-11f8-4d48-98de-062172bb27ad",
   "metadata": {},
   "outputs": [
    {
     "data": {
      "text/plain": [
       "<sklearn.calibration.CalibrationDisplay at 0x7faf4bf419d0>"
      ]
     },
     "execution_count": 149,
     "metadata": {},
     "output_type": "execute_result"
    }
   ],
   "source": [
    "prob_true, prob_pred = calibration_curve(y, y_pred_c, n_bins=20)\n",
    "disp = CalibrationDisplay(prob_true, prob_pred, y_pred_c)\n",
    "disp.plot()"
   ]
  },
  {
   "cell_type": "code",
   "execution_count": 150,
   "id": "7033ad6f-b12d-44e0-b5ba-96906cbacd8c",
   "metadata": {},
   "outputs": [
    {
     "data": {
      "image/png": "[encoded data removed]",
      "text/plain": [
       "<Figure size 640x480 with 1 Axes>"
      ]
     },
     "metadata": {},
     "output_type": "display_data"
    }
   ],
   "source": [
    "plt.show()"
   ]
  },
  {
   "cell_type": "markdown",
   "id": "d8e4b371-ccb1-415d-8e8e-afdef8d6faca",
   "metadata": {},
   "source": [
    "## Curves"
   ]
  },
  {
   "cell_type": "code",
   "execution_count": 141,
   "id": "45abf233-5879-4bcf-bd93-28e1ed100ba3",
   "metadata": {},
   "outputs": [],
   "source": [
    "prec, recall, step = precision_recall_curve(y, y_pred_c, pos_label=1)"
   ]
  },
  {
   "cell_type": "code",
   "execution_count": 142,
   "id": "f7868309-5bf1-431b-bf5b-caded0f76c2e",
   "metadata": {},
   "outputs": [
    {
     "data": {
      "image/png": "[encoded data removed]",
      "text/plain": [
       "<Figure size 640x480 with 1 Axes>"
      ]
     },
     "metadata": {},
     "output_type": "display_data"
    }
   ],
   "source": [
    "curve_df = pd.DataFrame({'prec':prec[:-1], 'recall':recall[:-1]}, index=step)\n",
    "curve_df.plot()\n",
    "plt.show();"
   ]
  },
  {
   "cell_type": "code",
   "execution_count": 145,
   "id": "c6d400ba-88cb-4855-ae05-1f7a4d53d095",
   "metadata": {},
   "outputs": [
    {
     "data": {
      "text/html": [
       "<div>\n",
       "<style scoped>\n",
       "    .dataframe tbody tr th:only-of-type {\n",
       "        vertical-align: middle;\n",
       "    }\n",
       "\n",
       "    .dataframe tbody tr th {\n",
       "        vertical-align: top;\n",
       "    }\n",
       "\n",
       "    .dataframe thead th {\n",
       "        text-align: right;\n",
       "    }\n",
       "</style>\n",
       "<table border=\"1\" class=\"dataframe\">\n",
       "  <thead>\n",
       "    <tr style=\"text-align: right;\">\n",
       "      <th></th>\n",
       "      <th>prec</th>\n",
       "      <th>recall</th>\n",
       "    </tr>\n",
       "  </thead>\n",
       "  <tbody>\n",
       "    <tr>\n",
       "      <th>0.202884</th>\n",
       "      <td>0.653311</td>\n",
       "      <td>0.996843</td>\n",
       "    </tr>\n",
       "    <tr>\n",
       "      <th>0.203865</th>\n",
       "      <td>0.653434</td>\n",
       "      <td>0.996843</td>\n",
       "    </tr>\n",
       "    <tr>\n",
       "      <th>0.204647</th>\n",
       "      <td>0.653557</td>\n",
       "      <td>0.996843</td>\n",
       "    </tr>\n",
       "  </tbody>\n",
       "</table>\n",
       "</div>"
      ],
      "text/plain": [
       "              prec    recall\n",
       "0.202884  0.653311  0.996843\n",
       "0.203865  0.653434  0.996843\n",
       "0.204647  0.653557  0.996843"
      ]
     },
     "execution_count": 145,
     "metadata": {},
     "output_type": "execute_result"
    }
   ],
   "source": [
    "curve_df[curve_df.index > 0.2].head(3)"
   ]
  },
  {
   "cell_type": "code",
   "execution_count": 90,
   "id": "ab55e7a6-4e8a-4b3f-b5d9-c32d6e83a5cd",
   "metadata": {},
   "outputs": [
    {
     "data": {
      "text/html": [
       "<div>\n",
       "<style scoped>\n",
       "    .dataframe tbody tr th:only-of-type {\n",
       "        vertical-align: middle;\n",
       "    }\n",
       "\n",
       "    .dataframe tbody tr th {\n",
       "        vertical-align: top;\n",
       "    }\n",
       "\n",
       "    .dataframe thead th {\n",
       "        text-align: right;\n",
       "    }\n",
       "</style>\n",
       "<table border=\"1\" class=\"dataframe\">\n",
       "  <thead>\n",
       "    <tr style=\"text-align: right;\">\n",
       "      <th></th>\n",
       "      <th>prec</th>\n",
       "      <th>recall</th>\n",
       "    </tr>\n",
       "  </thead>\n",
       "  <tbody>\n",
       "    <tr>\n",
       "      <th>0.990014</th>\n",
       "      <td>0.979525</td>\n",
       "      <td>0.343284</td>\n",
       "    </tr>\n",
       "    <tr>\n",
       "      <th>0.990035</th>\n",
       "      <td>0.979491</td>\n",
       "      <td>0.342710</td>\n",
       "    </tr>\n",
       "    <tr>\n",
       "      <th>0.990057</th>\n",
       "      <td>0.979441</td>\n",
       "      <td>0.341848</td>\n",
       "    </tr>\n",
       "  </tbody>\n",
       "</table>\n",
       "</div>"
      ],
      "text/plain": [
       "              prec    recall\n",
       "0.990014  0.979525  0.343284\n",
       "0.990035  0.979491  0.342710\n",
       "0.990057  0.979441  0.341848"
      ]
     },
     "execution_count": 90,
     "metadata": {},
     "output_type": "execute_result"
    }
   ],
   "source": [
    "curve_df[curve_df.index > 0.99].head(3)"
   ]
  },
  {
   "cell_type": "code",
   "execution_count": 120,
   "id": "ceda965e-232e-44cd-81a4-31e9ac5b4cc8",
   "metadata": {},
   "outputs": [],
   "source": [
    "# X_val.dtypes"
   ]
  },
  {
   "cell_type": "markdown",
   "id": "27fa9117-4ae8-45a6-a48d-40573bce7d1e",
   "metadata": {},
   "source": [
    "## Store"
   ]
  },
  {
   "cell_type": "code",
   "execution_count": 92,
   "id": "09801537-3120-42ef-b339-27da4d53f637",
   "metadata": {},
   "outputs": [
    {
     "name": "stderr",
     "output_type": "stream",
     "text": [
      "2024/03/28 18:37:51 INFO mlflow.tracking.fluent: Autologging successfully enabled for lightgbm.\n",
      "2024/03/28 18:37:51 WARNING mlflow.utils.autologging_utils: You are using an unsupported version of statsmodels. If you encounter errors during autologging, try upgrading / downgrading statsmodels to a supported version, or try upgrading MLflow.\n",
      "2024/03/28 18:37:51 INFO mlflow.tracking.fluent: Autologging successfully enabled for statsmodels.\n",
      "2024/03/28 18:37:51 INFO mlflow.tracking.fluent: Autologging successfully enabled for sklearn.\n",
      "2024/03/28 18:37:51 WARNING mlflow.utils: Truncated the value of the key `estimator__steps`. Truncated value: `[('model', LGBMClassifier(bagging_fraction=0.6365332955584441, boosting_type='goss',\n",
      "               colsample_bytree=None, feature_fraction=0.8672133567704401,\n",
      "               lambda_l1=0, lambda_l2=0, learning_rate=0.19766773915494987,\n",
      "               min_child_samples=None, min_child_weight=2.14037457105386e-06,\n",
      "               min_data_in_leaf=1, min_sum_hessian_in_leaf=None, num_leaves=21,\n",
      "               random_state=2024, reg_alpha=None, reg_lambda=None,\n",
      "               subsample=None, subsa...`\n",
      "2024/03/28 18:37:51 WARNING mlflow.utils: Truncated the value of the key `estimator__model`. Truncated value: `LGBMClassifier(bagging_fraction=0.6365332955584441, boosting_type='goss',\n",
      "               colsample_bytree=None, feature_fraction=0.8672133567704401,\n",
      "               lambda_l1=0, lambda_l2=0, learning_rate=0.19766773915494987,\n",
      "               min_child_samples=None, min_child_weight=2.14037457105386e-06,\n",
      "               min_data_in_leaf=1, min_sum_hessian_in_leaf=None, num_leaves=21,\n",
      "               random_state=2024, reg_alpha=None, reg_lambda=None,\n",
      "               subsample=None, subsample_for_bi...`\n",
      "2024/03/28 18:37:51 WARNING mlflow.utils: Truncated the value of the key `estimator`. Truncated value: `Pipeline(steps=[('model',\n",
      "                 LGBMClassifier(bagging_fraction=0.6365332955584441,\n",
      "                                boosting_type='goss', colsample_bytree=None,\n",
      "                                feature_fraction=0.8672133567704401,\n",
      "                                lambda_l1=0, lambda_l2=0,\n",
      "                                learning_rate=0.19766773915494987,\n",
      "                                min_child_samples=None,\n",
      "                                min_child_weight=2.14037457105386e-06,\n",
      "    ...`\n",
      "2024/03/28 18:38:25 WARNING mlflow.utils.autologging_utils: MLflow autologging encountered a warning: \"/Users/philippk/Library/Caches/pypoetry/virtualenvs/propmatch-FGcSQV3J-py3.8/lib/python3.8/site-packages/mlflow/models/signature.py:137: UserWarning: Hint: Inferred schema contains integer column(s). Integer columns in Python cannot represent missing values. If your input data contains missing values at inference time, it will be encoded as floats and will cause a schema enforcement error. The best way to avoid this problem is to infer the model schema based on a realistic data sample (training dataset) that includes missing values. Alternatively, you can declare integer columns as doubles (float64) whenever these columns may have missing values. See `Handling Integers With Missing Values <https://www.mlflow.org/docs/latest/models.html#handling-integers-with-missing-values>`_ for more details.\"\n",
      "/Users/philippk/Library/Caches/pypoetry/virtualenvs/propmatch-FGcSQV3J-py3.8/lib/python3.8/site-packages/mlflow/models/signature.py:138: UserWarning: Hint: Inferred schema contains integer column(s). Integer columns in Python cannot represent missing values. If your input data contains missing values at inference time, it will be encoded as floats and will cause a schema enforcement error. The best way to avoid this problem is to infer the model schema based on a realistic data sample (training dataset) that includes missing values. Alternatively, you can declare integer columns as doubles (float64) whenever these columns may have missing values. See `Handling Integers With Missing Values <https://www.mlflow.org/docs/latest/models.html#handling-integers-with-missing-values>`_ for more details.\n",
      "  outputs = _infer_schema(model_output) if model_output is not None else None\n"
     ]
    },
    {
     "data": {
      "text/html": [
       "<style>#sk-container-id-9 {color: black;background-color: white;}#sk-container-id-9 pre{padding: 0;}#sk-container-id-9 div.sk-toggleable {background-color: white;}#sk-container-id-9 label.sk-toggleable__label {cursor: pointer;display: block;width: 100%;margin-bottom: 0;padding: 0.3em;box-sizing: border-box;text-align: center;}#sk-container-id-9 label.sk-toggleable__label-arrow:before {content: \"▸\";float: left;margin-right: 0.25em;color: #696969;}#sk-container-id-9 label.sk-toggleable__label-arrow:hover:before {color: black;}#sk-container-id-9 div.sk-estimator:hover label.sk-toggleable__label-arrow:before {color: black;}#sk-container-id-9 div.sk-toggleable__content {max-height: 0;max-width: 0;overflow: hidden;text-align: left;background-color: #f0f8ff;}#sk-container-id-9 div.sk-toggleable__content pre {margin: 0.2em;color: black;border-radius: 0.25em;background-color: #f0f8ff;}#sk-container-id-9 input.sk-toggleable__control:checked~div.sk-toggleable__content {max-height: 200px;max-width: 100%;overflow: auto;}#sk-container-id-9 input.sk-toggleable__control:checked~label.sk-toggleable__label-arrow:before {content: \"▾\";}#sk-container-id-9 div.sk-estimator input.sk-toggleable__control:checked~label.sk-toggleable__label {background-color: #d4ebff;}#sk-container-id-9 div.sk-label input.sk-toggleable__control:checked~label.sk-toggleable__label {background-color: #d4ebff;}#sk-container-id-9 input.sk-hidden--visually {border: 0;clip: rect(1px 1px 1px 1px);clip: rect(1px, 1px, 1px, 1px);height: 1px;margin: -1px;overflow: hidden;padding: 0;position: absolute;width: 1px;}#sk-container-id-9 div.sk-estimator {font-family: monospace;background-color: #f0f8ff;border: 1px dotted black;border-radius: 0.25em;box-sizing: border-box;margin-bottom: 0.5em;}#sk-container-id-9 div.sk-estimator:hover {background-color: #d4ebff;}#sk-container-id-9 div.sk-parallel-item::after {content: \"\";width: 100%;border-bottom: 1px solid gray;flex-grow: 1;}#sk-container-id-9 div.sk-label:hover label.sk-toggleable__label {background-color: #d4ebff;}#sk-container-id-9 div.sk-serial::before {content: \"\";position: absolute;border-left: 1px solid gray;box-sizing: border-box;top: 0;bottom: 0;left: 50%;z-index: 0;}#sk-container-id-9 div.sk-serial {display: flex;flex-direction: column;align-items: center;background-color: white;padding-right: 0.2em;padding-left: 0.2em;position: relative;}#sk-container-id-9 div.sk-item {position: relative;z-index: 1;}#sk-container-id-9 div.sk-parallel {display: flex;align-items: stretch;justify-content: center;background-color: white;position: relative;}#sk-container-id-9 div.sk-item::before, #sk-container-id-9 div.sk-parallel-item::before {content: \"\";position: absolute;border-left: 1px solid gray;box-sizing: border-box;top: 0;bottom: 0;left: 50%;z-index: -1;}#sk-container-id-9 div.sk-parallel-item {display: flex;flex-direction: column;z-index: 1;position: relative;background-color: white;}#sk-container-id-9 div.sk-parallel-item:first-child::after {align-self: flex-end;width: 50%;}#sk-container-id-9 div.sk-parallel-item:last-child::after {align-self: flex-start;width: 50%;}#sk-container-id-9 div.sk-parallel-item:only-child::after {width: 0;}#sk-container-id-9 div.sk-dashed-wrapped {border: 1px dashed gray;margin: 0 0.4em 0.5em 0.4em;box-sizing: border-box;padding-bottom: 0.4em;background-color: white;}#sk-container-id-9 div.sk-label label {font-family: monospace;font-weight: bold;display: inline-block;line-height: 1.2em;}#sk-container-id-9 div.sk-label-container {text-align: center;}#sk-container-id-9 div.sk-container {/* jupyter's `normalize.less` sets `[hidden] { display: none; }` but bootstrap.min.css set `[hidden] { display: none !important; }` so we also need the `!important` here to be able to override the default hidden behavior on the sphinx rendered scikit-learn.org. See: https://github.com/scikit-learn/scikit-learn/issues/21755 */display: inline-block !important;position: relative;}#sk-container-id-9 div.sk-text-repr-fallback {display: none;}</style><div id=\"sk-container-id-9\" class=\"sk-top-container\"><div class=\"sk-text-repr-fallback\"><pre>CalibratedClassifierCV(cv=4,\n",
       "                       estimator=Pipeline(steps=[(&#x27;model&#x27;,\n",
       "                                                  LGBMClassifier(bagging_fraction=0.6365332955584441,\n",
       "                                                                 boosting_type=&#x27;goss&#x27;,\n",
       "                                                                 colsample_bytree=None,\n",
       "                                                                 feature_fraction=0.8672133567704401,\n",
       "                                                                 lambda_l1=0,\n",
       "                                                                 lambda_l2=0,\n",
       "                                                                 learning_rate=0.19766773915494987,\n",
       "                                                                 min_child_samples=None,\n",
       "                                                                 min_child_weight=2.14037457105386e-06,\n",
       "                                                                 min_data_in_leaf=1,\n",
       "                                                                 min_sum_hessian_in_leaf=None,\n",
       "                                                                 num_leaves=21,\n",
       "                                                                 random_state=2024,\n",
       "                                                                 reg_alpha=None,\n",
       "                                                                 reg_lambda=None,\n",
       "                                                                 subsample=None,\n",
       "                                                                 subsample_for_bin=180000,\n",
       "                                                                 verbose=-1))]),\n",
       "                       method=&#x27;isotonic&#x27;)</pre><b>In a Jupyter environment, please rerun this cell to show the HTML representation or trust the notebook. <br />On GitHub, the HTML representation is unable to render, please try loading this page with nbviewer.org.</b></div><div class=\"sk-container\" hidden><div class=\"sk-item sk-dashed-wrapped\"><div class=\"sk-label-container\"><div class=\"sk-label sk-toggleable\"><input class=\"sk-toggleable__control sk-hidden--visually\" id=\"sk-estimator-id-19\" type=\"checkbox\" ><label for=\"sk-estimator-id-19\" class=\"sk-toggleable__label sk-toggleable__label-arrow\">CalibratedClassifierCV</label><div class=\"sk-toggleable__content\"><pre>CalibratedClassifierCV(cv=4,\n",
       "                       estimator=Pipeline(steps=[(&#x27;model&#x27;,\n",
       "                                                  LGBMClassifier(bagging_fraction=0.6365332955584441,\n",
       "                                                                 boosting_type=&#x27;goss&#x27;,\n",
       "                                                                 colsample_bytree=None,\n",
       "                                                                 feature_fraction=0.8672133567704401,\n",
       "                                                                 lambda_l1=0,\n",
       "                                                                 lambda_l2=0,\n",
       "                                                                 learning_rate=0.19766773915494987,\n",
       "                                                                 min_child_samples=None,\n",
       "                                                                 min_child_weight=2.14037457105386e-06,\n",
       "                                                                 min_data_in_leaf=1,\n",
       "                                                                 min_sum_hessian_in_leaf=None,\n",
       "                                                                 num_leaves=21,\n",
       "                                                                 random_state=2024,\n",
       "                                                                 reg_alpha=None,\n",
       "                                                                 reg_lambda=None,\n",
       "                                                                 subsample=None,\n",
       "                                                                 subsample_for_bin=180000,\n",
       "                                                                 verbose=-1))]),\n",
       "                       method=&#x27;isotonic&#x27;)</pre></div></div></div><div class=\"sk-parallel\"><div class=\"sk-parallel-item\"><div class=\"sk-item\"><div class=\"sk-label-container\"><div class=\"sk-label sk-toggleable\"><input class=\"sk-toggleable__control sk-hidden--visually\" id=\"sk-estimator-id-20\" type=\"checkbox\" ><label for=\"sk-estimator-id-20\" class=\"sk-toggleable__label sk-toggleable__label-arrow\">estimator: Pipeline</label><div class=\"sk-toggleable__content\"><pre>Pipeline(steps=[(&#x27;model&#x27;,\n",
       "                 LGBMClassifier(bagging_fraction=0.6365332955584441,\n",
       "                                boosting_type=&#x27;goss&#x27;, colsample_bytree=None,\n",
       "                                feature_fraction=0.8672133567704401,\n",
       "                                lambda_l1=0, lambda_l2=0,\n",
       "                                learning_rate=0.19766773915494987,\n",
       "                                min_child_samples=None,\n",
       "                                min_child_weight=2.14037457105386e-06,\n",
       "                                min_data_in_leaf=1,\n",
       "                                min_sum_hessian_in_leaf=None, num_leaves=21,\n",
       "                                random_state=2024, reg_alpha=None,\n",
       "                                reg_lambda=None, subsample=None,\n",
       "                                subsample_for_bin=180000, verbose=-1))])</pre></div></div></div><div class=\"sk-serial\"><div class=\"sk-item\"><div class=\"sk-serial\"><div class=\"sk-item\"><div class=\"sk-estimator sk-toggleable\"><input class=\"sk-toggleable__control sk-hidden--visually\" id=\"sk-estimator-id-21\" type=\"checkbox\" ><label for=\"sk-estimator-id-21\" class=\"sk-toggleable__label sk-toggleable__label-arrow\">LGBMClassifier</label><div class=\"sk-toggleable__content\"><pre>LGBMClassifier(bagging_fraction=0.6365332955584441, boosting_type=&#x27;goss&#x27;,\n",
       "               colsample_bytree=None, feature_fraction=0.8672133567704401,\n",
       "               lambda_l1=0, lambda_l2=0, learning_rate=0.19766773915494987,\n",
       "               min_child_samples=None, min_child_weight=2.14037457105386e-06,\n",
       "               min_data_in_leaf=1, min_sum_hessian_in_leaf=None, num_leaves=21,\n",
       "               random_state=2024, reg_alpha=None, reg_lambda=None,\n",
       "               subsample=None, subsample_for_bin=180000, verbose=-1)</pre></div></div></div></div></div></div></div></div></div></div></div></div>"
      ],
      "text/plain": [
       "CalibratedClassifierCV(cv=4,\n",
       "                       estimator=Pipeline(steps=[('model',\n",
       "                                                  LGBMClassifier(bagging_fraction=0.6365332955584441,\n",
       "                                                                 boosting_type='goss',\n",
       "                                                                 colsample_bytree=None,\n",
       "                                                                 feature_fraction=0.8672133567704401,\n",
       "                                                                 lambda_l1=0,\n",
       "                                                                 lambda_l2=0,\n",
       "                                                                 learning_rate=0.19766773915494987,\n",
       "                                                                 min_child_samples=None,\n",
       "                                                                 min_child_weight=2.14037457105386e-06,\n",
       "                                                                 min_data_in_leaf=1,\n",
       "                                                                 min_sum_hessian_in_leaf=None,\n",
       "                                                                 num_leaves=21,\n",
       "                                                                 random_state=2024,\n",
       "                                                                 reg_alpha=None,\n",
       "                                                                 reg_lambda=None,\n",
       "                                                                 subsample=None,\n",
       "                                                                 subsample_for_bin=180000,\n",
       "                                                                 verbose=-1))]),\n",
       "                       method='isotonic')"
      ]
     },
     "execution_count": 92,
     "metadata": {},
     "output_type": "execute_result"
    }
   ],
   "source": [
    "metaflow_config['run_name'] = 'binary_lbgm_rsmpl01_hp_calibrated'\n",
    "mlflow_log_model(\n",
    "    calibrated,\n",
    "    X_train,\n",
    "    y_train,\n",
    "    metaflow_config, \n",
    "    model_metadata={'sampling':'resampled_10', 'hyperopt':7},\n",
    "    validation=(X_val, y_val, METRICS),\n",
    ")"
   ]
  },
  {
   "cell_type": "code",
   "execution_count": 131,
   "id": "8476dc9f-f14c-4880-8347-0d03eb6dc4d4",
   "metadata": {},
   "outputs": [],
   "source": [
    "X_train_2 = X_train.copy()\n",
    "bool_cols = [c for c in X_train_2.columns if c.startswith('same')]\n",
    "\n",
    "X_train_2[bool_cols] = X_train_2[bool_cols].astype(bool)"
   ]
  },
  {
   "cell_type": "code",
   "execution_count": 132,
   "id": "151375e8-292c-43e6-b756-424d10491c23",
   "metadata": {},
   "outputs": [
    {
     "name": "stdout",
     "output_type": "stream",
     "text": [
      "Mem. usage decreased to 43.07 Mb (58.8%% reduction)\n"
     ]
    }
   ],
   "source": [
    "X_train_2 = reduce_memory(X_train_2)"
   ]
  },
  {
   "cell_type": "code",
   "execution_count": 127,
   "id": "9d5b88ed-83c3-4710-a9d1-474c9f5ddd07",
   "metadata": {},
   "outputs": [],
   "source": [
    "X_val[bool_cols] = X_val[bool_cols].astype(bool)"
   ]
  },
  {
   "cell_type": "code",
   "execution_count": 128,
   "id": "bd537a3a-c5cd-4997-b240-68937cf7b5f3",
   "metadata": {},
   "outputs": [
    {
     "name": "stdout",
     "output_type": "stream",
     "text": [
      "Mem. usage decreased to  4.31 Mb (0.0%% reduction)\n"
     ]
    }
   ],
   "source": [
    "X_val = reduce_memory(X_val)"
   ]
  },
  {
   "cell_type": "code",
   "execution_count": 134,
   "id": "78485076-4ad3-458e-b25b-91b99b7827ca",
   "metadata": {},
   "outputs": [
    {
     "name": "stderr",
     "output_type": "stream",
     "text": [
      "2024/03/28 19:00:50 INFO mlflow.tracking.fluent: Autologging successfully enabled for lightgbm.\n",
      "2024/03/28 19:00:50 WARNING mlflow.utils.autologging_utils: You are using an unsupported version of statsmodels. If you encounter errors during autologging, try upgrading / downgrading statsmodels to a supported version, or try upgrading MLflow.\n",
      "2024/03/28 19:00:50 INFO mlflow.tracking.fluent: Autologging successfully enabled for statsmodels.\n",
      "2024/03/28 19:00:50 INFO mlflow.tracking.fluent: Autologging successfully enabled for sklearn.\n",
      "2024/03/28 19:00:50 WARNING mlflow.utils: Truncated the value of the key `estimator__steps`. Truncated value: `[('model', LGBMClassifier(bagging_fraction=0.6365332955584441, boosting_type='goss',\n",
      "               colsample_bytree=None, feature_fraction=0.8672133567704401,\n",
      "               lambda_l1=0, lambda_l2=0, learning_rate=0.19766773915494987,\n",
      "               min_child_samples=None, min_child_weight=2.14037457105386e-06,\n",
      "               min_data_in_leaf=1, min_sum_hessian_in_leaf=None, num_leaves=21,\n",
      "               random_state=2024, reg_alpha=None, reg_lambda=None,\n",
      "               subsample=None, subsa...`\n",
      "2024/03/28 19:00:50 WARNING mlflow.utils: Truncated the value of the key `estimator__model`. Truncated value: `LGBMClassifier(bagging_fraction=0.6365332955584441, boosting_type='goss',\n",
      "               colsample_bytree=None, feature_fraction=0.8672133567704401,\n",
      "               lambda_l1=0, lambda_l2=0, learning_rate=0.19766773915494987,\n",
      "               min_child_samples=None, min_child_weight=2.14037457105386e-06,\n",
      "               min_data_in_leaf=1, min_sum_hessian_in_leaf=None, num_leaves=21,\n",
      "               random_state=2024, reg_alpha=None, reg_lambda=None,\n",
      "               subsample=None, subsample_for_bi...`\n",
      "2024/03/28 19:00:50 WARNING mlflow.utils: Truncated the value of the key `estimator`. Truncated value: `Pipeline(steps=[('model',\n",
      "                 LGBMClassifier(bagging_fraction=0.6365332955584441,\n",
      "                                boosting_type='goss', colsample_bytree=None,\n",
      "                                feature_fraction=0.8672133567704401,\n",
      "                                lambda_l1=0, lambda_l2=0,\n",
      "                                learning_rate=0.19766773915494987,\n",
      "                                min_child_samples=None,\n",
      "                                min_child_weight=2.14037457105386e-06,\n",
      "    ...`\n",
      "/Users/philippk/Library/Caches/pypoetry/virtualenvs/propmatch-FGcSQV3J-py3.8/lib/python3.8/site-packages/mlflow/models/signature.py:138: UserWarning: Hint: Inferred schema contains integer column(s). Integer columns in Python cannot represent missing values. If your input data contains missing values at inference time, it will be encoded as floats and will cause a schema enforcement error. The best way to avoid this problem is to infer the model schema based on a realistic data sample (training dataset) that includes missing values. Alternatively, you can declare integer columns as doubles (float64) whenever these columns may have missing values. See `Handling Integers With Missing Values <https://www.mlflow.org/docs/latest/models.html#handling-integers-with-missing-values>`_ for more details.\n",
      "  outputs = _infer_schema(model_output) if model_output is not None else None\n"
     ]
    },
    {
     "data": {
      "text/html": [
       "<style>#sk-container-id-20 {color: black;background-color: white;}#sk-container-id-20 pre{padding: 0;}#sk-container-id-20 div.sk-toggleable {background-color: white;}#sk-container-id-20 label.sk-toggleable__label {cursor: pointer;display: block;width: 100%;margin-bottom: 0;padding: 0.3em;box-sizing: border-box;text-align: center;}#sk-container-id-20 label.sk-toggleable__label-arrow:before {content: \"▸\";float: left;margin-right: 0.25em;color: #696969;}#sk-container-id-20 label.sk-toggleable__label-arrow:hover:before {color: black;}#sk-container-id-20 div.sk-estimator:hover label.sk-toggleable__label-arrow:before {color: black;}#sk-container-id-20 div.sk-toggleable__content {max-height: 0;max-width: 0;overflow: hidden;text-align: left;background-color: #f0f8ff;}#sk-container-id-20 div.sk-toggleable__content pre {margin: 0.2em;color: black;border-radius: 0.25em;background-color: #f0f8ff;}#sk-container-id-20 input.sk-toggleable__control:checked~div.sk-toggleable__content {max-height: 200px;max-width: 100%;overflow: auto;}#sk-container-id-20 input.sk-toggleable__control:checked~label.sk-toggleable__label-arrow:before {content: \"▾\";}#sk-container-id-20 div.sk-estimator input.sk-toggleable__control:checked~label.sk-toggleable__label {background-color: #d4ebff;}#sk-container-id-20 div.sk-label input.sk-toggleable__control:checked~label.sk-toggleable__label {background-color: #d4ebff;}#sk-container-id-20 input.sk-hidden--visually {border: 0;clip: rect(1px 1px 1px 1px);clip: rect(1px, 1px, 1px, 1px);height: 1px;margin: -1px;overflow: hidden;padding: 0;position: absolute;width: 1px;}#sk-container-id-20 div.sk-estimator {font-family: monospace;background-color: #f0f8ff;border: 1px dotted black;border-radius: 0.25em;box-sizing: border-box;margin-bottom: 0.5em;}#sk-container-id-20 div.sk-estimator:hover {background-color: #d4ebff;}#sk-container-id-20 div.sk-parallel-item::after {content: \"\";width: 100%;border-bottom: 1px solid gray;flex-grow: 1;}#sk-container-id-20 div.sk-label:hover label.sk-toggleable__label {background-color: #d4ebff;}#sk-container-id-20 div.sk-serial::before {content: \"\";position: absolute;border-left: 1px solid gray;box-sizing: border-box;top: 0;bottom: 0;left: 50%;z-index: 0;}#sk-container-id-20 div.sk-serial {display: flex;flex-direction: column;align-items: center;background-color: white;padding-right: 0.2em;padding-left: 0.2em;position: relative;}#sk-container-id-20 div.sk-item {position: relative;z-index: 1;}#sk-container-id-20 div.sk-parallel {display: flex;align-items: stretch;justify-content: center;background-color: white;position: relative;}#sk-container-id-20 div.sk-item::before, #sk-container-id-20 div.sk-parallel-item::before {content: \"\";position: absolute;border-left: 1px solid gray;box-sizing: border-box;top: 0;bottom: 0;left: 50%;z-index: -1;}#sk-container-id-20 div.sk-parallel-item {display: flex;flex-direction: column;z-index: 1;position: relative;background-color: white;}#sk-container-id-20 div.sk-parallel-item:first-child::after {align-self: flex-end;width: 50%;}#sk-container-id-20 div.sk-parallel-item:last-child::after {align-self: flex-start;width: 50%;}#sk-container-id-20 div.sk-parallel-item:only-child::after {width: 0;}#sk-container-id-20 div.sk-dashed-wrapped {border: 1px dashed gray;margin: 0 0.4em 0.5em 0.4em;box-sizing: border-box;padding-bottom: 0.4em;background-color: white;}#sk-container-id-20 div.sk-label label {font-family: monospace;font-weight: bold;display: inline-block;line-height: 1.2em;}#sk-container-id-20 div.sk-label-container {text-align: center;}#sk-container-id-20 div.sk-container {/* jupyter's `normalize.less` sets `[hidden] { display: none; }` but bootstrap.min.css set `[hidden] { display: none !important; }` so we also need the `!important` here to be able to override the default hidden behavior on the sphinx rendered scikit-learn.org. See: https://github.com/scikit-learn/scikit-learn/issues/21755 */display: inline-block !important;position: relative;}#sk-container-id-20 div.sk-text-repr-fallback {display: none;}</style><div id=\"sk-container-id-20\" class=\"sk-top-container\"><div class=\"sk-text-repr-fallback\"><pre>CalibratedClassifierCV(cv=4,\n",
       "                       estimator=Pipeline(steps=[(&#x27;model&#x27;,\n",
       "                                                  LGBMClassifier(bagging_fraction=0.6365332955584441,\n",
       "                                                                 boosting_type=&#x27;goss&#x27;,\n",
       "                                                                 colsample_bytree=None,\n",
       "                                                                 feature_fraction=0.8672133567704401,\n",
       "                                                                 lambda_l1=0,\n",
       "                                                                 lambda_l2=0,\n",
       "                                                                 learning_rate=0.19766773915494987,\n",
       "                                                                 min_child_samples=None,\n",
       "                                                                 min_child_weight=2.14037457105386e-06,\n",
       "                                                                 min_data_in_leaf=1,\n",
       "                                                                 min_sum_hessian_in_leaf=None,\n",
       "                                                                 num_leaves=21,\n",
       "                                                                 random_state=2024,\n",
       "                                                                 reg_alpha=None,\n",
       "                                                                 reg_lambda=None,\n",
       "                                                                 subsample=None,\n",
       "                                                                 subsample_for_bin=180000,\n",
       "                                                                 verbose=-1))]),\n",
       "                       method=&#x27;isotonic&#x27;)</pre><b>In a Jupyter environment, please rerun this cell to show the HTML representation or trust the notebook. <br />On GitHub, the HTML representation is unable to render, please try loading this page with nbviewer.org.</b></div><div class=\"sk-container\" hidden><div class=\"sk-item sk-dashed-wrapped\"><div class=\"sk-label-container\"><div class=\"sk-label sk-toggleable\"><input class=\"sk-toggleable__control sk-hidden--visually\" id=\"sk-estimator-id-52\" type=\"checkbox\" ><label for=\"sk-estimator-id-52\" class=\"sk-toggleable__label sk-toggleable__label-arrow\">CalibratedClassifierCV</label><div class=\"sk-toggleable__content\"><pre>CalibratedClassifierCV(cv=4,\n",
       "                       estimator=Pipeline(steps=[(&#x27;model&#x27;,\n",
       "                                                  LGBMClassifier(bagging_fraction=0.6365332955584441,\n",
       "                                                                 boosting_type=&#x27;goss&#x27;,\n",
       "                                                                 colsample_bytree=None,\n",
       "                                                                 feature_fraction=0.8672133567704401,\n",
       "                                                                 lambda_l1=0,\n",
       "                                                                 lambda_l2=0,\n",
       "                                                                 learning_rate=0.19766773915494987,\n",
       "                                                                 min_child_samples=None,\n",
       "                                                                 min_child_weight=2.14037457105386e-06,\n",
       "                                                                 min_data_in_leaf=1,\n",
       "                                                                 min_sum_hessian_in_leaf=None,\n",
       "                                                                 num_leaves=21,\n",
       "                                                                 random_state=2024,\n",
       "                                                                 reg_alpha=None,\n",
       "                                                                 reg_lambda=None,\n",
       "                                                                 subsample=None,\n",
       "                                                                 subsample_for_bin=180000,\n",
       "                                                                 verbose=-1))]),\n",
       "                       method=&#x27;isotonic&#x27;)</pre></div></div></div><div class=\"sk-parallel\"><div class=\"sk-parallel-item\"><div class=\"sk-item\"><div class=\"sk-label-container\"><div class=\"sk-label sk-toggleable\"><input class=\"sk-toggleable__control sk-hidden--visually\" id=\"sk-estimator-id-53\" type=\"checkbox\" ><label for=\"sk-estimator-id-53\" class=\"sk-toggleable__label sk-toggleable__label-arrow\">estimator: Pipeline</label><div class=\"sk-toggleable__content\"><pre>Pipeline(steps=[(&#x27;model&#x27;,\n",
       "                 LGBMClassifier(bagging_fraction=0.6365332955584441,\n",
       "                                boosting_type=&#x27;goss&#x27;, colsample_bytree=None,\n",
       "                                feature_fraction=0.8672133567704401,\n",
       "                                lambda_l1=0, lambda_l2=0,\n",
       "                                learning_rate=0.19766773915494987,\n",
       "                                min_child_samples=None,\n",
       "                                min_child_weight=2.14037457105386e-06,\n",
       "                                min_data_in_leaf=1,\n",
       "                                min_sum_hessian_in_leaf=None, num_leaves=21,\n",
       "                                random_state=2024, reg_alpha=None,\n",
       "                                reg_lambda=None, subsample=None,\n",
       "                                subsample_for_bin=180000, verbose=-1))])</pre></div></div></div><div class=\"sk-serial\"><div class=\"sk-item\"><div class=\"sk-serial\"><div class=\"sk-item\"><div class=\"sk-estimator sk-toggleable\"><input class=\"sk-toggleable__control sk-hidden--visually\" id=\"sk-estimator-id-54\" type=\"checkbox\" ><label for=\"sk-estimator-id-54\" class=\"sk-toggleable__label sk-toggleable__label-arrow\">LGBMClassifier</label><div class=\"sk-toggleable__content\"><pre>LGBMClassifier(bagging_fraction=0.6365332955584441, boosting_type=&#x27;goss&#x27;,\n",
       "               colsample_bytree=None, feature_fraction=0.8672133567704401,\n",
       "               lambda_l1=0, lambda_l2=0, learning_rate=0.19766773915494987,\n",
       "               min_child_samples=None, min_child_weight=2.14037457105386e-06,\n",
       "               min_data_in_leaf=1, min_sum_hessian_in_leaf=None, num_leaves=21,\n",
       "               random_state=2024, reg_alpha=None, reg_lambda=None,\n",
       "               subsample=None, subsample_for_bin=180000, verbose=-1)</pre></div></div></div></div></div></div></div></div></div></div></div></div>"
      ],
      "text/plain": [
       "CalibratedClassifierCV(cv=4,\n",
       "                       estimator=Pipeline(steps=[('model',\n",
       "                                                  LGBMClassifier(bagging_fraction=0.6365332955584441,\n",
       "                                                                 boosting_type='goss',\n",
       "                                                                 colsample_bytree=None,\n",
       "                                                                 feature_fraction=0.8672133567704401,\n",
       "                                                                 lambda_l1=0,\n",
       "                                                                 lambda_l2=0,\n",
       "                                                                 learning_rate=0.19766773915494987,\n",
       "                                                                 min_child_samples=None,\n",
       "                                                                 min_child_weight=2.14037457105386e-06,\n",
       "                                                                 min_data_in_leaf=1,\n",
       "                                                                 min_sum_hessian_in_leaf=None,\n",
       "                                                                 num_leaves=21,\n",
       "                                                                 random_state=2024,\n",
       "                                                                 reg_alpha=None,\n",
       "                                                                 reg_lambda=None,\n",
       "                                                                 subsample=None,\n",
       "                                                                 subsample_for_bin=180000,\n",
       "                                                                 verbose=-1))]),\n",
       "                       method='isotonic')"
      ]
     },
     "execution_count": 134,
     "metadata": {},
     "output_type": "execute_result"
    }
   ],
   "source": [
    "metaflow_config['run_name'] = 'binary_lbgm_rsmpl01_hp_boolean'\n",
    "mlflow_log_model(\n",
    "    calibrated,\n",
    "    X_train_2,\n",
    "    y_train,\n",
    "    metaflow_config, \n",
    "    model_metadata={'sampling':'resampled_10', 'hyperopt':7},\n",
    "    validation=(X_val, y_val, METRICS),\n",
    ")"
   ]
  },
  {
   "cell_type": "code",
   "execution_count": null,
   "id": "5d4227d6-f30b-4a6b-b14f-ca9b26a1129e",
   "metadata": {},
   "outputs": [],
   "source": []
  }
 ],
 "metadata": {
  "kernelspec": {
   "display_name": "property_matching",
   "language": "python",
   "name": "property_matching"
  },
  "language_info": {
   "codemirror_mode": {
    "name": "ipython",
    "version": 3
   },
   "file_extension": ".py",
   "mimetype": "text/x-python",
   "name": "python",
   "nbconvert_exporter": "python",
   "pygments_lexer": "ipython3",
   "version": "3.8.8"
  }
 },
 "nbformat": 4,
 "nbformat_minor": 5
}
