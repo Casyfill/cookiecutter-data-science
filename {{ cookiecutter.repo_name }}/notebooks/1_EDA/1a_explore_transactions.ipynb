{
 "cells": [
  {
   "cell_type": "code",
   "execution_count": 41,
   "id": "522e272a-96b9-4c08-acd4-6c813e9d8634",
   "metadata": {},
   "outputs": [],
   "source": [
    "import pandas as pd\n",
    "from SE.snowflake import _get_DF\n",
    "\n",
    "import seaborn as sns"
   ]
  },
  {
   "cell_type": "code",
   "execution_count": 48,
   "id": "e04c37c1-f718-4be3-b96c-ad6a536bad9d",
   "metadata": {},
   "outputs": [],
   "source": [
    "trans_q = '''\n",
    "SELECT id\n",
    "        , addr_state as state\n",
    "        , addr_city as city\n",
    "        , addr_zip as zip\n",
    "        , ML.PROPERTY_MATCHING.clean_unit_string(addr_unit) as secondary\n",
    "        , addr_street as addr_line\n",
    "        , closing_date\n",
    "        , sale_id\n",
    "    FROM STREETEASY.ANALYTICS.STREETEASY_MYSQL_EXPERTS_TRANSACTIONS\n",
    "    WHERE status=1\n",
    "'''"
   ]
  },
  {
   "cell_type": "code",
   "execution_count": 49,
   "id": "0649d16a-437d-4d9c-b998-2d6b12f41998",
   "metadata": {},
   "outputs": [],
   "source": [
    "trxn = _get_DF(trans_q)"
   ]
  },
  {
   "cell_type": "code",
   "execution_count": 50,
   "id": "26a39224-78a5-4bef-96cc-954450f387b8",
   "metadata": {},
   "outputs": [
    {
     "data": {
      "text/plain": [
       "closing_date\n",
       "2019-10-01      1\n",
       "2019-11-01      0\n",
       "2019-12-01      1\n",
       "2020-01-01      1\n",
       "2020-02-01      4\n",
       "2020-03-01     15\n",
       "2020-04-01     11\n",
       "2020-05-01      9\n",
       "2020-06-01     10\n",
       "2020-07-01     11\n",
       "2020-08-01     23\n",
       "2020-09-01     29\n",
       "2020-10-01     32\n",
       "2020-11-01     42\n",
       "2020-12-01     60\n",
       "2021-01-01     55\n",
       "2021-02-01     84\n",
       "2021-03-01    113\n",
       "2021-04-01    100\n",
       "2021-05-01    126\n",
       "2021-06-01    149\n",
       "2021-07-01    174\n",
       "2021-08-01    164\n",
       "2021-09-01    155\n",
       "2021-10-01    160\n",
       "2021-11-01    137\n",
       "2021-12-01    134\n",
       "2022-01-01    167\n",
       "2022-02-01    157\n",
       "2022-03-01    161\n",
       "2022-04-01    175\n",
       "2022-05-01    205\n",
       "2022-06-01    237\n",
       "2022-07-01    186\n",
       "2022-08-01    221\n",
       "2022-09-01    174\n",
       "2022-10-01    172\n",
       "2022-11-01    138\n",
       "2022-12-01    159\n",
       "2023-01-01    136\n",
       "2023-02-01    113\n",
       "2023-03-01    172\n",
       "2023-04-01    168\n",
       "2023-05-01    210\n",
       "2023-06-01    264\n",
       "2023-07-01    210\n",
       "2023-08-01    212\n",
       "2023-09-01    170\n",
       "2023-10-01    183\n",
       "2023-11-01    153\n",
       "2023-12-01    153\n",
       "2024-01-01    145\n",
       "2024-02-01    150\n",
       "2024-03-01     96\n",
       "2024-04-01      5\n",
       "Name: id, dtype: int64"
      ]
     },
     "execution_count": 50,
     "metadata": {},
     "output_type": "execute_result"
    }
   ],
   "source": [
    "trxn.groupby(pd.Grouper(key='closing_date', freq='1MS',))['id'].count().sort_index()"
   ]
  },
  {
   "cell_type": "code",
   "execution_count": 4,
   "id": "aaf338bd-a8b9-4063-a928-9818a54732b2",
   "metadata": {},
   "outputs": [
    {
     "data": {
      "text/plain": [
       "(6464, 7)"
      ]
     },
     "execution_count": 4,
     "metadata": {},
     "output_type": "execute_result"
    }
   ],
   "source": [
    "trxn.shape"
   ]
  },
  {
   "cell_type": "code",
   "execution_count": 5,
   "id": "d3d373d2-639f-4659-9363-6dd3eb0a0763",
   "metadata": {},
   "outputs": [],
   "source": [
    "trxn.to_parquet('./data/trxn_2024_03_08.parquet')"
   ]
  },
  {
   "cell_type": "markdown",
   "id": "a66b85df-f91c-40e0-866c-42d18a36ecf2",
   "metadata": {},
   "source": [
    "## Transaction-Sale Comparison"
   ]
  },
  {
   "cell_type": "code",
   "execution_count": 42,
   "id": "f0051e18-3323-4d52-a994-f5dd5876ce96",
   "metadata": {},
   "outputs": [],
   "source": [
    "with open('unmatched.sql', 'r') as f:\n",
    "    unmatched = f.read()"
   ]
  },
  {
   "cell_type": "code",
   "execution_count": 43,
   "id": "d5d68969-5b78-4b21-b4ef-134c850c3dfc",
   "metadata": {},
   "outputs": [],
   "source": [
    "trxn_sales = _get_DF(unmatched)"
   ]
  },
  {
   "cell_type": "code",
   "execution_count": 44,
   "id": "8281debb-5c87-4a77-97ef-b3bb3306cf99",
   "metadata": {},
   "outputs": [
    {
     "data": {
      "text/plain": [
       "14.0"
      ]
     },
     "execution_count": 44,
     "metadata": {},
     "output_type": "execute_result"
    }
   ],
   "source": [
    "trxn_sales['spatial'].quantile(0.95)"
   ]
  },
  {
   "cell_type": "code",
   "execution_count": null,
   "id": "732172f7-87e1-48ed-ab42-ad662d61fdef",
   "metadata": {},
   "outputs": [],
   "source": []
  },
  {
   "cell_type": "code",
   "execution_count": 40,
   "id": "4a46a906-b56b-47d7-ac32-822a93ab730d",
   "metadata": {},
   "outputs": [
    {
     "data": {
      "text/plain": [
       "count     3650.000000\n",
       "mean        19.397808\n",
       "std        307.002934\n",
       "min          0.000000\n",
       "50%          0.000000\n",
       "75%          0.000000\n",
       "90%          0.000000\n",
       "95%         14.000000\n",
       "99%        217.100000\n",
       "max      10514.000000\n",
       "Name: spatial, dtype: float64"
      ]
     },
     "execution_count": 40,
     "metadata": {},
     "output_type": "execute_result"
    }
   ],
   "source": [
    "trxn_sales['spatial'].describe(percentiles=[0.5, 0.75, 0.9, 0.95, 0.99])"
   ]
  },
  {
   "cell_type": "code",
   "execution_count": 37,
   "id": "f3088903-0b15-4a3d-ab2b-e7b04dfb2c78",
   "metadata": {},
   "outputs": [
    {
     "data": {
      "text/plain": [
       "2258"
      ]
     },
     "execution_count": 37,
     "metadata": {},
     "output_type": "execute_result"
    }
   ],
   "source": [
    "mask = trxn_sales['spatial'].isnull()\n",
    "mask.sum()"
   ]
  },
  {
   "cell_type": "code",
   "execution_count": 39,
   "id": "d2035077-e49d-4f20-887a-027d6dd339ce",
   "metadata": {},
   "outputs": [
    {
     "data": {
      "text/plain": [
       "(2258, 0.38219363574813814)"
      ]
     },
     "execution_count": 39,
     "metadata": {},
     "output_type": "execute_result"
    }
   ],
   "source": [
    "trxn_sales['sale_id'].isnull().sum(), trxn_sales['sale_id'].isnull().mean()"
   ]
  },
  {
   "cell_type": "code",
   "execution_count": 28,
   "id": "10183c3a-7a34-49cd-947c-211390bfd0dc",
   "metadata": {},
   "outputs": [
    {
     "data": {
      "text/plain": [
       "19.39780821917808"
      ]
     },
     "execution_count": 28,
     "metadata": {},
     "output_type": "execute_result"
    }
   ],
   "source": [
    "trxn_sales['spatial'].mean()"
   ]
  },
  {
   "cell_type": "code",
   "execution_count": 26,
   "id": "4ce7d553-7fc0-4be2-901a-bc484a73d882",
   "metadata": {},
   "outputs": [
    {
     "data": {
      "text/plain": [
       "0.6154366960054164"
      ]
     },
     "execution_count": 26,
     "metadata": {},
     "output_type": "execute_result"
    }
   ],
   "source": [
    "(trxn_sales['spatial'] < 1000).mean()"
   ]
  },
  {
   "cell_type": "code",
   "execution_count": 14,
   "id": "0659d9cc-5202-408f-8bec-5fcaa983625e",
   "metadata": {},
   "outputs": [
    {
     "data": {
      "text/plain": [
       "<AxesSubplot:xlabel='spatial', ylabel='Count'>"
      ]
     },
     "execution_count": 14,
     "metadata": {},
     "output_type": "execute_result"
    },
    {
     "data": {
      "image/png": "[encoded data removed]",
      "text/plain": [
       "<Figure size 432x288 with 1 Axes>"
      ]
     },
     "metadata": {
      "needs_background": "light"
     },
     "output_type": "display_data"
    }
   ],
   "source": [
    "sns.histplot(trxn_sales, x='spatial', bins=50)"
   ]
  },
  {
   "cell_type": "code",
   "execution_count": 20,
   "id": "cfd1299d-816f-4034-9c98-d3c301cd751f",
   "metadata": {},
   "outputs": [
    {
     "data": {
      "text/plain": [
       "<AxesSubplot:xlabel='price_pct_diff', ylabel='Count'>"
      ]
     },
     "execution_count": 20,
     "metadata": {},
     "output_type": "execute_result"
    },
    {
     "data": {
      "image/png": "[encoded data removed]",
      "text/plain": [
       "<Figure size 432x288 with 1 Axes>"
      ]
     },
     "metadata": {
      "needs_background": "light"
     },
     "output_type": "display_data"
    }
   ],
   "source": [
    "sns.histplot(trxn_sales, x='price_pct_diff', bins=50)"
   ]
  },
  {
   "cell_type": "code",
   "execution_count": 24,
   "id": "a3977e63-1bcd-4159-b332-e791249910ae",
   "metadata": {},
   "outputs": [
    {
     "data": {
      "text/plain": [
       "(-0.09356552138025, 0.047619047619)"
      ]
     },
     "execution_count": 24,
     "metadata": {},
     "output_type": "execute_result"
    }
   ],
   "source": [
    "trxn_sales['price_pct_diff'].quantile(0.05), trxn_sales['price_pct_diff'].quantile(0.95)"
   ]
  },
  {
   "cell_type": "code",
   "execution_count": 22,
   "id": "9a96b59f-99ad-4eeb-8b24-0625197679e0",
   "metadata": {},
   "outputs": [
    {
     "data": {
      "text/plain": [
       "0.047619047619"
      ]
     },
     "execution_count": 22,
     "metadata": {},
     "output_type": "execute_result"
    }
   ],
   "source": []
  },
  {
   "cell_type": "code",
   "execution_count": 23,
   "id": "e19132bd-d098-42c9-89b4-5b3548c76bee",
   "metadata": {},
   "outputs": [
    {
     "data": {
      "text/plain": [
       "<AxesSubplot:xlabel='days', ylabel='Count'>"
      ]
     },
     "execution_count": 23,
     "metadata": {},
     "output_type": "execute_result"
    },
    {
     "data": {
      "image/png": "[encoded data removed]",
      "text/plain": [
       "<Figure size 432x288 with 1 Axes>"
      ]
     },
     "metadata": {
      "needs_background": "light"
     },
     "output_type": "display_data"
    }
   ],
   "source": [
    "sns.histplot(trxn_sales, x='days', bins=50)"
   ]
  },
  {
   "cell_type": "code",
   "execution_count": 25,
   "id": "0cd7e557-4093-4e34-a52c-dffb7c6a9dbe",
   "metadata": {},
   "outputs": [
    {
     "data": {
      "text/plain": [
       "(-28.0, 33.0)"
      ]
     },
     "execution_count": 25,
     "metadata": {},
     "output_type": "execute_result"
    }
   ],
   "source": [
    "trxn_sales['days'].quantile(0.05), trxn_sales['days'].quantile(0.95)"
   ]
  },
  {
   "cell_type": "code",
   "execution_count": 47,
   "id": "79f18612-469a-417e-8883-981951c78be0",
   "metadata": {},
   "outputs": [
    {
     "data": {
      "text/plain": [
       "(5908, 41)"
      ]
     },
     "execution_count": 47,
     "metadata": {},
     "output_type": "execute_result"
    }
   ],
   "source": [
    "trxn_sales.shape"
   ]
  },
  {
   "cell_type": "code",
   "execution_count": null,
   "id": "0f5d4fb3-50bb-4145-a534-7aecbcc15c27",
   "metadata": {},
   "outputs": [],
   "source": []
  }
 ],
 "metadata": {
  "kernelspec": {
   "display_name": "Python (py37)",
   "language": "python",
   "name": "py37"
  },
  "language_info": {
   "codemirror_mode": {
    "name": "ipython",
    "version": 3
   },
   "file_extension": ".py",
   "mimetype": "text/x-python",
   "name": "python",
   "nbconvert_exporter": "python",
   "pygments_lexer": "ipython3",
   "version": "3.7.8"
  }
 },
 "nbformat": 4,
 "nbformat_minor": 5
}
