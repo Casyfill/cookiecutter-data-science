{
 "cells": [
  {
   "cell_type": "code",
   "execution_count": 1,
   "id": "b08bc8a4-5366-4677-96f1-db0c4f9a7570",
   "metadata": {},
   "outputs": [],
   "source": [
    "%load_ext autoreload\n",
    "%autoreload 2\n",
    "\n",
    "# from mfllowcli import _log_mlflow, _set_session\n",
    "import pandas as pd\n",
    "import pickle\n",
    "# import json\n",
    "import os\n",
    "import s3fs\n",
    "from pathlib import Path\n",
    "import numpy as np\n",
    "\n",
    "import seaborn as sns\n",
    "from utils import reduce_memory\n",
    "# from propmatch.mlflowcli import log_mlflow, pull_model"
   ]
  },
  {
   "cell_type": "markdown",
   "id": "a0b245f0-4c5b-4ba7-accf-b09781437aa2",
   "metadata": {
    "tags": []
   },
   "source": [
    "## Load Data"
   ]
  },
  {
   "cell_type": "code",
   "execution_count": 2,
   "id": "1877fc65-3279-4c37-8fd2-ba1f4734e4e8",
   "metadata": {},
   "outputs": [],
   "source": [
    "data = pd.read_parquet('./data/train/data.parquet')\n",
    "X = pd.read_parquet('./data/train/X.parquet')\n",
    "y = pd.read_parquet('./data/train/y.parquet').iloc[:, 0]"
   ]
  },
  {
   "cell_type": "code",
   "execution_count": 5,
   "id": "6cf4a290-3ad7-496f-b689-f54bc1591210",
   "metadata": {},
   "outputs": [
    {
     "name": "stdout",
     "output_type": "stream",
     "text": [
      "Mem. usage decreased to 42.05 Mb (0.0%% reduction)\n"
     ]
    }
   ],
   "source": [
    "bool_cols = [c for c in X.columns if c.startswith('same')]\n",
    "X = reduce_memory(X)"
   ]
  },
  {
   "cell_type": "code",
   "execution_count": 7,
   "id": "3c2b7e48-749b-4eff-8ad5-6097f11ce2b7",
   "metadata": {},
   "outputs": [
    {
     "data": {
      "text/plain": [
       "spatial                 float16\n",
       "days                    float16\n",
       "price_pct_diff          float16\n",
       "partial_unit_score      float16\n",
       "partial_street_score    float16\n",
       "same_unit                  bool\n",
       "same_building_id           bool\n",
       "same_bin                   bool\n",
       "same_complex               bool\n",
       "candidates              float16\n",
       "same_zipcode               bool\n",
       "building_in_10             bool\n",
       "same_unittype              bool\n",
       "x                       float32\n",
       "y                       float32\n",
       "distance                float32\n",
       "azimuth                 float16\n",
       "dtype: object"
      ]
     },
     "execution_count": 7,
     "metadata": {},
     "output_type": "execute_result"
    }
   ],
   "source": [
    "X.dtypes"
   ]
  },
  {
   "cell_type": "markdown",
   "id": "c1fbf8c0-07cb-4662-9d51-e30cfd27a83b",
   "metadata": {},
   "source": [
    "## Load Model"
   ]
  },
  {
   "cell_type": "code",
   "execution_count": 8,
   "id": "a9220a2d-819d-4931-93c8-589917fd1301",
   "metadata": {},
   "outputs": [],
   "source": [
    "import mlflow\n",
    "tracking_uri = 'https://mlflow.production.streeteasy.cloud'"
   ]
  },
  {
   "cell_type": "code",
   "execution_count": 9,
   "id": "5a4373cb-57a5-4607-8fa4-8bd9c87bbb82",
   "metadata": {},
   "outputs": [],
   "source": [
    "mlflow.set_tracking_uri(tracking_uri)"
   ]
  },
  {
   "cell_type": "code",
   "execution_count": 10,
   "id": "b07215ed-c90c-4461-a6f1-249b7b8f0c50",
   "metadata": {},
   "outputs": [],
   "source": [
    "MODEL_NAME = 'expert_transaction_matching'\n",
    "MODEL_VERSION = '12'"
   ]
  },
  {
   "cell_type": "code",
   "execution_count": 11,
   "id": "b4079f9a-e13c-4190-abf6-441c9a690370",
   "metadata": {},
   "outputs": [
    {
     "name": "stderr",
     "output_type": "stream",
     "text": [
      "/Users/philippk/Library/Caches/pypoetry/virtualenvs/transaction-matching-i9O2AM3V-py3.10/lib/python3.10/site-packages/tqdm/auto.py:21: TqdmWarning: IProgress not found. Please update jupyter and ipywidgets. See https://ipywidgets.readthedocs.io/en/stable/user_install.html\n",
      "  from .autonotebook import tqdm as notebook_tqdm\n",
      "Downloading artifacts:   0%|                                                                                                                      | 0/11 [00:00<?, ?it/s]2024/03/29 16:57:25 INFO mlflow.store.artifact.artifact_repo: The progress bar can be disabled by setting the environment variable MLFLOW_ENABLE_ARTIFACTS_PROGRESS_BAR to false\n",
      "Downloading artifacts: 100%|█████████████████████████████████████████████████████████████████████████████████████████████████████████████| 11/11 [00:00<00:00, 38.85it/s]\n"
     ]
    }
   ],
   "source": [
    "loaded_model = mlflow.pyfunc.load_model(model_uri=f\"models:/{MODEL_NAME}/{MODEL_VERSION}\")"
   ]
  },
  {
   "cell_type": "code",
   "execution_count": 12,
   "id": "fcaf372c-cb97-4eb1-ab6a-6a8d4b84c59e",
   "metadata": {},
   "outputs": [
    {
     "data": {
      "text/plain": [
       "mlflow.pyfunc.loaded_model:\n",
       "  artifact_path: model\n",
       "  flavor: mlflow.sklearn\n",
       "  run_id: 4bb2dade607043d2b1efb03d0fc10522"
      ]
     },
     "execution_count": 12,
     "metadata": {},
     "output_type": "execute_result"
    }
   ],
   "source": [
    "loaded_model"
   ]
  },
  {
   "cell_type": "code",
   "execution_count": 13,
   "id": "216ff569-0cbd-4bbb-be2e-2aaccfff6d02",
   "metadata": {},
   "outputs": [],
   "source": [
    "model = loaded_model._model_impl.sklearn_model"
   ]
  },
  {
   "cell_type": "code",
   "execution_count": 14,
   "id": "0d822ad2-9abe-4e90-b80e-7ebd7027fbd8",
   "metadata": {},
   "outputs": [
    {
     "data": {
      "text/html": [
       "<style>#sk-container-id-1 {\n",
       "  /* Definition of color scheme common for light and dark mode */\n",
       "  --sklearn-color-text: black;\n",
       "  --sklearn-color-line: gray;\n",
       "  /* Definition of color scheme for unfitted estimators */\n",
       "  --sklearn-color-unfitted-level-0: #fff5e6;\n",
       "  --sklearn-color-unfitted-level-1: #f6e4d2;\n",
       "  --sklearn-color-unfitted-level-2: #ffe0b3;\n",
       "  --sklearn-color-unfitted-level-3: chocolate;\n",
       "  /* Definition of color scheme for fitted estimators */\n",
       "  --sklearn-color-fitted-level-0: #f0f8ff;\n",
       "  --sklearn-color-fitted-level-1: #d4ebff;\n",
       "  --sklearn-color-fitted-level-2: #b3dbfd;\n",
       "  --sklearn-color-fitted-level-3: cornflowerblue;\n",
       "\n",
       "  /* Specific color for light theme */\n",
       "  --sklearn-color-text-on-default-background: var(--sg-text-color, var(--theme-code-foreground, var(--jp-content-font-color1, black)));\n",
       "  --sklearn-color-background: var(--sg-background-color, var(--theme-background, var(--jp-layout-color0, white)));\n",
       "  --sklearn-color-border-box: var(--sg-text-color, var(--theme-code-foreground, var(--jp-content-font-color1, black)));\n",
       "  --sklearn-color-icon: #696969;\n",
       "\n",
       "  @media (prefers-color-scheme: dark) {\n",
       "    /* Redefinition of color scheme for dark theme */\n",
       "    --sklearn-color-text-on-default-background: var(--sg-text-color, var(--theme-code-foreground, var(--jp-content-font-color1, white)));\n",
       "    --sklearn-color-background: var(--sg-background-color, var(--theme-background, var(--jp-layout-color0, #111)));\n",
       "    --sklearn-color-border-box: var(--sg-text-color, var(--theme-code-foreground, var(--jp-content-font-color1, white)));\n",
       "    --sklearn-color-icon: #878787;\n",
       "  }\n",
       "}\n",
       "\n",
       "#sk-container-id-1 {\n",
       "  color: var(--sklearn-color-text);\n",
       "}\n",
       "\n",
       "#sk-container-id-1 pre {\n",
       "  padding: 0;\n",
       "}\n",
       "\n",
       "#sk-container-id-1 input.sk-hidden--visually {\n",
       "  border: 0;\n",
       "  clip: rect(1px 1px 1px 1px);\n",
       "  clip: rect(1px, 1px, 1px, 1px);\n",
       "  height: 1px;\n",
       "  margin: -1px;\n",
       "  overflow: hidden;\n",
       "  padding: 0;\n",
       "  position: absolute;\n",
       "  width: 1px;\n",
       "}\n",
       "\n",
       "#sk-container-id-1 div.sk-dashed-wrapped {\n",
       "  border: 1px dashed var(--sklearn-color-line);\n",
       "  margin: 0 0.4em 0.5em 0.4em;\n",
       "  box-sizing: border-box;\n",
       "  padding-bottom: 0.4em;\n",
       "  background-color: var(--sklearn-color-background);\n",
       "}\n",
       "\n",
       "#sk-container-id-1 div.sk-container {\n",
       "  /* jupyter's `normalize.less` sets `[hidden] { display: none; }`\n",
       "     but bootstrap.min.css set `[hidden] { display: none !important; }`\n",
       "     so we also need the `!important` here to be able to override the\n",
       "     default hidden behavior on the sphinx rendered scikit-learn.org.\n",
       "     See: https://github.com/scikit-learn/scikit-learn/issues/21755 */\n",
       "  display: inline-block !important;\n",
       "  position: relative;\n",
       "}\n",
       "\n",
       "#sk-container-id-1 div.sk-text-repr-fallback {\n",
       "  display: none;\n",
       "}\n",
       "\n",
       "div.sk-parallel-item,\n",
       "div.sk-serial,\n",
       "div.sk-item {\n",
       "  /* draw centered vertical line to link estimators */\n",
       "  background-image: linear-gradient(var(--sklearn-color-text-on-default-background), var(--sklearn-color-text-on-default-background));\n",
       "  background-size: 2px 100%;\n",
       "  background-repeat: no-repeat;\n",
       "  background-position: center center;\n",
       "}\n",
       "\n",
       "/* Parallel-specific style estimator block */\n",
       "\n",
       "#sk-container-id-1 div.sk-parallel-item::after {\n",
       "  content: \"\";\n",
       "  width: 100%;\n",
       "  border-bottom: 2px solid var(--sklearn-color-text-on-default-background);\n",
       "  flex-grow: 1;\n",
       "}\n",
       "\n",
       "#sk-container-id-1 div.sk-parallel {\n",
       "  display: flex;\n",
       "  align-items: stretch;\n",
       "  justify-content: center;\n",
       "  background-color: var(--sklearn-color-background);\n",
       "  position: relative;\n",
       "}\n",
       "\n",
       "#sk-container-id-1 div.sk-parallel-item {\n",
       "  display: flex;\n",
       "  flex-direction: column;\n",
       "}\n",
       "\n",
       "#sk-container-id-1 div.sk-parallel-item:first-child::after {\n",
       "  align-self: flex-end;\n",
       "  width: 50%;\n",
       "}\n",
       "\n",
       "#sk-container-id-1 div.sk-parallel-item:last-child::after {\n",
       "  align-self: flex-start;\n",
       "  width: 50%;\n",
       "}\n",
       "\n",
       "#sk-container-id-1 div.sk-parallel-item:only-child::after {\n",
       "  width: 0;\n",
       "}\n",
       "\n",
       "/* Serial-specific style estimator block */\n",
       "\n",
       "#sk-container-id-1 div.sk-serial {\n",
       "  display: flex;\n",
       "  flex-direction: column;\n",
       "  align-items: center;\n",
       "  background-color: var(--sklearn-color-background);\n",
       "  padding-right: 1em;\n",
       "  padding-left: 1em;\n",
       "}\n",
       "\n",
       "\n",
       "/* Toggleable style: style used for estimator/Pipeline/ColumnTransformer box that is\n",
       "clickable and can be expanded/collapsed.\n",
       "- Pipeline and ColumnTransformer use this feature and define the default style\n",
       "- Estimators will overwrite some part of the style using the `sk-estimator` class\n",
       "*/\n",
       "\n",
       "/* Pipeline and ColumnTransformer style (default) */\n",
       "\n",
       "#sk-container-id-1 div.sk-toggleable {\n",
       "  /* Default theme specific background. It is overwritten whether we have a\n",
       "  specific estimator or a Pipeline/ColumnTransformer */\n",
       "  background-color: var(--sklearn-color-background);\n",
       "}\n",
       "\n",
       "/* Toggleable label */\n",
       "#sk-container-id-1 label.sk-toggleable__label {\n",
       "  cursor: pointer;\n",
       "  display: block;\n",
       "  width: 100%;\n",
       "  margin-bottom: 0;\n",
       "  padding: 0.5em;\n",
       "  box-sizing: border-box;\n",
       "  text-align: center;\n",
       "}\n",
       "\n",
       "#sk-container-id-1 label.sk-toggleable__label-arrow:before {\n",
       "  /* Arrow on the left of the label */\n",
       "  content: \"▸\";\n",
       "  float: left;\n",
       "  margin-right: 0.25em;\n",
       "  color: var(--sklearn-color-icon);\n",
       "}\n",
       "\n",
       "#sk-container-id-1 label.sk-toggleable__label-arrow:hover:before {\n",
       "  color: var(--sklearn-color-text);\n",
       "}\n",
       "\n",
       "/* Toggleable content - dropdown */\n",
       "\n",
       "#sk-container-id-1 div.sk-toggleable__content {\n",
       "  max-height: 0;\n",
       "  max-width: 0;\n",
       "  overflow: hidden;\n",
       "  text-align: left;\n",
       "  /* unfitted */\n",
       "  background-color: var(--sklearn-color-unfitted-level-0);\n",
       "}\n",
       "\n",
       "#sk-container-id-1 div.sk-toggleable__content.fitted {\n",
       "  /* fitted */\n",
       "  background-color: var(--sklearn-color-fitted-level-0);\n",
       "}\n",
       "\n",
       "#sk-container-id-1 div.sk-toggleable__content pre {\n",
       "  margin: 0.2em;\n",
       "  border-radius: 0.25em;\n",
       "  color: var(--sklearn-color-text);\n",
       "  /* unfitted */\n",
       "  background-color: var(--sklearn-color-unfitted-level-0);\n",
       "}\n",
       "\n",
       "#sk-container-id-1 div.sk-toggleable__content.fitted pre {\n",
       "  /* unfitted */\n",
       "  background-color: var(--sklearn-color-fitted-level-0);\n",
       "}\n",
       "\n",
       "#sk-container-id-1 input.sk-toggleable__control:checked~div.sk-toggleable__content {\n",
       "  /* Expand drop-down */\n",
       "  max-height: 200px;\n",
       "  max-width: 100%;\n",
       "  overflow: auto;\n",
       "}\n",
       "\n",
       "#sk-container-id-1 input.sk-toggleable__control:checked~label.sk-toggleable__label-arrow:before {\n",
       "  content: \"▾\";\n",
       "}\n",
       "\n",
       "/* Pipeline/ColumnTransformer-specific style */\n",
       "\n",
       "#sk-container-id-1 div.sk-label input.sk-toggleable__control:checked~label.sk-toggleable__label {\n",
       "  color: var(--sklearn-color-text);\n",
       "  background-color: var(--sklearn-color-unfitted-level-2);\n",
       "}\n",
       "\n",
       "#sk-container-id-1 div.sk-label.fitted input.sk-toggleable__control:checked~label.sk-toggleable__label {\n",
       "  background-color: var(--sklearn-color-fitted-level-2);\n",
       "}\n",
       "\n",
       "/* Estimator-specific style */\n",
       "\n",
       "/* Colorize estimator box */\n",
       "#sk-container-id-1 div.sk-estimator input.sk-toggleable__control:checked~label.sk-toggleable__label {\n",
       "  /* unfitted */\n",
       "  background-color: var(--sklearn-color-unfitted-level-2);\n",
       "}\n",
       "\n",
       "#sk-container-id-1 div.sk-estimator.fitted input.sk-toggleable__control:checked~label.sk-toggleable__label {\n",
       "  /* fitted */\n",
       "  background-color: var(--sklearn-color-fitted-level-2);\n",
       "}\n",
       "\n",
       "#sk-container-id-1 div.sk-label label.sk-toggleable__label,\n",
       "#sk-container-id-1 div.sk-label label {\n",
       "  /* The background is the default theme color */\n",
       "  color: var(--sklearn-color-text-on-default-background);\n",
       "}\n",
       "\n",
       "/* On hover, darken the color of the background */\n",
       "#sk-container-id-1 div.sk-label:hover label.sk-toggleable__label {\n",
       "  color: var(--sklearn-color-text);\n",
       "  background-color: var(--sklearn-color-unfitted-level-2);\n",
       "}\n",
       "\n",
       "/* Label box, darken color on hover, fitted */\n",
       "#sk-container-id-1 div.sk-label.fitted:hover label.sk-toggleable__label.fitted {\n",
       "  color: var(--sklearn-color-text);\n",
       "  background-color: var(--sklearn-color-fitted-level-2);\n",
       "}\n",
       "\n",
       "/* Estimator label */\n",
       "\n",
       "#sk-container-id-1 div.sk-label label {\n",
       "  font-family: monospace;\n",
       "  font-weight: bold;\n",
       "  display: inline-block;\n",
       "  line-height: 1.2em;\n",
       "}\n",
       "\n",
       "#sk-container-id-1 div.sk-label-container {\n",
       "  text-align: center;\n",
       "}\n",
       "\n",
       "/* Estimator-specific */\n",
       "#sk-container-id-1 div.sk-estimator {\n",
       "  font-family: monospace;\n",
       "  border: 1px dotted var(--sklearn-color-border-box);\n",
       "  border-radius: 0.25em;\n",
       "  box-sizing: border-box;\n",
       "  margin-bottom: 0.5em;\n",
       "  /* unfitted */\n",
       "  background-color: var(--sklearn-color-unfitted-level-0);\n",
       "}\n",
       "\n",
       "#sk-container-id-1 div.sk-estimator.fitted {\n",
       "  /* fitted */\n",
       "  background-color: var(--sklearn-color-fitted-level-0);\n",
       "}\n",
       "\n",
       "/* on hover */\n",
       "#sk-container-id-1 div.sk-estimator:hover {\n",
       "  /* unfitted */\n",
       "  background-color: var(--sklearn-color-unfitted-level-2);\n",
       "}\n",
       "\n",
       "#sk-container-id-1 div.sk-estimator.fitted:hover {\n",
       "  /* fitted */\n",
       "  background-color: var(--sklearn-color-fitted-level-2);\n",
       "}\n",
       "\n",
       "/* Specification for estimator info (e.g. \"i\" and \"?\") */\n",
       "\n",
       "/* Common style for \"i\" and \"?\" */\n",
       "\n",
       ".sk-estimator-doc-link,\n",
       "a:link.sk-estimator-doc-link,\n",
       "a:visited.sk-estimator-doc-link {\n",
       "  float: right;\n",
       "  font-size: smaller;\n",
       "  line-height: 1em;\n",
       "  font-family: monospace;\n",
       "  background-color: var(--sklearn-color-background);\n",
       "  border-radius: 1em;\n",
       "  height: 1em;\n",
       "  width: 1em;\n",
       "  text-decoration: none !important;\n",
       "  margin-left: 1ex;\n",
       "  /* unfitted */\n",
       "  border: var(--sklearn-color-unfitted-level-1) 1pt solid;\n",
       "  color: var(--sklearn-color-unfitted-level-1);\n",
       "}\n",
       "\n",
       ".sk-estimator-doc-link.fitted,\n",
       "a:link.sk-estimator-doc-link.fitted,\n",
       "a:visited.sk-estimator-doc-link.fitted {\n",
       "  /* fitted */\n",
       "  border: var(--sklearn-color-fitted-level-1) 1pt solid;\n",
       "  color: var(--sklearn-color-fitted-level-1);\n",
       "}\n",
       "\n",
       "/* On hover */\n",
       "div.sk-estimator:hover .sk-estimator-doc-link:hover,\n",
       ".sk-estimator-doc-link:hover,\n",
       "div.sk-label-container:hover .sk-estimator-doc-link:hover,\n",
       ".sk-estimator-doc-link:hover {\n",
       "  /* unfitted */\n",
       "  background-color: var(--sklearn-color-unfitted-level-3);\n",
       "  color: var(--sklearn-color-background);\n",
       "  text-decoration: none;\n",
       "}\n",
       "\n",
       "div.sk-estimator.fitted:hover .sk-estimator-doc-link.fitted:hover,\n",
       ".sk-estimator-doc-link.fitted:hover,\n",
       "div.sk-label-container:hover .sk-estimator-doc-link.fitted:hover,\n",
       ".sk-estimator-doc-link.fitted:hover {\n",
       "  /* fitted */\n",
       "  background-color: var(--sklearn-color-fitted-level-3);\n",
       "  color: var(--sklearn-color-background);\n",
       "  text-decoration: none;\n",
       "}\n",
       "\n",
       "/* Span, style for the box shown on hovering the info icon */\n",
       ".sk-estimator-doc-link span {\n",
       "  display: none;\n",
       "  z-index: 9999;\n",
       "  position: relative;\n",
       "  font-weight: normal;\n",
       "  right: .2ex;\n",
       "  padding: .5ex;\n",
       "  margin: .5ex;\n",
       "  width: min-content;\n",
       "  min-width: 20ex;\n",
       "  max-width: 50ex;\n",
       "  color: var(--sklearn-color-text);\n",
       "  box-shadow: 2pt 2pt 4pt #999;\n",
       "  /* unfitted */\n",
       "  background: var(--sklearn-color-unfitted-level-0);\n",
       "  border: .5pt solid var(--sklearn-color-unfitted-level-3);\n",
       "}\n",
       "\n",
       ".sk-estimator-doc-link.fitted span {\n",
       "  /* fitted */\n",
       "  background: var(--sklearn-color-fitted-level-0);\n",
       "  border: var(--sklearn-color-fitted-level-3);\n",
       "}\n",
       "\n",
       ".sk-estimator-doc-link:hover span {\n",
       "  display: block;\n",
       "}\n",
       "\n",
       "/* \"?\"-specific style due to the `<a>` HTML tag */\n",
       "\n",
       "#sk-container-id-1 a.estimator_doc_link {\n",
       "  float: right;\n",
       "  font-size: 1rem;\n",
       "  line-height: 1em;\n",
       "  font-family: monospace;\n",
       "  background-color: var(--sklearn-color-background);\n",
       "  border-radius: 1rem;\n",
       "  height: 1rem;\n",
       "  width: 1rem;\n",
       "  text-decoration: none;\n",
       "  /* unfitted */\n",
       "  color: var(--sklearn-color-unfitted-level-1);\n",
       "  border: var(--sklearn-color-unfitted-level-1) 1pt solid;\n",
       "}\n",
       "\n",
       "#sk-container-id-1 a.estimator_doc_link.fitted {\n",
       "  /* fitted */\n",
       "  border: var(--sklearn-color-fitted-level-1) 1pt solid;\n",
       "  color: var(--sklearn-color-fitted-level-1);\n",
       "}\n",
       "\n",
       "/* On hover */\n",
       "#sk-container-id-1 a.estimator_doc_link:hover {\n",
       "  /* unfitted */\n",
       "  background-color: var(--sklearn-color-unfitted-level-3);\n",
       "  color: var(--sklearn-color-background);\n",
       "  text-decoration: none;\n",
       "}\n",
       "\n",
       "#sk-container-id-1 a.estimator_doc_link.fitted:hover {\n",
       "  /* fitted */\n",
       "  background-color: var(--sklearn-color-fitted-level-3);\n",
       "}\n",
       "</style><div id=\"sk-container-id-1\" class=\"sk-top-container\"><div class=\"sk-text-repr-fallback\"><pre>CalibratedClassifierCV(cv=4, ensemble=False,\n",
       "                       estimator=Pipeline(steps=[(&#x27;model&#x27;,\n",
       "                                                  LGBMClassifier(bagging_fraction=0.5913758206188472,\n",
       "                                                                 boosting_type=&#x27;dart&#x27;,\n",
       "                                                                 class_weight=&#x27;balanced&#x27;,\n",
       "                                                                 colsample_bytree=None,\n",
       "                                                                 feature_fraction=0.516377322490629,\n",
       "                                                                 lambda_l1=0,\n",
       "                                                                 lambda_l2=0,\n",
       "                                                                 learning_rate=0.060621250695763136,\n",
       "                                                                 min_child_samples=None,\n",
       "                                                                 min_child_weight=27.36587626451878,\n",
       "                                                                 min_data_in_leaf=2,\n",
       "                                                                 min_sum_hessian_in_leaf=None,\n",
       "                                                                 num_leaves=21,\n",
       "                                                                 random_state=2024,\n",
       "                                                                 reg_alpha=None,\n",
       "                                                                 reg_lambda=None,\n",
       "                                                                 subsample=None,\n",
       "                                                                 subsample_for_bin=220000,\n",
       "                                                                 verbose=-1))]))</pre><b>In a Jupyter environment, please rerun this cell to show the HTML representation or trust the notebook. <br />On GitHub, the HTML representation is unable to render, please try loading this page with nbviewer.org.</b></div><div class=\"sk-container\" hidden><div class=\"sk-item sk-dashed-wrapped\"><div class=\"sk-label-container\"><div class=\"sk-label fitted sk-toggleable\"><input class=\"sk-toggleable__control sk-hidden--visually\" id=\"sk-estimator-id-1\" type=\"checkbox\" ><label for=\"sk-estimator-id-1\" class=\"sk-toggleable__label fitted sk-toggleable__label-arrow fitted\">&nbsp;&nbsp;CalibratedClassifierCV<a class=\"sk-estimator-doc-link fitted\" rel=\"noreferrer\" target=\"_blank\" href=\"https://scikit-learn.org/1.4/modules/generated/sklearn.calibration.CalibratedClassifierCV.html\">?<span>Documentation for CalibratedClassifierCV</span></a><span class=\"sk-estimator-doc-link fitted\">i<span>Fitted</span></span></label><div class=\"sk-toggleable__content fitted\"><pre>CalibratedClassifierCV(cv=4, ensemble=False,\n",
       "                       estimator=Pipeline(steps=[(&#x27;model&#x27;,\n",
       "                                                  LGBMClassifier(bagging_fraction=0.5913758206188472,\n",
       "                                                                 boosting_type=&#x27;dart&#x27;,\n",
       "                                                                 class_weight=&#x27;balanced&#x27;,\n",
       "                                                                 colsample_bytree=None,\n",
       "                                                                 feature_fraction=0.516377322490629,\n",
       "                                                                 lambda_l1=0,\n",
       "                                                                 lambda_l2=0,\n",
       "                                                                 learning_rate=0.060621250695763136,\n",
       "                                                                 min_child_samples=None,\n",
       "                                                                 min_child_weight=27.36587626451878,\n",
       "                                                                 min_data_in_leaf=2,\n",
       "                                                                 min_sum_hessian_in_leaf=None,\n",
       "                                                                 num_leaves=21,\n",
       "                                                                 random_state=2024,\n",
       "                                                                 reg_alpha=None,\n",
       "                                                                 reg_lambda=None,\n",
       "                                                                 subsample=None,\n",
       "                                                                 subsample_for_bin=220000,\n",
       "                                                                 verbose=-1))]))</pre></div> </div></div><div class=\"sk-parallel\"><div class=\"sk-parallel-item\"><div class=\"sk-item\"><div class=\"sk-label-container\"><div class=\"sk-label fitted sk-toggleable\"><input class=\"sk-toggleable__control sk-hidden--visually\" id=\"sk-estimator-id-2\" type=\"checkbox\" ><label for=\"sk-estimator-id-2\" class=\"sk-toggleable__label fitted sk-toggleable__label-arrow fitted\">estimator: Pipeline</label><div class=\"sk-toggleable__content fitted\"><pre>Pipeline(steps=[(&#x27;model&#x27;,\n",
       "                 LGBMClassifier(bagging_fraction=0.5913758206188472,\n",
       "                                boosting_type=&#x27;dart&#x27;, class_weight=&#x27;balanced&#x27;,\n",
       "                                colsample_bytree=None,\n",
       "                                feature_fraction=0.516377322490629, lambda_l1=0,\n",
       "                                lambda_l2=0, learning_rate=0.060621250695763136,\n",
       "                                min_child_samples=None,\n",
       "                                min_child_weight=27.36587626451878,\n",
       "                                min_data_in_leaf=2,\n",
       "                                min_sum_hessian_in_leaf=None, num_leaves=21,\n",
       "                                random_state=2024, reg_alpha=None,\n",
       "                                reg_lambda=None, subsample=None,\n",
       "                                subsample_for_bin=220000, verbose=-1))])</pre></div> </div></div><div class=\"sk-serial\"><div class=\"sk-item\"><div class=\"sk-serial\"><div class=\"sk-item\"><div class=\"sk-estimator fitted sk-toggleable\"><input class=\"sk-toggleable__control sk-hidden--visually\" id=\"sk-estimator-id-3\" type=\"checkbox\" ><label for=\"sk-estimator-id-3\" class=\"sk-toggleable__label fitted sk-toggleable__label-arrow fitted\">LGBMClassifier</label><div class=\"sk-toggleable__content fitted\"><pre>LGBMClassifier(bagging_fraction=0.5913758206188472, boosting_type=&#x27;dart&#x27;,\n",
       "               class_weight=&#x27;balanced&#x27;, colsample_bytree=None,\n",
       "               feature_fraction=0.516377322490629, lambda_l1=0, lambda_l2=0,\n",
       "               learning_rate=0.060621250695763136, min_child_samples=None,\n",
       "               min_child_weight=27.36587626451878, min_data_in_leaf=2,\n",
       "               min_sum_hessian_in_leaf=None, num_leaves=21, random_state=2024,\n",
       "               reg_alpha=None, reg_lambda=None, subsample=None,\n",
       "               subsample_for_bin=220000, verbose=-1)</pre></div> </div></div></div></div></div></div></div></div></div></div></div>"
      ],
      "text/plain": [
       "CalibratedClassifierCV(cv=4, ensemble=False,\n",
       "                       estimator=Pipeline(steps=[('model',\n",
       "                                                  LGBMClassifier(bagging_fraction=0.5913758206188472,\n",
       "                                                                 boosting_type='dart',\n",
       "                                                                 class_weight='balanced',\n",
       "                                                                 colsample_bytree=None,\n",
       "                                                                 feature_fraction=0.516377322490629,\n",
       "                                                                 lambda_l1=0,\n",
       "                                                                 lambda_l2=0,\n",
       "                                                                 learning_rate=0.060621250695763136,\n",
       "                                                                 min_child_samples=None,\n",
       "                                                                 min_child_weight=27.36587626451878,\n",
       "                                                                 min_data_in_leaf=2,\n",
       "                                                                 min_sum_hessian_in_leaf=None,\n",
       "                                                                 num_leaves=21,\n",
       "                                                                 random_state=2024,\n",
       "                                                                 reg_alpha=None,\n",
       "                                                                 reg_lambda=None,\n",
       "                                                                 subsample=None,\n",
       "                                                                 subsample_for_bin=220000,\n",
       "                                                                 verbose=-1))]))"
      ]
     },
     "execution_count": 14,
     "metadata": {},
     "output_type": "execute_result"
    }
   ],
   "source": [
    "model"
   ]
  },
  {
   "cell_type": "markdown",
   "id": "de1c256e-f196-43ab-9295-d7ae1931c8f1",
   "metadata": {},
   "source": [
    "## Predict"
   ]
  },
  {
   "cell_type": "code",
   "execution_count": 15,
   "id": "5d79a817-e104-41c2-a5c8-b3b05b88c22b",
   "metadata": {},
   "outputs": [],
   "source": [
    "prob = model.predict_proba(X)[:, 1]"
   ]
  },
  {
   "cell_type": "code",
   "execution_count": 16,
   "id": "26b6d7ae-a1bf-4876-a4e5-807a93a24368",
   "metadata": {},
   "outputs": [],
   "source": [
    "data['probability'] = prob"
   ]
  },
  {
   "cell_type": "code",
   "execution_count": 17,
   "id": "cd173289-42f6-440e-b078-74be092b6d1b",
   "metadata": {},
   "outputs": [
    {
     "data": {
      "text/plain": [
       "<Axes: >"
      ]
     },
     "execution_count": 17,
     "metadata": {},
     "output_type": "execute_result"
    },
    {
     "data": {
      "image/png": "[encoded data removed]",
      "text/plain": [
       "<Figure size 640x480 with 1 Axes>"
      ]
     },
     "metadata": {},
     "output_type": "display_data"
    }
   ],
   "source": [
    "data['probability'].hist(bins=20)"
   ]
  },
  {
   "cell_type": "markdown",
   "id": "70b4bf28-9f0c-40c3-b72a-5d9bd215d466",
   "metadata": {},
   "source": [
    "## Review"
   ]
  },
  {
   "cell_type": "code",
   "execution_count": 18,
   "id": "3494b8d8-5f3a-4c14-ad50-21300b24fadc",
   "metadata": {},
   "outputs": [],
   "source": [
    "cols = ['trxn_id', 'sale_id', 'probability','days','spatial', 'listing_unit',\n",
    "        'listing_street', 'listing_zip',  'closing_unit', \n",
    "        'closing_street' , 'trxn_zip', 'trxn_price', 'listing_price']\n",
    "# + features"
   ]
  },
  {
   "cell_type": "code",
   "execution_count": 19,
   "id": "4e7c70bf-01be-4b64-a4bf-a8a1cbba67d3",
   "metadata": {},
   "outputs": [],
   "source": [
    "mask = data['probability'] > 0.45"
   ]
  },
  {
   "cell_type": "code",
   "execution_count": 20,
   "id": "ac12d8ac-5a0e-4601-ad4b-8330a2d3b2e5",
   "metadata": {},
   "outputs": [],
   "source": [
    "data['matched'] = data['sale_id'] == data['correct_sale_id']"
   ]
  },
  {
   "cell_type": "code",
   "execution_count": 21,
   "id": "038a575c-069a-4d67-82c5-b3975d900461",
   "metadata": {},
   "outputs": [
    {
     "data": {
      "text/plain": [
       "0.6462948815889993"
      ]
     },
     "execution_count": 21,
     "metadata": {},
     "output_type": "execute_result"
    }
   ],
   "source": [
    "data.loc[mask, 'matched'].mean()"
   ]
  },
  {
   "cell_type": "code",
   "execution_count": 22,
   "id": "f452d6c6-9e42-416d-9067-7467b63a8134",
   "metadata": {},
   "outputs": [],
   "source": [
    "not_matched = data.correct_sale_id.isnull()"
   ]
  },
  {
   "cell_type": "code",
   "execution_count": 23,
   "id": "45171731-6517-4e6a-b977-b3a7f2efc62f",
   "metadata": {},
   "outputs": [
    {
     "data": {
      "text/plain": [
       "1778"
      ]
     },
     "execution_count": 23,
     "metadata": {},
     "output_type": "execute_result"
    }
   ],
   "source": [
    "(mask & not_matched).sum()"
   ]
  },
  {
   "cell_type": "code",
   "execution_count": 24,
   "id": "50d0087c-06df-493e-bccf-91d4cd576953",
   "metadata": {},
   "outputs": [
    {
     "data": {
      "text/plain": [
       "(1778, 44)"
      ]
     },
     "execution_count": 24,
     "metadata": {},
     "output_type": "execute_result"
    }
   ],
   "source": [
    "data[(mask & not_matched)].shape"
   ]
  },
  {
   "cell_type": "code",
   "execution_count": 25,
   "id": "5c0cd1be-f7cf-4088-8a8f-20c346ae360f",
   "metadata": {},
   "outputs": [
    {
     "data": {
      "text/plain": [
       "1760"
      ]
     },
     "execution_count": 25,
     "metadata": {},
     "output_type": "execute_result"
    }
   ],
   "source": [
    "data.loc[(mask & not_matched), 'trxn_id'].nunique()"
   ]
  },
  {
   "cell_type": "code",
   "execution_count": 26,
   "id": "5c80cd88-0dd0-431e-b5b7-815e559f4082",
   "metadata": {},
   "outputs": [
    {
     "data": {
      "text/plain": [
       "<Axes: >"
      ]
     },
     "execution_count": 26,
     "metadata": {},
     "output_type": "execute_result"
    },
    {
     "data": {
      "image/png": "[encoded data removed]",
      "text/plain": [
       "<Figure size 640x480 with 1 Axes>"
      ]
     },
     "metadata": {},
     "output_type": "display_data"
    }
   ],
   "source": [
    "data.loc[(mask & not_matched), 'probability'].hist(bins=20)"
   ]
  },
  {
   "cell_type": "markdown",
   "id": "f631ae63-da5f-49e3-96d4-9e854de706a8",
   "metadata": {},
   "source": [
    "### Look into it"
   ]
  },
  {
   "cell_type": "code",
   "execution_count": 27,
   "id": "50cb9c2a-6805-4074-be5f-98d8a240988a",
   "metadata": {},
   "outputs": [
    {
     "data": {
      "text/html": [
       "<div>\n",
       "<style scoped>\n",
       "    .dataframe tbody tr th:only-of-type {\n",
       "        vertical-align: middle;\n",
       "    }\n",
       "\n",
       "    .dataframe tbody tr th {\n",
       "        vertical-align: top;\n",
       "    }\n",
       "\n",
       "    .dataframe thead th {\n",
       "        text-align: right;\n",
       "    }\n",
       "</style>\n",
       "<table border=\"1\" class=\"dataframe\">\n",
       "  <thead>\n",
       "    <tr style=\"text-align: right;\">\n",
       "      <th></th>\n",
       "      <th>trxn_id</th>\n",
       "      <th>sale_id</th>\n",
       "      <th>probability</th>\n",
       "      <th>days</th>\n",
       "      <th>spatial</th>\n",
       "      <th>listing_unit</th>\n",
       "      <th>listing_street</th>\n",
       "      <th>listing_zip</th>\n",
       "      <th>closing_unit</th>\n",
       "      <th>closing_street</th>\n",
       "      <th>trxn_zip</th>\n",
       "      <th>trxn_price</th>\n",
       "      <th>listing_price</th>\n",
       "    </tr>\n",
       "  </thead>\n",
       "  <tbody>\n",
       "    <tr>\n",
       "      <th>1733</th>\n",
       "      <td>3037.0</td>\n",
       "      <td>1577219.0</td>\n",
       "      <td>0.489073</td>\n",
       "      <td>0.0</td>\n",
       "      <td>33.0</td>\n",
       "      <td>3H</td>\n",
       "      <td>269 BENNETT AVENUE</td>\n",
       "      <td>10040</td>\n",
       "      <td>3H</td>\n",
       "      <td>4523 Broadway</td>\n",
       "      <td>10040</td>\n",
       "      <td>371000.0</td>\n",
       "      <td>379000.0</td>\n",
       "    </tr>\n",
       "    <tr>\n",
       "      <th>83</th>\n",
       "      <td>73.0</td>\n",
       "      <td>1462140.0</td>\n",
       "      <td>0.486972</td>\n",
       "      <td>5.0</td>\n",
       "      <td>78.0</td>\n",
       "      <td>21H</td>\n",
       "      <td>330 EAST 33 STREET</td>\n",
       "      <td>10016</td>\n",
       "      <td>21H</td>\n",
       "      <td>330 East 33 Street</td>\n",
       "      <td></td>\n",
       "      <td>585000.0</td>\n",
       "      <td>579000.0</td>\n",
       "    </tr>\n",
       "    <tr>\n",
       "      <th>1210</th>\n",
       "      <td>80.0</td>\n",
       "      <td>1451452.0</td>\n",
       "      <td>0.483270</td>\n",
       "      <td>-21.0</td>\n",
       "      <td>94.0</td>\n",
       "      <td>2F</td>\n",
       "      <td>259 BENNETT AVENUE</td>\n",
       "      <td>10040</td>\n",
       "      <td>2F</td>\n",
       "      <td>259 Bennett Avenue</td>\n",
       "      <td></td>\n",
       "      <td>350000.0</td>\n",
       "      <td>355000.0</td>\n",
       "    </tr>\n",
       "    <tr>\n",
       "      <th>17</th>\n",
       "      <td>18.0</td>\n",
       "      <td>1398433.0</td>\n",
       "      <td>0.477066</td>\n",
       "      <td>40.0</td>\n",
       "      <td>135.0</td>\n",
       "      <td>11F</td>\n",
       "      <td>225 Adams Street</td>\n",
       "      <td>11201</td>\n",
       "      <td>11F</td>\n",
       "      <td>225 Adams Street</td>\n",
       "      <td></td>\n",
       "      <td>510000.0</td>\n",
       "      <td>525000.0</td>\n",
       "    </tr>\n",
       "    <tr>\n",
       "      <th>203</th>\n",
       "      <td>6997.0</td>\n",
       "      <td>1687507.0</td>\n",
       "      <td>0.472499</td>\n",
       "      <td>-32.0</td>\n",
       "      <td>5.0</td>\n",
       "      <td>501</td>\n",
       "      <td>435 TOMPKINS AVENUE</td>\n",
       "      <td>11216</td>\n",
       "      <td>501</td>\n",
       "      <td>435 Tompkins Avenue</td>\n",
       "      <td>11216</td>\n",
       "      <td>758000.0</td>\n",
       "      <td>778000.0</td>\n",
       "    </tr>\n",
       "    <tr>\n",
       "      <th>1692</th>\n",
       "      <td>2998.0</td>\n",
       "      <td>1570904.0</td>\n",
       "      <td>0.464141</td>\n",
       "      <td>3.0</td>\n",
       "      <td>75.0</td>\n",
       "      <td>3CN</td>\n",
       "      <td>150 CHARLES STREET</td>\n",
       "      <td>10014</td>\n",
       "      <td>3CN</td>\n",
       "      <td>150 Charles</td>\n",
       "      <td>10014</td>\n",
       "      <td>4500000.0</td>\n",
       "      <td>4995000.0</td>\n",
       "    </tr>\n",
       "    <tr>\n",
       "      <th>3363</th>\n",
       "      <td>5173.0</td>\n",
       "      <td>1621456.0</td>\n",
       "      <td>0.462065</td>\n",
       "      <td>13.0</td>\n",
       "      <td>0.0</td>\n",
       "      <td>LC</td>\n",
       "      <td>3845 SHORE PARKWAY</td>\n",
       "      <td>11235</td>\n",
       "      <td>LC</td>\n",
       "      <td>3845 Shore Parkway (#LC), Brooklyn, NY</td>\n",
       "      <td>11235</td>\n",
       "      <td>180000.0</td>\n",
       "      <td>189999.0</td>\n",
       "    </tr>\n",
       "    <tr>\n",
       "      <th>2604</th>\n",
       "      <td>3520.0</td>\n",
       "      <td>1601666.0</td>\n",
       "      <td>0.458487</td>\n",
       "      <td>-56.0</td>\n",
       "      <td>0.0</td>\n",
       "      <td>3</td>\n",
       "      <td>657 PROSPECT PLACE</td>\n",
       "      <td>11216</td>\n",
       "      <td>3</td>\n",
       "      <td>657 Prospect Place</td>\n",
       "      <td>11216</td>\n",
       "      <td>890000.0</td>\n",
       "      <td>849000.0</td>\n",
       "    </tr>\n",
       "    <tr>\n",
       "      <th>5391</th>\n",
       "      <td>6073.0</td>\n",
       "      <td>1661813.0</td>\n",
       "      <td>0.458487</td>\n",
       "      <td>-68.0</td>\n",
       "      <td>0.0</td>\n",
       "      <td>4A</td>\n",
       "      <td>83 UNDERHILL AVENUE</td>\n",
       "      <td>11238</td>\n",
       "      <td>4A</td>\n",
       "      <td>83 Underhill Avenue</td>\n",
       "      <td>11238</td>\n",
       "      <td>735000.0</td>\n",
       "      <td>699000.0</td>\n",
       "    </tr>\n",
       "    <tr>\n",
       "      <th>3625</th>\n",
       "      <td>5250.0</td>\n",
       "      <td>1639620.0</td>\n",
       "      <td>0.456040</td>\n",
       "      <td>-22.0</td>\n",
       "      <td>0.0</td>\n",
       "      <td>16</td>\n",
       "      <td>249 EAST 50 STREET</td>\n",
       "      <td>10022</td>\n",
       "      <td>16</td>\n",
       "      <td>249 East 50th Street</td>\n",
       "      <td>10022</td>\n",
       "      <td>3600000.0</td>\n",
       "      <td>3999900.0</td>\n",
       "    </tr>\n",
       "  </tbody>\n",
       "</table>\n",
       "</div>"
      ],
      "text/plain": [
       "      trxn_id    sale_id  probability  days  spatial listing_unit  \\\n",
       "1733   3037.0  1577219.0     0.489073   0.0     33.0           3H   \n",
       "83       73.0  1462140.0     0.486972   5.0     78.0          21H   \n",
       "1210     80.0  1451452.0     0.483270 -21.0     94.0           2F   \n",
       "17       18.0  1398433.0     0.477066  40.0    135.0          11F   \n",
       "203    6997.0  1687507.0     0.472499 -32.0      5.0          501   \n",
       "1692   2998.0  1570904.0     0.464141   3.0     75.0          3CN   \n",
       "3363   5173.0  1621456.0     0.462065  13.0      0.0           LC   \n",
       "2604   3520.0  1601666.0     0.458487 -56.0      0.0            3   \n",
       "5391   6073.0  1661813.0     0.458487 -68.0      0.0           4A   \n",
       "3625   5250.0  1639620.0     0.456040 -22.0      0.0           16   \n",
       "\n",
       "           listing_street listing_zip closing_unit  \\\n",
       "1733   269 BENNETT AVENUE       10040           3H   \n",
       "83     330 EAST 33 STREET       10016          21H   \n",
       "1210   259 BENNETT AVENUE       10040           2F   \n",
       "17       225 Adams Street       11201          11F   \n",
       "203   435 TOMPKINS AVENUE       11216          501   \n",
       "1692   150 CHARLES STREET       10014          3CN   \n",
       "3363   3845 SHORE PARKWAY       11235           LC   \n",
       "2604   657 PROSPECT PLACE       11216            3   \n",
       "5391  83 UNDERHILL AVENUE       11238           4A   \n",
       "3625   249 EAST 50 STREET       10022           16   \n",
       "\n",
       "                              closing_street trxn_zip  trxn_price  \\\n",
       "1733                           4523 Broadway    10040    371000.0   \n",
       "83                        330 East 33 Street             585000.0   \n",
       "1210                      259 Bennett Avenue             350000.0   \n",
       "17                          225 Adams Street             510000.0   \n",
       "203                      435 Tompkins Avenue    11216    758000.0   \n",
       "1692                             150 Charles    10014   4500000.0   \n",
       "3363  3845 Shore Parkway (#LC), Brooklyn, NY    11235    180000.0   \n",
       "2604                      657 Prospect Place    11216    890000.0   \n",
       "5391                     83 Underhill Avenue    11238    735000.0   \n",
       "3625                    249 East 50th Street    10022   3600000.0   \n",
       "\n",
       "      listing_price  \n",
       "1733       379000.0  \n",
       "83         579000.0  \n",
       "1210       355000.0  \n",
       "17         525000.0  \n",
       "203        778000.0  \n",
       "1692      4995000.0  \n",
       "3363       189999.0  \n",
       "2604       849000.0  \n",
       "5391       699000.0  \n",
       "3625      3999900.0  "
      ]
     },
     "execution_count": 27,
     "metadata": {},
     "output_type": "execute_result"
    }
   ],
   "source": [
    "data.loc[(mask & not_matched), cols].sort_values('probability', ascending=False).tail(10)"
   ]
  },
  {
   "cell_type": "code",
   "execution_count": 43,
   "id": "e4352f1f-5e0c-4328-be0b-db2e5a56c122",
   "metadata": {},
   "outputs": [
    {
     "data": {
      "text/html": [
       "<div>\n",
       "<style scoped>\n",
       "    .dataframe tbody tr th:only-of-type {\n",
       "        vertical-align: middle;\n",
       "    }\n",
       "\n",
       "    .dataframe tbody tr th {\n",
       "        vertical-align: top;\n",
       "    }\n",
       "\n",
       "    .dataframe thead th {\n",
       "        text-align: right;\n",
       "    }\n",
       "</style>\n",
       "<table border=\"1\" class=\"dataframe\">\n",
       "  <thead>\n",
       "    <tr style=\"text-align: right;\">\n",
       "      <th></th>\n",
       "      <th>trxn_id</th>\n",
       "      <th>sale_id</th>\n",
       "      <th>probability</th>\n",
       "      <th>days</th>\n",
       "      <th>spatial</th>\n",
       "      <th>listing_unit</th>\n",
       "      <th>listing_street</th>\n",
       "      <th>listing_zip</th>\n",
       "      <th>closing_unit</th>\n",
       "      <th>closing_street</th>\n",
       "      <th>trxn_zip</th>\n",
       "      <th>trxn_price</th>\n",
       "      <th>listing_price</th>\n",
       "    </tr>\n",
       "  </thead>\n",
       "  <tbody>\n",
       "    <tr>\n",
       "      <th>63</th>\n",
       "      <td>5969.0</td>\n",
       "      <td>1657358.0</td>\n",
       "      <td>0.637151</td>\n",
       "      <td>0.0</td>\n",
       "      <td>0.0</td>\n",
       "      <td>12B</td>\n",
       "      <td>245 WEST 99 STREET</td>\n",
       "      <td>10025</td>\n",
       "      <td>12B</td>\n",
       "      <td>245 WEST 99 STREET</td>\n",
       "      <td>10025</td>\n",
       "      <td>4275000.0</td>\n",
       "      <td>4350000.0</td>\n",
       "    </tr>\n",
       "    <tr>\n",
       "      <th>64</th>\n",
       "      <td>5969.0</td>\n",
       "      <td>1657404.0</td>\n",
       "      <td>0.637151</td>\n",
       "      <td>0.0</td>\n",
       "      <td>0.0</td>\n",
       "      <td>12B</td>\n",
       "      <td>245 WEST 99 STREET</td>\n",
       "      <td>10025</td>\n",
       "      <td>12B</td>\n",
       "      <td>245 WEST 99 STREET</td>\n",
       "      <td>10025</td>\n",
       "      <td>4275000.0</td>\n",
       "      <td>4350000.0</td>\n",
       "    </tr>\n",
       "  </tbody>\n",
       "</table>\n",
       "</div>"
      ],
      "text/plain": [
       "    trxn_id    sale_id  probability  days  spatial listing_unit  \\\n",
       "63   5969.0  1657358.0     0.637151   0.0      0.0          12B   \n",
       "64   5969.0  1657404.0     0.637151   0.0      0.0          12B   \n",
       "\n",
       "        listing_street listing_zip closing_unit      closing_street trxn_zip  \\\n",
       "63  245 WEST 99 STREET       10025          12B  245 WEST 99 STREET    10025   \n",
       "64  245 WEST 99 STREET       10025          12B  245 WEST 99 STREET    10025   \n",
       "\n",
       "    trxn_price  listing_price  \n",
       "63   4275000.0      4350000.0  \n",
       "64   4275000.0      4350000.0  "
      ]
     },
     "execution_count": 43,
     "metadata": {},
     "output_type": "execute_result"
    }
   ],
   "source": [
    "data.loc[mask & (data.trxn_id == 5969), cols]"
   ]
  },
  {
   "cell_type": "code",
   "execution_count": 28,
   "id": "9c744682-902e-44e0-bc8c-b275480ffff4",
   "metadata": {},
   "outputs": [
    {
     "data": {
      "text/plain": [
       "2685.0    2\n",
       "7809.0    2\n",
       "3780.0    2\n",
       "4213.0    2\n",
       "3562.0    2\n",
       "         ..\n",
       "3799.0    1\n",
       "3702.0    1\n",
       "3576.0    1\n",
       "3597.0    1\n",
       "245.0     1\n",
       "Name: trxn_id, Length: 1760, dtype: int64"
      ]
     },
     "execution_count": 28,
     "metadata": {},
     "output_type": "execute_result"
    }
   ],
   "source": [
    "data.loc[(mask & not_matched), 'trxn_id'].value_counts()"
   ]
  },
  {
   "cell_type": "code",
   "execution_count": 30,
   "id": "ddfe16a4-c374-4db2-b4ac-feb4bd785fe8",
   "metadata": {},
   "outputs": [
    {
     "data": {
      "text/plain": [
       "1760"
      ]
     },
     "execution_count": 30,
     "metadata": {},
     "output_type": "execute_result"
    }
   ],
   "source": [
    "data.loc[(mask & not_matched), 'trxn_id'].nunique()"
   ]
  },
  {
   "cell_type": "code",
   "execution_count": 31,
   "id": "fbec9f2b-3d09-467d-bedf-a00fd77ff56f",
   "metadata": {},
   "outputs": [
    {
     "data": {
      "text/plain": [
       "0.29805249788314986"
      ]
     },
     "execution_count": 31,
     "metadata": {},
     "output_type": "execute_result"
    }
   ],
   "source": [
    "data.loc[(mask & not_matched), 'trxn_id'].nunique() / data['trxn_id'].nunique()"
   ]
  },
  {
   "cell_type": "markdown",
   "id": "c4391219-0db3-4e8c-b561-9c4247b2acfd",
   "metadata": {},
   "source": [
    "## Store"
   ]
  },
  {
   "cell_type": "code",
   "execution_count": 41,
   "id": "b71c264f-8385-4b38-b497-f0a8035d5cad",
   "metadata": {},
   "outputs": [],
   "source": [
    "COLS = [\n",
    "    'sale_id',\n",
    "    'trxn_id',\n",
    "    'trxn_price',\n",
    "    'listing_price',\n",
    "    'lottype_cat',\n",
    "    'unittype_cat',\n",
    "    'spatial',\n",
    "    'days',\n",
    "    'price_diff',\n",
    "    'price_pct_diff',\n",
    "    'partial_street_score',\n",
    "    'partial_unit_score',\n",
    "    'total',\n",
    "    'same_zipcode',\n",
    "    'listing_unit',\n",
    "    'trxn_unit',\n",
    "    'listing_street',\n",
    "    'trxn_street',\n",
    "    \"trxn_zip\",\n",
    "    \"trxn_city\",\n",
    "    \"trxn_state\",\n",
    "    \"listing_zip\",\n",
    "    \"listing_city\",\n",
    "    \"area_id\",\n",
    "    \"building_in_10\",\n",
    "    \"same_complex\",\n",
    "    \"same_building_id\",\n",
    "    \"same_block\",\n",
    "    \"same_bin\",\n",
    "    \"same_building_bbl\",\n",
    "    \"same_bbl\",\n",
    "    \"same_unittype\",\n",
    "    \"candidates\",\n",
    "    \"trxn_candidates\",\n",
    "    \"model\",\n",
    "    \"probability\",\n",
    "    \"scored_at\",\n",
    "    \n",
    "    \n",
    "]"
   ]
  },
  {
   "cell_type": "code",
   "execution_count": 43,
   "id": "a795a841-189c-4298-86ab-59cc732c8dae",
   "metadata": {},
   "outputs": [],
   "source": [
    "D = data.loc[(mask & not_matched), :].rename(columns={'closing_unit':'trxn_unit','closing_street':'trxn_street'})"
   ]
  },
  {
   "cell_type": "code",
   "execution_count": 44,
   "id": "764615fe-2ad0-44e7-bd36-f2a2e3c3c145",
   "metadata": {},
   "outputs": [],
   "source": [
    "D[\"model\"] = MODEL_VERSION\n",
    "D[\"scored_at\"] = pd.Timestamp.now()"
   ]
  },
  {
   "cell_type": "code",
   "execution_count": 45,
   "id": "da6eec02-0396-415f-98ee-5c98c46ed647",
   "metadata": {},
   "outputs": [],
   "source": [
    "D = D[COLS]"
   ]
  },
  {
   "cell_type": "code",
   "execution_count": 46,
   "id": "e14f543d-5d0f-468e-8f7f-bba112efbe69",
   "metadata": {},
   "outputs": [
    {
     "data": {
      "text/plain": [
       "(1778, 37)"
      ]
     },
     "execution_count": 46,
     "metadata": {},
     "output_type": "execute_result"
    }
   ],
   "source": [
    "D.shape"
   ]
  },
  {
   "cell_type": "code",
   "execution_count": 48,
   "id": "eca3cc78-5f41-459c-a648-b36c1fe912bf",
   "metadata": {},
   "outputs": [],
   "source": [
    "D.to_parquet('./data/result_backfill.parquet')"
   ]
  },
  {
   "cell_type": "code",
   "execution_count": null,
   "id": "efad5a70-feff-42bd-a4cc-4859d5c5c165",
   "metadata": {},
   "outputs": [],
   "source": []
  }
 ],
 "metadata": {
  "kernelspec": {
   "display_name": "trxn_match2",
   "language": "python",
   "name": "trxn_match2"
  },
  "language_info": {
   "codemirror_mode": {
    "name": "ipython",
    "version": 3
   },
   "file_extension": ".py",
   "mimetype": "text/x-python",
   "name": "python",
   "nbconvert_exporter": "python",
   "pygments_lexer": "ipython3",
   "version": "3.10.13"
  }
 },
 "nbformat": 4,
 "nbformat_minor": 5
}
