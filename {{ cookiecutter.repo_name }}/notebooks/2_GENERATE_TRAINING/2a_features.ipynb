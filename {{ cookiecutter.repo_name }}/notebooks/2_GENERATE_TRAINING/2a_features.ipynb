{
 "cells": [
  {
   "cell_type": "code",
   "execution_count": 3,
   "id": "e2ba816f-919e-4fd6-bf09-0a41f98b6f49",
   "metadata": {},
   "outputs": [],
   "source": [
    "import pandas as pd\n",
    "import numpy as np\n",
    "\n",
    "from sklearn.base import clone\n",
    "from sklearn.model_selection import cross_validate\n",
    "from sklearn.model_selection import StratifiedKFold\n",
    "from sklearn.metrics import average_precision_score, roc_auc_score\n",
    "\n",
    "from sklearn.metrics import  make_scorer\n",
    "from lightgbm import LGBMRanker, LGBMClassifier #, __version__\n",
    "\n",
    "from sklearn.metrics import make_scorer, roc_auc_score\n",
    "average_precision_scorer = make_scorer(average_precision_score, average='macro')  #, average = 'weighted')\n",
    "roc_auc_scorer = make_scorer(roc_auc_score, average='macro') #average = 'weighted')\n",
    "\n",
    "import sys\n",
    "sys.path.append('../')\n",
    "\n",
    "from propmatch.mlflowcli import log_mlflow\n",
    "\n",
    "idx = pd.IndexSlice"
   ]
  },
  {
   "cell_type": "code",
   "execution_count": 4,
   "id": "7e103ac4-ac8b-4c6c-9dc1-6941010916f1",
   "metadata": {},
   "outputs": [],
   "source": [
    "data = pd.read_parquet('./data/enriched_dataset_2.parquet')"
   ]
  },
  {
   "cell_type": "code",
   "execution_count": 5,
   "id": "65201c23-0495-4d73-afa5-af79752914e9",
   "metadata": {},
   "outputs": [],
   "source": [
    "data['closing_id_c'] = data.index.get_level_values(1)\n",
    "data['closing_candidates'] = data.groupby('closing_id_c')['closing_id_c'].transform('count')"
   ]
  },
  {
   "cell_type": "code",
   "execution_count": 6,
   "id": "39e4b98a-97ed-4e0c-a42e-5f5958008781",
   "metadata": {},
   "outputs": [],
   "source": [
    "# data['sale_id'] = data.index.get_level_values(0)\n",
    "# data['sale_id_candidates'] = data['sale_id'].map(data['sale_id'].value_counts())"
   ]
  },
  {
   "cell_type": "code",
   "execution_count": 7,
   "id": "1b2638ba-ecf6-4ccc-adda-36c88820f59d",
   "metadata": {},
   "outputs": [],
   "source": [
    "# data[['candidates', 'sale_id_candidates']]"
   ]
  },
  {
   "cell_type": "code",
   "execution_count": 8,
   "id": "ae6b97a1-5c48-4212-ad4f-f83970b8b2ae",
   "metadata": {},
   "outputs": [],
   "source": [
    "data['same_rd_normalized_unit'] = data['same_rd_normalized_unit'].astype(bool)"
   ]
  },
  {
   "cell_type": "code",
   "execution_count": 9,
   "id": "3f5f1770-5e76-4319-8271-6899a63e5623",
   "metadata": {},
   "outputs": [],
   "source": [
    "data['same_unit'] = data['same unit']"
   ]
  },
  {
   "cell_type": "code",
   "execution_count": 10,
   "id": "05bea328-4797-474c-8276-8fca8e15bdec",
   "metadata": {},
   "outputs": [],
   "source": [
    "data.to_parquet('./data/features.parquet')"
   ]
  },
  {
   "cell_type": "code",
   "execution_count": null,
   "id": "a739586a-bfe8-41f4-a258-da52d04bf15e",
   "metadata": {},
   "outputs": [],
   "source": []
  }
 ],
 "metadata": {
  "kernelspec": {
   "display_name": "trxn_matching",
   "language": "python",
   "name": "trxn_matching"
  },
  "language_info": {
   "codemirror_mode": {
    "name": "ipython",
    "version": 3
   },
   "file_extension": ".py",
   "mimetype": "text/x-python",
   "name": "python",
   "nbconvert_exporter": "python",
   "pygments_lexer": "ipython3",
   "version": "3.10.13"
  }
 },
 "nbformat": 4,
 "nbformat_minor": 5
}
