{
 "cells": [
  {
   "cell_type": "code",
   "execution_count": 1,
   "id": "4b1f4399-afaa-4594-a06e-687944d8c876",
   "metadata": {},
   "outputs": [],
   "source": [
    "# ! export AWS_PROFILE='sedatalakestagingreadwrite'"
   ]
  },
  {
   "cell_type": "code",
   "execution_count": 24,
   "id": "9cdaffd3-8415-445d-99e1-dbbf8a9c4dab",
   "metadata": {},
   "outputs": [
    {
     "name": "stdout",
     "output_type": "stream",
     "text": [
      "The autoreload extension is already loaded. To reload it, use:\n",
      "  %reload_ext autoreload\n"
     ]
    }
   ],
   "source": [
    "%load_ext autoreload\n",
    "%autoreload 2\n",
    "\n",
    "import pandas as pd\n",
    "import numpy as np\n",
    "from pathlib import Path\n",
    "import json\n",
    "\n",
    "from sklearn.base import clone\n",
    "from sklearn.model_selection import cross_validate\n",
    "from sklearn.model_selection import StratifiedKFold\n",
    "from sklearn.metrics import average_precision_score, roc_auc_score\n",
    "from sklearn.metrics import precision_recall_curve\n",
    "from sklearn.metrics import PrecisionRecallDisplay\n",
    "from sklearn.metrics import roc_curve\n",
    "from sklearn.metrics import RocCurveDisplay\n",
    "from sklearn.calibration import calibration_curve, CalibrationDisplay\n",
    "from sklearn.model_selection import train_test_split\n",
    "\n",
    "# import altair as alt\n",
    "import mlflow\n",
    "\n",
    "from sklearn.metrics import  make_scorer\n",
    "from lightgbm import LGBMRanker, LGBMClassifier #, __version__\n",
    "from lightgbm import plot_importance\n",
    "\n",
    "\n",
    "from sklearn.metrics import make_scorer, roc_auc_score, precision_score, recall_score\n",
    "average_precision_scorer = make_scorer(average_precision_score, average='macro')  #, average = 'weighted')\n",
    "roc_auc_scorer = make_scorer(roc_auc_score, average='macro') #average = 'weighted')\n",
    "\n",
    "# from mlflow_utils import train_log_model\n",
    "\n",
    "idx = pd.IndexSlice\n",
    "import pylab as plt"
   ]
  },
  {
   "cell_type": "markdown",
   "id": "f58267fb-1d0e-4759-9887-b2192af6f49f",
   "metadata": {
    "tags": []
   },
   "source": [
    "## Load Data"
   ]
  },
  {
   "cell_type": "code",
   "execution_count": 25,
   "id": "846865cf-4ae7-4bdc-b5ce-d285f39f792a",
   "metadata": {},
   "outputs": [],
   "source": [
    "files = Path('./data/candidates_georef_v4').glob('*.parquet')"
   ]
  },
  {
   "cell_type": "code",
   "execution_count": 26,
   "id": "00c87679-f898-4f5e-a279-a20c97f105d5",
   "metadata": {
    "tags": []
   },
   "outputs": [],
   "source": [
    "data = pd.concat((pd.read_parquet(str(f)) for f in files))"
   ]
  },
  {
   "cell_type": "code",
   "execution_count": 27,
   "id": "7fe346d5-d045-4e4e-8f96-82e957d991c9",
   "metadata": {},
   "outputs": [
    {
     "data": {
      "text/plain": [
       "Index(['sale_id', 'trxn_id', 'trxn_price', 'listing_price', 'correct_sale_id',\n",
       "       'lottype_cat', 'unittype_cat', 'spatial', 'days', 'price_diff',\n",
       "       'price_pct_diff', 'partial_street_score', 'partial_unit_score', 'total',\n",
       "       'same_zipcode', 'listing_unit', 'closing_unit', 'listing_street',\n",
       "       'closing_street', 'trxn_zip', 'trxn_city', 'trxn_state', 'listing_zip',\n",
       "       'listing_city', 'area_id', 'x', 'y', 'distance', 'azimuth',\n",
       "       'building_in_10', 'same_complex', 'same_building_id', 'same_block',\n",
       "       'same_bin', 'same_building_bbl', 'same_bbl', 'same_unittype',\n",
       "       'same_unit', 'candidates', 'trxn_candidates', 'status'],\n",
       "      dtype='object')"
      ]
     },
     "execution_count": 27,
     "metadata": {},
     "output_type": "execute_result"
    }
   ],
   "source": [
    "data.columns"
   ]
  },
  {
   "cell_type": "code",
   "execution_count": 28,
   "id": "07e5aaf5-8d59-43e6-9b5e-32b2649998e6",
   "metadata": {},
   "outputs": [
    {
     "name": "stderr",
     "output_type": "stream",
     "text": [
      "/var/folders/v2/l685f8rj7jn4flt11pny4lsr0000gq/T/ipykernel_49613/2166678422.py:1: FutureWarning: In a future version of pandas all arguments of DataFrame.any and Series.any will be keyword-only.\n",
      "  mask = data[['trxn_id','sale_id']].isnull().any(1)\n"
     ]
    }
   ],
   "source": [
    "mask = data[['trxn_id','sale_id']].isnull().any(1)\n",
    "data = data[~mask]"
   ]
  },
  {
   "cell_type": "code",
   "execution_count": 29,
   "id": "214c01d9-0068-4f62-924f-4d4bef7b9c4f",
   "metadata": {},
   "outputs": [
    {
     "name": "stdout",
     "output_type": "stream",
     "text": [
      "Total pairs: 1,075,311, matched: 3,645 (0.34%)\n"
     ]
    }
   ],
   "source": [
    "print(f'Total pairs: {len(data):,d}, matched: {data[\"correct_sale_id\"].nunique():,d} ({data[\"correct_sale_id\"].nunique()/len(data):.2%})')"
   ]
  },
  {
   "cell_type": "code",
   "execution_count": 30,
   "id": "027e3031-5d46-48e4-86e7-4f7e97a11ca4",
   "metadata": {},
   "outputs": [],
   "source": [
    "data['match'] = (data['sale_id'] == data['correct_sale_id']).astype(int)"
   ]
  },
  {
   "cell_type": "code",
   "execution_count": 31,
   "id": "3b6659e8-00c9-4835-adbe-269f6e3f8310",
   "metadata": {
    "tags": []
   },
   "outputs": [
    {
     "data": {
      "text/plain": [
       "sale_id                 0.000000\n",
       "listing_city            0.000000\n",
       "area_id                 0.000000\n",
       "x                       0.000000\n",
       "y                       0.000000\n",
       "distance                0.000000\n",
       "azimuth                 0.000000\n",
       "building_in_10          0.000000\n",
       "same_complex            0.000000\n",
       "same_building_id        0.000000\n",
       "same_block              0.000000\n",
       "same_bin                0.000000\n",
       "same_building_bbl       0.000000\n",
       "same_bbl                0.000000\n",
       "same_unittype           0.000000\n",
       "same_unit               0.000000\n",
       "candidates              0.000000\n",
       "trxn_candidates         0.000000\n",
       "listing_zip             0.000000\n",
       "trxn_state              0.000000\n",
       "trxn_city               0.000000\n",
       "trxn_zip                0.000000\n",
       "trxn_id                 0.000000\n",
       "trxn_price              0.000000\n",
       "listing_price           0.000000\n",
       "lottype_cat             0.000000\n",
       "spatial                 0.000000\n",
       "days                    0.000000\n",
       "price_pct_diff          0.000000\n",
       "price_diff              0.000000\n",
       "partial_unit_score      0.000000\n",
       "total                   0.000000\n",
       "same_zipcode            0.000000\n",
       "listing_unit            0.000000\n",
       "closing_unit            0.000000\n",
       "listing_street          0.000000\n",
       "closing_street          0.000000\n",
       "partial_street_score    0.000000\n",
       "match                   0.000000\n",
       "unittype_cat            0.002702\n",
       "correct_sale_id         0.351437\n",
       "status                  1.000000\n",
       "dtype: float64"
      ]
     },
     "execution_count": 31,
     "metadata": {},
     "output_type": "execute_result"
    }
   ],
   "source": [
    "data.isnull().mean().sort_values()"
   ]
  },
  {
   "cell_type": "code",
   "execution_count": 32,
   "id": "643fe643-d1b7-45f0-9dab-19eee8c5cfaa",
   "metadata": {},
   "outputs": [],
   "source": [
    "data.to_parquet('./data/train/data.parquet')"
   ]
  },
  {
   "cell_type": "markdown",
   "id": "985188d8-e0ba-4e63-8427-23ab5a3fad73",
   "metadata": {},
   "source": [
    "## Features"
   ]
  },
  {
   "cell_type": "code",
   "execution_count": 33,
   "id": "882b7e41-3555-4ddd-8c2c-5bf37ab71bff",
   "metadata": {},
   "outputs": [],
   "source": [
    "features = ['spatial', 'days', 'price_pct_diff', \n",
    "            'partial_unit_score',\n",
    "            \"partial_street_score\",\n",
    "            'same_unit',\n",
    "            'same_building_id', \n",
    "            'same_bin',\n",
    "            'same_complex',\n",
    "            \"candidates\",\n",
    "            \"same_zipcode\",\n",
    "            \"building_in_10\",\n",
    "#             \"closing_candidates\", \n",
    "            'same_unittype', \n",
    "#             'same_rd_normalized_unit',\n",
    "#             'unittype_cat',\n",
    "            'x', 'y', 'distance', 'azimuth'\n",
    "            ]\n",
    "\n",
    "ycol = 'match'"
   ]
  },
  {
   "cell_type": "code",
   "execution_count": 34,
   "id": "b7f6d50c-b53e-428a-96e7-0d6a8921d650",
   "metadata": {},
   "outputs": [
    {
     "name": "stderr",
     "output_type": "stream",
     "text": [
      "/var/folders/v2/l685f8rj7jn4flt11pny4lsr0000gq/T/ipykernel_49613/3148855072.py:5: SettingWithCopyWarning: \n",
      "A value is trying to be set on a copy of a slice from a DataFrame.\n",
      "Try using .loc[row_indexer,col_indexer] = value instead\n",
      "\n",
      "See the caveats in the documentation: https://pandas.pydata.org/pandas-docs/stable/user_guide/indexing.html#returning-a-view-versus-a-copy\n",
      "  X[bool_cols] = X[bool_cols].astype(bool)  #.astype(int)\n"
     ]
    }
   ],
   "source": [
    "\n",
    "X = data[features]\n",
    "y = data[ycol]\n",
    "\n",
    "bool_cols = ['same_unit', 'same_building_id', 'same_bin', 'same_complex', 'same_zipcode', 'building_in_10', 'same_unittype']\n",
    "X[bool_cols] = X[bool_cols].astype(bool)  #.astype(int)"
   ]
  },
  {
   "cell_type": "code",
   "execution_count": 35,
   "id": "791462f3-b20a-4355-8d22-60da23ed585e",
   "metadata": {},
   "outputs": [],
   "source": [
    "X.to_parquet('./data/train/X.parquet')\n",
    "y.to_frame().to_parquet('./data/train/y.parquet')"
   ]
  },
  {
   "cell_type": "markdown",
   "id": "08c004b3-b47b-47bf-8838-a0bb795d573b",
   "metadata": {},
   "source": [
    "## Validation Set"
   ]
  },
  {
   "cell_type": "code",
   "execution_count": 36,
   "id": "454f01ed-63a8-471d-8a82-e40331b6ffb5",
   "metadata": {},
   "outputs": [],
   "source": [
    "Xtrain, Xval, ytrain, yval = train_test_split(X, y, test_size=0.1, random_state=2024, stratify=y)"
   ]
  },
  {
   "cell_type": "code",
   "execution_count": 37,
   "id": "9a930ea0-9d83-4dd2-8bca-3b84692c9a99",
   "metadata": {},
   "outputs": [
    {
     "data": {
      "text/plain": [
       "'Training set size 967,779, matched: 0.32%'"
      ]
     },
     "execution_count": 37,
     "metadata": {},
     "output_type": "execute_result"
    }
   ],
   "source": [
    "f\"Training set size {len(ytrain):,d}, matched: {ytrain.mean():.2%}\""
   ]
  },
  {
   "cell_type": "code",
   "execution_count": 38,
   "id": "c4fc86a2-cdb2-4784-be19-cf6e9785390f",
   "metadata": {},
   "outputs": [
    {
     "data": {
      "text/plain": [
       "'Validation set size 107,532, matched: 0.32%'"
      ]
     },
     "execution_count": 38,
     "metadata": {},
     "output_type": "execute_result"
    }
   ],
   "source": [
    "f\"Validation set size {len(yval):,d}, matched: {yval.mean():.2%}\""
   ]
  },
  {
   "cell_type": "code",
   "execution_count": 39,
   "id": "e676fbdf-2b53-4fbc-bfa7-6fe637a58e9c",
   "metadata": {},
   "outputs": [],
   "source": [
    "Xtrain.to_parquet('./data/train/X_train.parquet')\n",
    "ytrain.to_frame().to_parquet('./data/train/y_train.parquet')"
   ]
  },
  {
   "cell_type": "code",
   "execution_count": 40,
   "id": "6788e305-b257-4397-8e9f-3ad17bddb5cd",
   "metadata": {},
   "outputs": [],
   "source": [
    "Xval.to_parquet('./data/train/Xval.parquet')\n",
    "yval.to_frame().to_parquet('./data/train/yval.parquet')"
   ]
  },
  {
   "cell_type": "markdown",
   "id": "e9478b0b-bdd1-47bd-905d-df35724fda33",
   "metadata": {},
   "source": [
    "## Dealing with Imbalance"
   ]
  },
  {
   "cell_type": "code",
   "execution_count": 41,
   "id": "8ecc59a1-cd7a-4073-8b01-45f1d1066bec",
   "metadata": {},
   "outputs": [],
   "source": [
    "from imblearn.over_sampling import RandomOverSampler\n",
    "# from imblearn.over_sampling import SMOTE, ADASYN"
   ]
  },
  {
   "cell_type": "code",
   "execution_count": 42,
   "id": "ee4ec25d-dd0d-4a70-87ae-3b7fc6cd805d",
   "metadata": {},
   "outputs": [],
   "source": [
    "ros = RandomOverSampler(random_state=2024, sampling_strategy=0.1)\n",
    "X_resampled_10, y_resampled_10 = ros.fit_resample(Xtrain, ytrain)"
   ]
  },
  {
   "cell_type": "code",
   "execution_count": 43,
   "id": "5dfd46af-33b0-464b-92e3-98011309b298",
   "metadata": {},
   "outputs": [],
   "source": [
    "X_resampled_10.to_parquet('./data/train/X_resampled_10.parquet')\n",
    "y_resampled_10.to_frame().to_parquet('./data/train/y_resampled_10.parquet')"
   ]
  },
  {
   "cell_type": "markdown",
   "id": "013ae2e7-dcc8-463e-8d1f-2215a5d8523b",
   "metadata": {},
   "source": [
    "## Splitting with Group ID (trxn id) in mind"
   ]
  },
  {
   "cell_type": "code",
   "execution_count": 44,
   "id": "7f30f3aa-715a-474c-93f7-97e8a1b1a87d",
   "metadata": {},
   "outputs": [],
   "source": [
    "from sklearn.model_selection import GroupShuffleSplit "
   ]
  },
  {
   "cell_type": "code",
   "execution_count": 45,
   "id": "5d7e808a-ea90-444b-a866-db43984840df",
   "metadata": {},
   "outputs": [],
   "source": [
    "splitter = GroupShuffleSplit(test_size=.1, n_splits=2, random_state = 2024)"
   ]
  },
  {
   "cell_type": "code",
   "execution_count": 46,
   "id": "59b13935-7f30-4b1b-972c-813010ba4e40",
   "metadata": {},
   "outputs": [],
   "source": [
    "# X"
   ]
  },
  {
   "cell_type": "code",
   "execution_count": 47,
   "id": "caf672b3-0927-4e3e-99aa-1e01bb6075c7",
   "metadata": {},
   "outputs": [],
   "source": [
    "split = splitter.split(data, groups=data['trxn_id'])\n",
    "train_inds, test_inds = next(split)"
   ]
  },
  {
   "cell_type": "code",
   "execution_count": 48,
   "id": "c2ce6907-828b-4850-b7d6-6de21db0c3f5",
   "metadata": {},
   "outputs": [],
   "source": [
    "X2train = X.iloc[train_inds]\n",
    "X2val = X.iloc[test_inds]\n",
    "\n",
    "y2train = y.iloc[train_inds]\n",
    "y2val = y.iloc[test_inds]"
   ]
  },
  {
   "cell_type": "code",
   "execution_count": 49,
   "id": "4392df0d-fb2e-40ec-a657-776fb5212aa7",
   "metadata": {},
   "outputs": [],
   "source": [
    "X2train.to_parquet('./data/train/X_query_train.parquet')\n",
    "X2val.to_parquet('./data/train/X_query_val.parquet')\n",
    "\n",
    "y2train.to_frame().to_parquet('./data/train/y_query_train.parquet')\n",
    "y2val.to_frame().to_parquet('./data/train/y_query_val.parquet')"
   ]
  },
  {
   "cell_type": "code",
   "execution_count": 50,
   "id": "3347d824-cd50-4ab5-b52a-c31f053e6101",
   "metadata": {},
   "outputs": [],
   "source": [
    "train_groups = list(data.iloc[train_inds].groupby('trxn_id')['trxn_id'].count())\n",
    "val_groups = list(data.iloc[test_inds].groupby('trxn_id')['trxn_id'].count())"
   ]
  },
  {
   "cell_type": "code",
   "execution_count": 51,
   "id": "ee252ad6-caed-4d17-aa8a-8a25c1903449",
   "metadata": {},
   "outputs": [],
   "source": [
    "trxn_ids_train = data.iloc[train_inds]['trxn_id']\n",
    "trxn_ids_train.to_frame().to_parquet('./data/train/trxn_id_train.parquet')\n",
    "\n",
    "trxn_ids_val = data.iloc[test_inds]['trxn_id']\n",
    "trxn_ids_val.to_frame().to_parquet('./data/train/trxn_id_val.parquet')"
   ]
  },
  {
   "cell_type": "code",
   "execution_count": 52,
   "id": "63d6c10e-cdf6-4d29-aed8-ea333405f3f2",
   "metadata": {},
   "outputs": [],
   "source": [
    "with open('./data/train/groups.json', 'w') as f:\n",
    "    json.dump(\n",
    "        {\n",
    "            'train': train_groups,\n",
    "            'val': val_groups\n",
    "        }\n",
    "    , f)"
   ]
  },
  {
   "cell_type": "code",
   "execution_count": null,
   "id": "5bbb0a2b-1ae3-4678-bbcd-85e8f897a502",
   "metadata": {},
   "outputs": [],
   "source": []
  },
  {
   "cell_type": "code",
   "execution_count": null,
   "id": "147c560a-cb85-4a29-96ca-5e3b57ee5c05",
   "metadata": {},
   "outputs": [],
   "source": []
  }
 ],
 "metadata": {
  "kernelspec": {
   "display_name": "trxn_match2",
   "language": "python",
   "name": "trxn_match2"
  },
  "language_info": {
   "codemirror_mode": {
    "name": "ipython",
    "version": 3
   },
   "file_extension": ".py",
   "mimetype": "text/x-python",
   "name": "python",
   "nbconvert_exporter": "python",
   "pygments_lexer": "ipython3",
   "version": "3.10.13"
  }
 },
 "nbformat": 4,
 "nbformat_minor": 5
}
