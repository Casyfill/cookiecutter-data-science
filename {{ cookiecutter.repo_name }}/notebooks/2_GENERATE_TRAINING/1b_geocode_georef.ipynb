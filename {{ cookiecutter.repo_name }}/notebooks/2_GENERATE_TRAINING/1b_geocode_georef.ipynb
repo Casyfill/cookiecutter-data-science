{
 "cells": [
  {
   "cell_type": "code",
   "execution_count": 121,
   "id": "edb7c2ad-20f4-4ac0-b313-ccd662e4e459",
   "metadata": {},
   "outputs": [
    {
     "data": {
      "text/plain": [
       "True"
      ]
     },
     "execution_count": 121,
     "metadata": {},
     "output_type": "execute_result"
    }
   ],
   "source": [
    "import json\n",
    "from dotenv import load_dotenv\n",
    "load_dotenv()  # take environment variables from .env."
   ]
  },
  {
   "cell_type": "code",
   "execution_count": 2,
   "id": "7538c9e4-fa67-4e15-8063-53b653bc7528",
   "metadata": {},
   "outputs": [
    {
     "name": "stdout",
     "output_type": "stream",
     "text": [
      "ZGNY_GEOCODER_LOG_LEVEL=DEBUG\n"
     ]
    }
   ],
   "source": [
    "! printenv | grep ZGNY_GEOCODER_LOG_LEVEL"
   ]
  },
  {
   "cell_type": "code",
   "execution_count": 3,
   "id": "9a9f7c74-90b1-4ace-a9d2-cf9de30d115f",
   "metadata": {},
   "outputs": [],
   "source": [
    "# ! pip install zgny_geocoder_client==0.2.38"
   ]
  },
  {
   "cell_type": "code",
   "execution_count": 4,
   "id": "61bc0d26-9a35-4c22-a8a5-84a34389b77d",
   "metadata": {},
   "outputs": [
    {
     "data": {
      "text/plain": [
       "'0.1.0'"
      ]
     },
     "execution_count": 4,
     "metadata": {},
     "output_type": "execute_result"
    }
   ],
   "source": [
    "from zgny_geocoder_client import __version__\n",
    "__version__"
   ]
  },
  {
   "cell_type": "code",
   "execution_count": 39,
   "id": "7c01e998-5f2b-4264-8777-7b058f952c1b",
   "metadata": {},
   "outputs": [],
   "source": [
    "import pandas as pd\n",
    "import os\n",
    "\n",
    "from zgny_geocoder_client.georef import GeorefGeocoder\n",
    "from zgny_geocoder_client.utils import dicts_to_jsonl"
   ]
  },
  {
   "cell_type": "markdown",
   "id": "4238f9d5-bf9a-46b3-9e95-4ec7f8d5a48c",
   "metadata": {},
   "source": [
    "## Load Data"
   ]
  },
  {
   "cell_type": "code",
   "execution_count": 148,
   "id": "3650ff0c-0c2d-40a2-ab14-96a9d88d18cd",
   "metadata": {},
   "outputs": [],
   "source": [
    "trxns = pd.read_parquet('./data/trxn_2024_03_08.parquet').set_index('id')"
   ]
  },
  {
   "cell_type": "code",
   "execution_count": 149,
   "id": "c9a129b0-f79a-4f78-aa0d-7c6af7345fa3",
   "metadata": {},
   "outputs": [
    {
     "data": {
      "text/plain": [
       "state                 NY\n",
       "city            New York\n",
       "zipcode            10000\n",
       "num                  214\n",
       "stname     N 11th Street\n",
       "boro                <NA>\n",
       "Name: 162, dtype: object"
      ]
     },
     "execution_count": 149,
     "metadata": {},
     "output_type": "execute_result"
    }
   ],
   "source": [
    "# trxns_georef.loc[162]"
   ]
  },
  {
   "cell_type": "code",
   "execution_count": 49,
   "id": "faf6d55e-bfc3-4739-9f3c-aba1493e8e1e",
   "metadata": {},
   "outputs": [
    {
     "name": "stderr",
     "output_type": "stream",
     "text": [
      "/var/folders/v2/l685f8rj7jn4flt11pny4lsr0000gq/T/ipykernel_54067/3608071803.py:1: FutureWarning: The pandas.np module is deprecated and will be removed from pandas in a future version. Import numpy directly instead\n",
      "  trxns = trxns.replace({'NO DATA PROVIDED':pd.np.nan})\n"
     ]
    }
   ],
   "source": [
    "trxns = trxns.replace({'NO DATA PROVIDED':pd.np.nan})\n",
    "trxns['state'] = trxns['state'].replace('New York', 'NY').str.upper()\n",
    "trxns['sale_id'] = trxns['sale_id'].astype(pd.Int64Dtype())"
   ]
  },
  {
   "cell_type": "code",
   "execution_count": 43,
   "id": "0482590c-bfc7-4525-9a5b-743cd5f38ef5",
   "metadata": {},
   "outputs": [],
   "source": [
    "mask = trxns[['addr_line' ]].notnull().all(1)"
   ]
  },
  {
   "cell_type": "code",
   "execution_count": 44,
   "id": "ba53fa62-e3ec-4f83-8e86-fae9acabdb64",
   "metadata": {},
   "outputs": [
    {
     "data": {
      "text/plain": [
       "3"
      ]
     },
     "execution_count": 44,
     "metadata": {},
     "output_type": "execute_result"
    }
   ],
   "source": [
    "(~mask).sum()"
   ]
  },
  {
   "cell_type": "code",
   "execution_count": 45,
   "id": "799f717f-e269-4725-88e0-6dab874b28fd",
   "metadata": {},
   "outputs": [],
   "source": [
    "trxns = trxns[mask]"
   ]
  },
  {
   "cell_type": "code",
   "execution_count": 46,
   "id": "44891000-683e-4164-8fbc-10de0c0b0291",
   "metadata": {},
   "outputs": [],
   "source": [
    "def split_address(addr: pd.Series) -> pd.DataFrame:\n",
    "    \"\"\"\n",
    "    Split an address into its components.\n",
    "    \"\"\"\n",
    "    ptrrn = r\"^(?P<num>\\S+)\\s(?P<stname>.+)$\"\n",
    "    return addr.str.extract(ptrrn, expand=True)"
   ]
  },
  {
   "cell_type": "code",
   "execution_count": 47,
   "id": "ef221cf7-0e88-4730-b76b-2366f54c7ef1",
   "metadata": {},
   "outputs": [],
   "source": [
    "trxns[['num', 'stname']] = split_address(trxns['addr_line'])"
   ]
  },
  {
   "cell_type": "code",
   "execution_count": 79,
   "id": "e9df6582-9ee3-47bc-9c0d-6bc493390055",
   "metadata": {},
   "outputs": [],
   "source": [
    "boro_mapping = {\n",
    "    'manhattan': 1,\n",
    "    'brooklyn': 3,\n",
    "    'bk': 3,\n",
    "    'bronx': 2,\n",
    "    'forest hills': 4,\n",
    "    'astoria': 4,\n",
    "    'woodside': 4,\n",
    "    'jackson heights': 4,\n",
    "    'queens': 4,\n",
    "    'sunnyside': 4,\n",
    "    'rego park': 4,\n",
    "    'flushing': 4,\n",
    "    'ridgewood': 4,\n",
    "    'elmhurst': 4,\n",
    "    'jamaica': 4,\n",
    "    'williamsburg': 3,\n",
    "    'long island city': 4\n",
    "}"
   ]
  },
  {
   "cell_type": "code",
   "execution_count": 84,
   "id": "4f00b86e-f4a4-41fc-9764-defdd9c03a35",
   "metadata": {},
   "outputs": [],
   "source": [
    "trxns['boro'] = trxns['city'].str.lower().map(boro_mapping).astype(pd.Int64Dtype())"
   ]
  },
  {
   "cell_type": "code",
   "execution_count": 60,
   "id": "c2c2550b-3374-4e62-a193-5da0d7878e80",
   "metadata": {},
   "outputs": [],
   "source": [
    "# trxns['city'].value_counts().head(30)"
   ]
  },
  {
   "cell_type": "code",
   "execution_count": 85,
   "id": "c8eb1177-9866-4327-b5d6-6ea35acda96a",
   "metadata": {},
   "outputs": [
    {
     "data": {
      "text/html": [
       "<div>\n",
       "<style scoped>\n",
       "    .dataframe tbody tr th:only-of-type {\n",
       "        vertical-align: middle;\n",
       "    }\n",
       "\n",
       "    .dataframe tbody tr th {\n",
       "        vertical-align: top;\n",
       "    }\n",
       "\n",
       "    .dataframe thead th {\n",
       "        text-align: right;\n",
       "    }\n",
       "</style>\n",
       "<table border=\"1\" class=\"dataframe\">\n",
       "  <thead>\n",
       "    <tr style=\"text-align: right;\">\n",
       "      <th></th>\n",
       "      <th>state</th>\n",
       "      <th>city</th>\n",
       "      <th>zip</th>\n",
       "      <th>secondary</th>\n",
       "      <th>addr_line</th>\n",
       "      <th>sale_id</th>\n",
       "      <th>num</th>\n",
       "      <th>stname</th>\n",
       "      <th>boro</th>\n",
       "    </tr>\n",
       "    <tr>\n",
       "      <th>trxn_id</th>\n",
       "      <th></th>\n",
       "      <th></th>\n",
       "      <th></th>\n",
       "      <th></th>\n",
       "      <th></th>\n",
       "      <th></th>\n",
       "      <th></th>\n",
       "      <th></th>\n",
       "      <th></th>\n",
       "    </tr>\n",
       "  </thead>\n",
       "  <tbody>\n",
       "    <tr>\n",
       "      <th>1</th>\n",
       "      <td>NY</td>\n",
       "      <td>New York</td>\n",
       "      <td>10000</td>\n",
       "      <td>5F</td>\n",
       "      <td>61 West 62nd Street</td>\n",
       "      <td>1438036</td>\n",
       "      <td>61</td>\n",
       "      <td>West 62nd Street</td>\n",
       "      <td>&lt;NA&gt;</td>\n",
       "    </tr>\n",
       "    <tr>\n",
       "      <th>3</th>\n",
       "      <td>NY</td>\n",
       "      <td>New York</td>\n",
       "      <td>10000</td>\n",
       "      <td>9C</td>\n",
       "      <td>325 Lexington Ave</td>\n",
       "      <td>1399238</td>\n",
       "      <td>325</td>\n",
       "      <td>Lexington Ave</td>\n",
       "      <td>&lt;NA&gt;</td>\n",
       "    </tr>\n",
       "    <tr>\n",
       "      <th>4</th>\n",
       "      <td>NY</td>\n",
       "      <td>New York</td>\n",
       "      <td>10000</td>\n",
       "      <td>5D</td>\n",
       "      <td>280 Metropolitan Ave</td>\n",
       "      <td>1435614</td>\n",
       "      <td>280</td>\n",
       "      <td>Metropolitan Ave</td>\n",
       "      <td>&lt;NA&gt;</td>\n",
       "    </tr>\n",
       "    <tr>\n",
       "      <th>5</th>\n",
       "      <td>NY</td>\n",
       "      <td>Long Island City</td>\n",
       "      <td>11101</td>\n",
       "      <td>445</td>\n",
       "      <td>27-28 Thomson Avenue</td>\n",
       "      <td>1407899</td>\n",
       "      <td>27-28</td>\n",
       "      <td>Thomson Avenue</td>\n",
       "      <td>4</td>\n",
       "    </tr>\n",
       "    <tr>\n",
       "      <th>6</th>\n",
       "      <td>NY</td>\n",
       "      <td>New York</td>\n",
       "      <td>10000</td>\n",
       "      <td>2203</td>\n",
       "      <td>20 Pine Street</td>\n",
       "      <td>1413486</td>\n",
       "      <td>20</td>\n",
       "      <td>Pine Street</td>\n",
       "      <td>&lt;NA&gt;</td>\n",
       "    </tr>\n",
       "    <tr>\n",
       "      <th>...</th>\n",
       "      <td>...</td>\n",
       "      <td>...</td>\n",
       "      <td>...</td>\n",
       "      <td>...</td>\n",
       "      <td>...</td>\n",
       "      <td>...</td>\n",
       "      <td>...</td>\n",
       "      <td>...</td>\n",
       "      <td>...</td>\n",
       "    </tr>\n",
       "    <tr>\n",
       "      <th>7922</th>\n",
       "      <td>NY</td>\n",
       "      <td>Jackson Heights</td>\n",
       "      <td>11372</td>\n",
       "      <td>2E</td>\n",
       "      <td>34-15 74th St</td>\n",
       "      <td>1587656</td>\n",
       "      <td>34-15</td>\n",
       "      <td>74th St</td>\n",
       "      <td>4</td>\n",
       "    </tr>\n",
       "    <tr>\n",
       "      <th>7924</th>\n",
       "      <td>NY</td>\n",
       "      <td>Brooklyn</td>\n",
       "      <td>11221</td>\n",
       "      <td>3B</td>\n",
       "      <td>725 Lafayette Avenue</td>\n",
       "      <td>&lt;NA&gt;</td>\n",
       "      <td>725</td>\n",
       "      <td>Lafayette Avenue</td>\n",
       "      <td>3</td>\n",
       "    </tr>\n",
       "    <tr>\n",
       "      <th>7929</th>\n",
       "      <td>NY</td>\n",
       "      <td>Jackson Heights</td>\n",
       "      <td>11372</td>\n",
       "      <td>8P</td>\n",
       "      <td>37-31 73 st</td>\n",
       "      <td>1660776</td>\n",
       "      <td>37-31</td>\n",
       "      <td>73 st</td>\n",
       "      <td>4</td>\n",
       "    </tr>\n",
       "    <tr>\n",
       "      <th>7957</th>\n",
       "      <td>NY</td>\n",
       "      <td>Manhattan</td>\n",
       "      <td>10039</td>\n",
       "      <td>1</td>\n",
       "      <td>214 BRADHURST AVENUE</td>\n",
       "      <td>1688573</td>\n",
       "      <td>214</td>\n",
       "      <td>BRADHURST AVENUE</td>\n",
       "      <td>1</td>\n",
       "    </tr>\n",
       "    <tr>\n",
       "      <th>7972</th>\n",
       "      <td>NY</td>\n",
       "      <td>Brooklyn</td>\n",
       "      <td>11201</td>\n",
       "      <td>8H</td>\n",
       "      <td>111 Hicks Street</td>\n",
       "      <td>&lt;NA&gt;</td>\n",
       "      <td>111</td>\n",
       "      <td>Hicks Street</td>\n",
       "      <td>3</td>\n",
       "    </tr>\n",
       "  </tbody>\n",
       "</table>\n",
       "<p>6461 rows × 9 columns</p>\n",
       "</div>"
      ],
      "text/plain": [
       "        state              city    zip  ...    num            stname  boro\n",
       "trxn_id                                 ...                               \n",
       "1          NY          New York  10000  ...     61  West 62nd Street  <NA>\n",
       "3          NY          New York  10000  ...    325     Lexington Ave  <NA>\n",
       "4          NY          New York  10000  ...    280  Metropolitan Ave  <NA>\n",
       "5          NY  Long Island City  11101  ...  27-28    Thomson Avenue     4\n",
       "6          NY          New York  10000  ...     20       Pine Street  <NA>\n",
       "...       ...               ...    ...  ...    ...               ...   ...\n",
       "7922       NY   Jackson Heights  11372  ...  34-15           74th St     4\n",
       "7924       NY          Brooklyn  11221  ...    725  Lafayette Avenue     3\n",
       "7929       NY   Jackson Heights  11372  ...  37-31             73 st     4\n",
       "7957       NY         Manhattan  10039  ...    214  BRADHURST AVENUE     1\n",
       "7972       NY          Brooklyn  11201  ...    111      Hicks Street     3\n",
       "\n",
       "[6461 rows x 9 columns]"
      ]
     },
     "execution_count": 85,
     "metadata": {},
     "output_type": "execute_result"
    }
   ],
   "source": [
    "trxns"
   ]
  },
  {
   "cell_type": "code",
   "execution_count": 97,
   "id": "75f2decc-55ff-41fb-a70e-21bff29d1199",
   "metadata": {},
   "outputs": [],
   "source": [
    "trxns['state'] = trxns['state'].fillna('NY').replace('', 'NY')"
   ]
  },
  {
   "cell_type": "code",
   "execution_count": 98,
   "id": "a8a6ffc0-bad0-4880-a63b-ddb7f4dfc014",
   "metadata": {},
   "outputs": [],
   "source": [
    "trxns.index.name = 'trxn_id'"
   ]
  },
  {
   "cell_type": "code",
   "execution_count": 99,
   "id": "25d21886-7f26-44db-93b6-8c2387771e1d",
   "metadata": {},
   "outputs": [],
   "source": [
    "trxns['city'] = trxns['city'].replace('', pd.NA)"
   ]
  },
  {
   "cell_type": "code",
   "execution_count": 100,
   "id": "e7da8acb-e2e4-4ef6-ba14-78988ecc080f",
   "metadata": {},
   "outputs": [],
   "source": [
    "COLS = ['state', 'city', 'zipcode', 'num', 'stname', 'boro']"
   ]
  },
  {
   "cell_type": "code",
   "execution_count": 101,
   "id": "94799a74-b7c6-4d37-8ee5-e8200d1e06c0",
   "metadata": {},
   "outputs": [],
   "source": [
    "columns = {\n",
    "    'secondary': 'unit',\n",
    "    'zip': 'zipcode'\n",
    "}\n",
    "\n",
    "trxns_georef = trxns.rename(columns=columns)"
   ]
  },
  {
   "cell_type": "code",
   "execution_count": 102,
   "id": "aebdf12b-27e8-4901-b4b5-e3b64a669ef0",
   "metadata": {},
   "outputs": [],
   "source": [
    "trxns_georef = trxns_georef[COLS]"
   ]
  },
  {
   "cell_type": "markdown",
   "id": "08b3bc04-4f0b-4a8c-b90c-a19d90c881a2",
   "metadata": {},
   "source": [
    "## GeoRef\n"
   ]
  },
  {
   "cell_type": "code",
   "execution_count": 103,
   "id": "a8e7d433-c382-42b9-9c76-cafe0a5a32f7",
   "metadata": {},
   "outputs": [],
   "source": [
    "iteration_config = dict(\n",
    "        tries=3,\n",
    "        sleep_between_retries=1,\n",
    "        sleep_between_rows=0,\n",
    "        chunk_size=100,  # smaller chunks will be slower, but more finegrained to problematic rows\n",
    "    )"
   ]
  },
  {
   "cell_type": "code",
   "execution_count": 88,
   "id": "7a840751-c458-4095-ba54-4dd5fccde770",
   "metadata": {},
   "outputs": [],
   "source": [
    "gc = GeorefGeocoder(\n",
    "    endpoint='prod', iteration_config=iteration_config\n",
    ")\n",
    "# geocoding"
   ]
  },
  {
   "cell_type": "code",
   "execution_count": 104,
   "id": "26fd0da8-13a9-4c9c-b7c2-d425200da98c",
   "metadata": {},
   "outputs": [
    {
     "name": "stderr",
     "output_type": "stream",
     "text": [
      "Executing attempt 0/3: 100%|███████████████████████████████████████████████████████████████████████| 6461/6461 [2:09:56<00:00,  1.21s/it]\n"
     ]
    }
   ],
   "source": [
    "result, errors = gc.bulk_geocode(trxns_georef)"
   ]
  },
  {
   "cell_type": "code",
   "execution_count": 28,
   "id": "c5129ce1-fd8f-4cf7-9704-2de34585af00",
   "metadata": {},
   "outputs": [],
   "source": [
    "# result[:2]"
   ]
  },
  {
   "cell_type": "code",
   "execution_count": 10,
   "id": "658ebd2d-abc7-475a-9a99-4487818ff88c",
   "metadata": {},
   "outputs": [],
   "source": [
    "# set(trxns.columns).issubset({\"addr_line\", \"zip\", \"city\", \"state\", \"secondary\"})"
   ]
  },
  {
   "cell_type": "code",
   "execution_count": 126,
   "id": "58291f61-5858-4a4b-b0a0-df925823f165",
   "metadata": {},
   "outputs": [],
   "source": [
    "with open('./data/georef_response.jsonl', 'w') as f:\n",
    "    s = dicts_to_jsonl(result)\n",
    "    f.write(s)"
   ]
  },
  {
   "cell_type": "markdown",
   "id": "5420d22e-e562-4981-a31c-49667c4f03a4",
   "metadata": {},
   "source": [
    "## Analysis"
   ]
  },
  {
   "cell_type": "code",
   "execution_count": 147,
   "id": "7cd9b4d1-cefa-40ae-b69d-ecd9e574a0d3",
   "metadata": {},
   "outputs": [
    {
     "data": {
      "text/plain": [
       "state                 NY\n",
       "city            New York\n",
       "zipcode            10000\n",
       "num                  214\n",
       "stname     N 11th Street\n",
       "boro                <NA>\n",
       "Name: 162, dtype: object"
      ]
     },
     "execution_count": 147,
     "metadata": {},
     "output_type": "execute_result"
    }
   ],
   "source": [
    "trxns_georef.loc[162]"
   ]
  },
  {
   "cell_type": "code",
   "execution_count": 115,
   "id": "a4f4fed2-1682-48e5-aa9c-b6c2f1120342",
   "metadata": {},
   "outputs": [],
   "source": [
    "georef_result = pd.DataFrame({el['trxn_id']: el.get('centroid_lot', {}) for el in result}).T"
   ]
  },
  {
   "cell_type": "code",
   "execution_count": 120,
   "id": "bf476ab7-8481-4eea-81ed-bedf0c91cd90",
   "metadata": {},
   "outputs": [
    {
     "data": {
      "text/plain": [
       "211"
      ]
     },
     "execution_count": 120,
     "metadata": {},
     "output_type": "execute_result"
    }
   ],
   "source": [
    "georef_result.reindex(trxns_georef.index)['lon'].isnull().sum()"
   ]
  },
  {
   "cell_type": "code",
   "execution_count": 119,
   "id": "19e32cbc-f449-41a3-8e73-ed067a2291e6",
   "metadata": {},
   "outputs": [
    {
     "data": {
      "text/plain": [
       "0.03265748336170871"
      ]
     },
     "execution_count": 119,
     "metadata": {},
     "output_type": "execute_result"
    }
   ],
   "source": [
    "georef_result.reindex(trxns_georef.index)['lon'].isnull().mean()"
   ]
  },
  {
   "cell_type": "code",
   "execution_count": 144,
   "id": "1bdc5ab8-f3f0-469a-9b94-d24af50e6ec8",
   "metadata": {},
   "outputs": [],
   "source": [
    "# georef_result"
   ]
  },
  {
   "cell_type": "markdown",
   "id": "66bf1e49-2e88-4f89-a3ce-a475c25ee438",
   "metadata": {},
   "source": [
    "# Compare to Malone"
   ]
  },
  {
   "cell_type": "code",
   "execution_count": 132,
   "id": "957f81d8-5b2a-4c5d-bb9b-f763c73de6fb",
   "metadata": {},
   "outputs": [],
   "source": [
    "with open('./data/malone_response.jsonl', 'r') as f:\n",
    "    r = []\n",
    "    for line in f.readlines():\n",
    "        r.append(json.loads(line))\n",
    "    "
   ]
  },
  {
   "cell_type": "code",
   "execution_count": 140,
   "id": "89871772-656e-47b3-b757-5074205158fd",
   "metadata": {},
   "outputs": [
    {
     "data": {
      "text/plain": [
       "dict_keys(['latitude', 'longitude', 'precision', 'srid'])"
      ]
     },
     "execution_count": 140,
     "metadata": {},
     "output_type": "execute_result"
    }
   ],
   "source": [
    "r[0]['response']['address']['geo'].keys()"
   ]
  },
  {
   "cell_type": "code",
   "execution_count": 145,
   "id": "07bff79c-1e31-4c1c-8d63-3792144d294e",
   "metadata": {},
   "outputs": [],
   "source": [
    "malone_results = pd.DataFrame({\n",
    "    el['trxn_id']: el['response']['address'].get('geo') for el in r\n",
    "}).T"
   ]
  },
  {
   "cell_type": "code",
   "execution_count": null,
   "id": "7cc42ae1-88fd-46ca-b599-4ae4ba307d42",
   "metadata": {},
   "outputs": [],
   "source": []
  }
 ],
 "metadata": {
  "kernelspec": {
   "display_name": "py39",
   "language": "python",
   "name": "py39"
  },
  "language_info": {
   "codemirror_mode": {
    "name": "ipython",
    "version": 3
   },
   "file_extension": ".py",
   "mimetype": "text/x-python",
   "name": "python",
   "nbconvert_exporter": "python",
   "pygments_lexer": "ipython3",
   "version": "3.9.7"
  }
 },
 "nbformat": 4,
 "nbformat_minor": 5
}
