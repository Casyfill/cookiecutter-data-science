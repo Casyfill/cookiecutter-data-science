{
 "cells": [
  {
   "cell_type": "code",
   "execution_count": 1,
   "id": "ac8d9978-8457-4cd3-be84-8bd5ba09b129",
   "metadata": {},
   "outputs": [],
   "source": [
    "import pandas as pd\n",
    "from pathlib import Path\n",
    "import seaborn as sns\n",
    "\n",
    "from SE.snowflake import _get_DF"
   ]
  },
  {
   "cell_type": "code",
   "execution_count": 2,
   "id": "71d72497-db58-404b-b21e-a8bd4791b2ee",
   "metadata": {},
   "outputs": [
    {
     "name": "stdout",
     "output_type": "stream",
     "text": [
      "/Users/philippk/Dropbox/se_projects/DATA_PIPELINES/data_engineering/experts_transaction_matching/notebooks\n"
     ]
    }
   ],
   "source": [
    "!pwd"
   ]
  },
  {
   "cell_type": "code",
   "execution_count": 3,
   "id": "0296b478-98b0-4f48-ba6d-f54c1883ec4b",
   "metadata": {},
   "outputs": [],
   "source": [
    "files = Path('./data/candidates_georef_v4').glob('*.parquet')"
   ]
  },
  {
   "cell_type": "code",
   "execution_count": 4,
   "id": "7dd68711-fa86-435e-8763-c2b4347fa06a",
   "metadata": {},
   "outputs": [],
   "source": [
    "df = pd.concat([pd.read_parquet(str(f)) for f in files])"
   ]
  },
  {
   "cell_type": "code",
   "execution_count": 5,
   "id": "49e9e078-3b22-4b29-9086-1aef393be998",
   "metadata": {},
   "outputs": [
    {
     "data": {
      "text/plain": [
       "(1075314, 40)"
      ]
     },
     "execution_count": 5,
     "metadata": {},
     "output_type": "execute_result"
    }
   ],
   "source": [
    "df.shape"
   ]
  },
  {
   "cell_type": "code",
   "execution_count": 6,
   "id": "4de8e374-5713-41ca-8863-20e68e16a73c",
   "metadata": {},
   "outputs": [
    {
     "data": {
      "text/plain": [
       "5908"
      ]
     },
     "execution_count": 6,
     "metadata": {},
     "output_type": "execute_result"
    }
   ],
   "source": [
    "df['trxn_id'].nunique()"
   ]
  },
  {
   "cell_type": "code",
   "execution_count": 7,
   "id": "6876a8de-0126-4c22-93a3-f86a6ac9dd9d",
   "metadata": {},
   "outputs": [],
   "source": [
    "df['matched'] = df['sale_id'] == df['correct_sale_id']"
   ]
  },
  {
   "cell_type": "code",
   "execution_count": 8,
   "id": "d376e31e-b45c-4282-961f-2f3e0ce023b1",
   "metadata": {},
   "outputs": [
    {
     "data": {
      "text/plain": [
       "0.003239983855878376"
      ]
     },
     "execution_count": 8,
     "metadata": {},
     "output_type": "execute_result"
    }
   ],
   "source": [
    "df['matched'].mean()"
   ]
  },
  {
   "cell_type": "code",
   "execution_count": 9,
   "id": "227f959e-b918-408f-b404-0a2af9c14216",
   "metadata": {},
   "outputs": [
    {
     "data": {
      "text/plain": [
       "0.003239983855878376"
      ]
     },
     "execution_count": 9,
     "metadata": {},
     "output_type": "execute_result"
    }
   ],
   "source": [
    "df['matched'].mean()"
   ]
  },
  {
   "cell_type": "code",
   "execution_count": 10,
   "id": "49f21523-a847-4820-86ed-a252e68a5e45",
   "metadata": {},
   "outputs": [
    {
     "name": "stdout",
     "output_type": "stream",
     "text": [
      "For 3,646 Actually Matched Transactions, only 3,484 (95.6%) are in candidate pools\n"
     ]
    }
   ],
   "source": [
    "correct_cnt = (df['sale_id'] == df['correct_sale_id']).sum()\n",
    "matched_cnt = df['correct_sale_id'].nunique()\n",
    "\n",
    "print(f\"For {matched_cnt:,d} Actually Matched Transactions, only {correct_cnt:,d} ({correct_cnt/matched_cnt:,.1%}) are in candidate pools\")"
   ]
  },
  {
   "cell_type": "code",
   "execution_count": 12,
   "id": "1687f8f2-be6b-400c-b2f1-fa02b3dd4ee8",
   "metadata": {},
   "outputs": [],
   "source": [
    "mask = df.groupby('correct_sale_id')['matched'].agg('any')"
   ]
  },
  {
   "cell_type": "code",
   "execution_count": 19,
   "id": "6475847c-9ccd-430e-b017-788714f64178",
   "metadata": {},
   "outputs": [
    {
     "data": {
      "text/plain": [
       "172"
      ]
     },
     "execution_count": 19,
     "metadata": {},
     "output_type": "execute_result"
    }
   ],
   "source": [
    "mask[~mask].index.nunique()"
   ]
  },
  {
   "cell_type": "code",
   "execution_count": 102,
   "id": "9aede32f-e9a2-4494-86e2-a4f3c917ce61",
   "metadata": {},
   "outputs": [],
   "source": [
    "# mask"
   ]
  },
  {
   "cell_type": "code",
   "execution_count": 20,
   "id": "bfb733d9-af80-421b-ae97-1b8c63d1312f",
   "metadata": {},
   "outputs": [],
   "source": [
    "NONMATCHED = set((int(el) for el in mask[~mask].index if el > 0))"
   ]
  },
  {
   "cell_type": "code",
   "execution_count": 22,
   "id": "d18a7802-3df4-49fe-bca3-de42fb2f3714",
   "metadata": {},
   "outputs": [],
   "source": [
    "# NONMATCHED"
   ]
  },
  {
   "cell_type": "markdown",
   "id": "cb6a9a8e-82b4-4052-8318-da818b5b45a8",
   "metadata": {},
   "source": [
    "## Retreive Unmatched"
   ]
  },
  {
   "cell_type": "code",
   "execution_count": 23,
   "id": "16e45d52-c1c2-4dcf-bfd5-e98010d2c778",
   "metadata": {},
   "outputs": [],
   "source": [
    "with open('./unmatched.sql', 'r') as f:\n",
    "    q = f.read()"
   ]
  },
  {
   "cell_type": "code",
   "execution_count": 24,
   "id": "07d50bf9-d896-4a02-b552-c58945e4870f",
   "metadata": {},
   "outputs": [
    {
     "name": "stderr",
     "output_type": "stream",
     "text": [
      "/Users/philippk/opt/anaconda3/envs/py37/lib/python3.7/site-packages/snowflake/connector/options.py:99: UserWarning: You have an incompatible version of 'pyarrow' installed (3.0.0), please install a version that adheres to: 'pyarrow<6.1.0,>=6.0.0; extra == \"pandas\"'\n",
      "  _expected_pyarrow_version,\n"
     ]
    }
   ],
   "source": [
    "unmatched = _get_DF(q).set_index('trxn_id')"
   ]
  },
  {
   "cell_type": "code",
   "execution_count": 25,
   "id": "1f94b079-1998-4824-8128-44775af0e5b8",
   "metadata": {},
   "outputs": [
    {
     "data": {
      "text/plain": [
       "1566913.0    2\n",
       "1655975.0    2\n",
       "1512872.0    2\n",
       "1618614.0    2\n",
       "1550112.0    2\n",
       "Name: correct_sale_id, dtype: int64"
      ]
     },
     "execution_count": 25,
     "metadata": {},
     "output_type": "execute_result"
    }
   ],
   "source": [
    "unmatched['correct_sale_id'].value_counts().head(5)"
   ]
  },
  {
   "cell_type": "code",
   "execution_count": 26,
   "id": "b120c4ce-755c-4f9f-a30d-7fd0af230a7e",
   "metadata": {},
   "outputs": [],
   "source": [
    "m = unmatched['correct_sale_id'].value_counts()"
   ]
  },
  {
   "cell_type": "code",
   "execution_count": 27,
   "id": "a418e218-a8f8-444e-9476-d5c6a0f8baa8",
   "metadata": {},
   "outputs": [
    {
     "data": {
      "text/plain": [
       "[1566913,\n",
       " 1655975,\n",
       " 1512872,\n",
       " 1618614,\n",
       " 1550112,\n",
       " 1621731,\n",
       " 1663510,\n",
       " 1506663,\n",
       " 1624596,\n",
       " 1608026,\n",
       " 1558640,\n",
       " 1631535,\n",
       " 1471865]"
      ]
     },
     "execution_count": 27,
     "metadata": {},
     "output_type": "execute_result"
    }
   ],
   "source": [
    "list((int(el) for el in m[(m > 1)].index))"
   ]
  },
  {
   "cell_type": "code",
   "execution_count": 28,
   "id": "fc7d0f36-1727-48aa-8607-6277fbcaa60c",
   "metadata": {},
   "outputs": [],
   "source": [
    "# NONMATCHED"
   ]
  },
  {
   "cell_type": "code",
   "execution_count": 29,
   "id": "bc9894c0-54f8-40c7-a1a5-01833c5a0581",
   "metadata": {},
   "outputs": [
    {
     "data": {
      "text/plain": [
       "(171, 40)"
      ]
     },
     "execution_count": 29,
     "metadata": {},
     "output_type": "execute_result"
    }
   ],
   "source": [
    "mask = unmatched['correct_sale_id'].isin(NONMATCHED)\n",
    "unmatched[mask].shape"
   ]
  },
  {
   "cell_type": "code",
   "execution_count": 30,
   "id": "d138a7d8-631a-45a2-9377-1c8ee1e209c3",
   "metadata": {},
   "outputs": [],
   "source": [
    "unmatched = unmatched[mask]"
   ]
  },
  {
   "cell_type": "code",
   "execution_count": 32,
   "id": "d03ace8f-d2cd-4360-8c6f-72e677762352",
   "metadata": {},
   "outputs": [],
   "source": [
    "# unmatched[unmatched.correct_sale_id == 1471865.0]"
   ]
  },
  {
   "cell_type": "code",
   "execution_count": 33,
   "id": "2a6c3d5e-f226-434b-82c5-60165b428168",
   "metadata": {},
   "outputs": [],
   "source": [
    "filter_params = dict(\n",
    "    price_lim=(-0.1, 0.55),\n",
    "    day_lim=(-45, 45),\n",
    "    distance=250\n",
    ")"
   ]
  },
  {
   "cell_type": "code",
   "execution_count": 34,
   "id": "1ae09767-1b6e-43e5-bbe2-c687fa970eb3",
   "metadata": {},
   "outputs": [],
   "source": [
    "## WHy didn't get into Pool?\n",
    "# unmatched"
   ]
  },
  {
   "cell_type": "code",
   "execution_count": 35,
   "id": "dafc7387-50de-44b4-9f77-1e1a91b6cd5d",
   "metadata": {},
   "outputs": [],
   "source": [
    "# unmatched[['spatial', 'days', 'price_pct_diff']]"
   ]
  },
  {
   "cell_type": "code",
   "execution_count": 36,
   "id": "9e8c477d-8aa7-47a9-9b99-a01d6536d529",
   "metadata": {},
   "outputs": [],
   "source": [
    "violations = pd.DataFrame({\n",
    "    'distance_v': (unmatched['spatial'] > filter_params['distance']),\n",
    "    'days_v': (~unmatched['days'].between(filter_params['day_lim'][0], filter_params['day_lim'][1])),\n",
    "    'price_v': (~unmatched['price_pct_diff'].between(filter_params['price_lim'][0], filter_params['price_lim'][1]))           \n",
    "}, index=unmatched.index)"
   ]
  },
  {
   "cell_type": "code",
   "execution_count": 37,
   "id": "8e923c0f-708d-4740-a404-634b6336c53f",
   "metadata": {},
   "outputs": [
    {
     "data": {
      "text/html": [
       "<div>\n",
       "<style scoped>\n",
       "    .dataframe tbody tr th:only-of-type {\n",
       "        vertical-align: middle;\n",
       "    }\n",
       "\n",
       "    .dataframe tbody tr th {\n",
       "        vertical-align: top;\n",
       "    }\n",
       "\n",
       "    .dataframe thead th {\n",
       "        text-align: right;\n",
       "    }\n",
       "</style>\n",
       "<table border=\"1\" class=\"dataframe\">\n",
       "  <thead>\n",
       "    <tr style=\"text-align: right;\">\n",
       "      <th></th>\n",
       "      <th>distance_v</th>\n",
       "      <th>days_v</th>\n",
       "      <th>price_v</th>\n",
       "    </tr>\n",
       "    <tr>\n",
       "      <th>trxn_id</th>\n",
       "      <th></th>\n",
       "      <th></th>\n",
       "      <th></th>\n",
       "    </tr>\n",
       "  </thead>\n",
       "  <tbody>\n",
       "    <tr>\n",
       "      <th>44</th>\n",
       "      <td>False</td>\n",
       "      <td>True</td>\n",
       "      <td>False</td>\n",
       "    </tr>\n",
       "    <tr>\n",
       "      <th>65</th>\n",
       "      <td>False</td>\n",
       "      <td>True</td>\n",
       "      <td>False</td>\n",
       "    </tr>\n",
       "    <tr>\n",
       "      <th>70</th>\n",
       "      <td>False</td>\n",
       "      <td>True</td>\n",
       "      <td>False</td>\n",
       "    </tr>\n",
       "    <tr>\n",
       "      <th>102</th>\n",
       "      <td>False</td>\n",
       "      <td>True</td>\n",
       "      <td>False</td>\n",
       "    </tr>\n",
       "    <tr>\n",
       "      <th>111</th>\n",
       "      <td>False</td>\n",
       "      <td>True</td>\n",
       "      <td>False</td>\n",
       "    </tr>\n",
       "    <tr>\n",
       "      <th>...</th>\n",
       "      <td>...</td>\n",
       "      <td>...</td>\n",
       "      <td>...</td>\n",
       "    </tr>\n",
       "    <tr>\n",
       "      <th>7236</th>\n",
       "      <td>False</td>\n",
       "      <td>True</td>\n",
       "      <td>True</td>\n",
       "    </tr>\n",
       "    <tr>\n",
       "      <th>7304</th>\n",
       "      <td>False</td>\n",
       "      <td>True</td>\n",
       "      <td>False</td>\n",
       "    </tr>\n",
       "    <tr>\n",
       "      <th>7342</th>\n",
       "      <td>False</td>\n",
       "      <td>True</td>\n",
       "      <td>True</td>\n",
       "    </tr>\n",
       "    <tr>\n",
       "      <th>7639</th>\n",
       "      <td>False</td>\n",
       "      <td>True</td>\n",
       "      <td>True</td>\n",
       "    </tr>\n",
       "    <tr>\n",
       "      <th>7866</th>\n",
       "      <td>False</td>\n",
       "      <td>True</td>\n",
       "      <td>False</td>\n",
       "    </tr>\n",
       "  </tbody>\n",
       "</table>\n",
       "<p>171 rows × 3 columns</p>\n",
       "</div>"
      ],
      "text/plain": [
       "         distance_v  days_v  price_v\n",
       "trxn_id                             \n",
       "44            False    True    False\n",
       "65            False    True    False\n",
       "70            False    True    False\n",
       "102           False    True    False\n",
       "111           False    True    False\n",
       "...             ...     ...      ...\n",
       "7236          False    True     True\n",
       "7304          False    True    False\n",
       "7342          False    True     True\n",
       "7639          False    True     True\n",
       "7866          False    True    False\n",
       "\n",
       "[171 rows x 3 columns]"
      ]
     },
     "execution_count": 37,
     "metadata": {},
     "output_type": "execute_result"
    }
   ],
   "source": [
    "violations #[~violations.any(axis=1)].head(10)"
   ]
  },
  {
   "cell_type": "code",
   "execution_count": 38,
   "id": "4ca39661-c094-4bc2-9466-aeedb6a2835e",
   "metadata": {},
   "outputs": [
    {
     "data": {
      "text/plain": [
       "distance_v     15\n",
       "days_v        158\n",
       "price_v        45\n",
       "dtype: int64"
      ]
     },
     "execution_count": 38,
     "metadata": {},
     "output_type": "execute_result"
    }
   ],
   "source": [
    "violations.sum()"
   ]
  },
  {
   "cell_type": "code",
   "execution_count": 39,
   "id": "5cb2bebd-8180-4d00-93eb-b63b905a9566",
   "metadata": {},
   "outputs": [
    {
     "data": {
      "text/plain": [
       "<AxesSubplot:xlabel='spatial', ylabel='Count'>"
      ]
     },
     "execution_count": 39,
     "metadata": {},
     "output_type": "execute_result"
    },
    {
     "data": {
      "image/png": "[encoded data removed]",
      "text/plain": [
       "<Figure size 432x288 with 1 Axes>"
      ]
     },
     "metadata": {
      "needs_background": "light"
     },
     "output_type": "display_data"
    }
   ],
   "source": [
    "sns.histplot(unmatched.loc[violations['distance_v']], x='spatial', bins=50)"
   ]
  },
  {
   "cell_type": "code",
   "execution_count": 40,
   "id": "dfdfeb1c-fb61-4bb8-85d2-ba533103a6fa",
   "metadata": {},
   "outputs": [
    {
     "data": {
      "text/plain": [
       "<AxesSubplot:xlabel='days', ylabel='Count'>"
      ]
     },
     "execution_count": 40,
     "metadata": {},
     "output_type": "execute_result"
    },
    {
     "data": {
      "image/png": "[encoded data removed]",
      "text/plain": [
       "<Figure size 432x288 with 1 Axes>"
      ]
     },
     "metadata": {
      "needs_background": "light"
     },
     "output_type": "display_data"
    }
   ],
   "source": [
    "sns.histplot(unmatched.loc[violations['days_v']], x='days', bins=50)"
   ]
  },
  {
   "cell_type": "code",
   "execution_count": 41,
   "id": "238386db-2ade-4986-afcb-629c51a7f022",
   "metadata": {},
   "outputs": [
    {
     "data": {
      "text/plain": [
       "0.0379746835443038"
      ]
     },
     "execution_count": 41,
     "metadata": {},
     "output_type": "execute_result"
    }
   ],
   "source": [
    "unmatched.loc[violations['days_v'], 'days'].between(45, 90).mean()"
   ]
  },
  {
   "cell_type": "code",
   "execution_count": 42,
   "id": "93c1716b-5684-411f-bbfa-4ab0e1298ed7",
   "metadata": {},
   "outputs": [
    {
     "data": {
      "text/plain": [
       "0.012658227848101266"
      ]
     },
     "execution_count": 42,
     "metadata": {},
     "output_type": "execute_result"
    }
   ],
   "source": [
    "unmatched.loc[violations['days_v'], 'days'].between(-90, -45).mean()"
   ]
  },
  {
   "cell_type": "code",
   "execution_count": 43,
   "id": "a69e85f3-64dd-42b9-a679-c99382034fd1",
   "metadata": {},
   "outputs": [
    {
     "data": {
      "text/plain": [
       "<AxesSubplot:xlabel='price_pct_diff', ylabel='Count'>"
      ]
     },
     "execution_count": 43,
     "metadata": {},
     "output_type": "execute_result"
    },
    {
     "data": {
      "image/png": "[encoded data removed]",
      "text/plain": [
       "<Figure size 432x288 with 1 Axes>"
      ]
     },
     "metadata": {
      "needs_background": "light"
     },
     "output_type": "display_data"
    }
   ],
   "source": [
    "sns.histplot(unmatched.loc[violations['price_v']], x='price_pct_diff', bins=50)"
   ]
  },
  {
   "cell_type": "code",
   "execution_count": 44,
   "id": "58fa4a62-d6fe-4db5-8674-4562540aa5ec",
   "metadata": {},
   "outputs": [
    {
     "data": {
      "text/plain": [
       "0.4444444444444444"
      ]
     },
     "execution_count": 44,
     "metadata": {},
     "output_type": "execute_result"
    }
   ],
   "source": [
    "unmatched.loc[violations['price_v'], 'price_pct_diff'].between(-0.25, -0.1).mean()"
   ]
  },
  {
   "cell_type": "code",
   "execution_count": 45,
   "id": "af2a0286-6922-494c-9d76-5b72f5ef8745",
   "metadata": {},
   "outputs": [
    {
     "data": {
      "text/plain": [
       "{'matched', 'trxn_id'}"
      ]
     },
     "execution_count": 45,
     "metadata": {},
     "output_type": "execute_result"
    }
   ],
   "source": [
    "set(df.columns) - set(unmatched.columns)"
   ]
  },
  {
   "cell_type": "code",
   "execution_count": 46,
   "id": "4b363bf0-4a15-42d0-afd3-582f6d54e4c9",
   "metadata": {},
   "outputs": [
    {
     "data": {
      "text/plain": [
       "{'status'}"
      ]
     },
     "execution_count": 46,
     "metadata": {},
     "output_type": "execute_result"
    }
   ],
   "source": [
    "set(unmatched.columns) - set(df.columns)"
   ]
  },
  {
   "cell_type": "code",
   "execution_count": 47,
   "id": "4cf6ca1b-c333-4e7e-9620-89b2ab3ab6b1",
   "metadata": {},
   "outputs": [],
   "source": [
    "unmatched.to_parquet('./data/candidates_georef_v4/unmatched.parquet')"
   ]
  },
  {
   "cell_type": "code",
   "execution_count": null,
   "id": "8bc65817-281f-471e-aa5d-ebdedd3ba1fd",
   "metadata": {},
   "outputs": [],
   "source": []
  }
 ],
 "metadata": {
  "kernelspec": {
   "display_name": "Python (py37)",
   "language": "python",
   "name": "py37"
  },
  "language_info": {
   "codemirror_mode": {
    "name": "ipython",
    "version": 3
   },
   "file_extension": ".py",
   "mimetype": "text/x-python",
   "name": "python",
   "nbconvert_exporter": "python",
   "pygments_lexer": "ipython3",
   "version": "3.7.8"
  }
 },
 "nbformat": 4,
 "nbformat_minor": 5
}
